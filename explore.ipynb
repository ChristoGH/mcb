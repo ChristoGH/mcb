{
 "cells": [
  {
   "cell_type": "markdown",
   "metadata": {},
   "source": [
    "![title](/media/lnr-ai/christo/github_repos/mcb/img/Screenshot from 2020-03-10 05-52-40.png)"
   ]
  },
  {
   "cell_type": "code",
   "execution_count": 2,
   "metadata": {},
   "outputs": [
    {
     "data": {
      "image/png": "[encoded data removed]",
      "text/plain": [
       "<IPython.core.display.Image object>"
      ]
     },
     "execution_count": 2,
     "metadata": {},
     "output_type": "execute_result"
    }
   ],
   "source": [
    "from IPython.display import Image\n",
    "Image(filename='/media/lnr-ai/christo/github_repos/mcb/img/Screenshot from 2020-03-10 05-52-40.png')"
   ]
  },
  {
   "cell_type": "code",
   "execution_count": 3,
   "metadata": {},
   "outputs": [],
   "source": [
    "from wand.image import Image as WImage"
   ]
  },
  {
   "cell_type": "code",
   "execution_count": 4,
   "metadata": {},
   "outputs": [],
   "source": [
    "# sudo mv /etc/ImageMagick-6/policy.xml /etc/ImageMagick-6/policy.xml.off\n",
    "# img = WImage(filename='/media/lnr-ai/christo/github_repos/mcb/data/Data Scientist Case Study Exercise - Dec 2019.pdf')\n",
    "# img"
   ]
  },
  {
   "cell_type": "markdown",
   "metadata": {},
   "source": [
    "### Import required libraries:"
   ]
  },
  {
   "cell_type": "code",
   "execution_count": 69,
   "metadata": {},
   "outputs": [],
   "source": [
    "import pandas as pd\n",
    "import numpy as np"
   ]
  },
  {
   "cell_type": "markdown",
   "metadata": {},
   "source": [
    "### Define constants and filenames:"
   ]
  },
  {
   "cell_type": "code",
   "execution_count": 6,
   "metadata": {},
   "outputs": [],
   "source": [
    "file_path = '/media/lnr-ai/christo/github_repos/mcb/data/'\n",
    "glossary_fname = 'Glossary.xlsx'\n",
    "customer_fname = 'customer.csv'\n",
    "account_fname = 'account.csv'\n",
    "transaction_fname = 'transaction.csv'"
   ]
  },
  {
   "cell_type": "markdown",
   "metadata": {},
   "source": [
    "```\n",
    "account.csv\n",
    "customer.csv\n",
    "transaction.csv\n",
    "Glossary.xlsx\n",
    "```"
   ]
  },
  {
   "cell_type": "markdown",
   "metadata": {},
   "source": [
    "### Read glossary definitions; store in dataframes:"
   ]
  },
  {
   "cell_type": "code",
   "execution_count": 7,
   "metadata": {},
   "outputs": [],
   "source": [
    "# glossary_fname = 'Glossary.xlsx'\n",
    "account_glossary_df=pd.read_excel(io=file_path+glossary_fname, sheet_name='Accounts')\n",
    "customer_glossary_df=pd.read_excel(io=file_path+glossary_fname, sheet_name='Customer')\n",
    "transaction_glossary_df=pd.read_excel(io=file_path+glossary_fname, sheet_name='Transactions')"
   ]
  },
  {
   "cell_type": "markdown",
   "metadata": {},
   "source": [
    "### Load .csv files and rename:"
   ]
  },
  {
   "cell_type": "code",
   "execution_count": 62,
   "metadata": {},
   "outputs": [],
   "source": [
    "customer_df=pd.read_csv(filepath_or_buffer=file_path+customer_fname)\n",
    "account_df=pd.read_csv(filepath_or_buffer=file_path+account_fname)\n",
    "transaction_df=pd.read_csv(filepath_or_buffer=file_path+transaction_fname)"
   ]
  },
  {
   "cell_type": "markdown",
   "metadata": {},
   "source": [
    "## Look at the Customer file:"
   ]
  },
  {
   "cell_type": "markdown",
   "metadata": {},
   "source": [
    "### Headings:"
   ]
  },
  {
   "cell_type": "code",
   "execution_count": 9,
   "metadata": {},
   "outputs": [
    {
     "data": {
      "text/plain": [
       "['CIR',\n",
       " 'RUN_DATE',\n",
       " 'MARKET_SEGMENT_DESCRIPTION',\n",
       " 'RESIDENT_FLAG',\n",
       " 'GENDER',\n",
       " 'MARITAL_STATUS_DESCRIPTION',\n",
       " 'SALARY_AMOUNT',\n",
       " 'NUMBER_OF_DEPENDANTS',\n",
       " 'CERTIFICATION_ACHIEVEMENT_DESCRIPTION']"
      ]
     },
     "execution_count": 9,
     "metadata": {},
     "output_type": "execute_result"
    }
   ],
   "source": [
    "list(customer_df)"
   ]
  },
  {
   "cell_type": "markdown",
   "metadata": {},
   "source": [
    "### Have a peek at the contents:"
   ]
  },
  {
   "cell_type": "code",
   "execution_count": 10,
   "metadata": {},
   "outputs": [
    {
     "data": {
      "text/html": [
       "<div>\n",
       "<style scoped>\n",
       "    .dataframe tbody tr th:only-of-type {\n",
       "        vertical-align: middle;\n",
       "    }\n",
       "\n",
       "    .dataframe tbody tr th {\n",
       "        vertical-align: top;\n",
       "    }\n",
       "\n",
       "    .dataframe thead th {\n",
       "        text-align: right;\n",
       "    }\n",
       "</style>\n",
       "<table border=\"1\" class=\"dataframe\">\n",
       "  <thead>\n",
       "    <tr style=\"text-align: right;\">\n",
       "      <th></th>\n",
       "      <th>CIR</th>\n",
       "      <th>RUN_DATE</th>\n",
       "      <th>MARKET_SEGMENT_DESCRIPTION</th>\n",
       "      <th>RESIDENT_FLAG</th>\n",
       "      <th>GENDER</th>\n",
       "      <th>MARITAL_STATUS_DESCRIPTION</th>\n",
       "      <th>SALARY_AMOUNT</th>\n",
       "      <th>NUMBER_OF_DEPENDANTS</th>\n",
       "      <th>CERTIFICATION_ACHIEVEMENT_DESCRIPTION</th>\n",
       "    </tr>\n",
       "  </thead>\n",
       "  <tbody>\n",
       "    <tr>\n",
       "      <th>0</th>\n",
       "      <td>8803</td>\n",
       "      <td>9/28/2018</td>\n",
       "      <td>SEGMENT 18-25</td>\n",
       "      <td>Y</td>\n",
       "      <td>FEMALE</td>\n",
       "      <td>SINGLE</td>\n",
       "      <td>0.0</td>\n",
       "      <td>NaN</td>\n",
       "      <td>SECONDARY COMPLETE</td>\n",
       "    </tr>\n",
       "    <tr>\n",
       "      <th>1</th>\n",
       "      <td>8803</td>\n",
       "      <td>6/30/2015</td>\n",
       "      <td>SEGMENT 18-25</td>\n",
       "      <td>Y</td>\n",
       "      <td>FEMALE</td>\n",
       "      <td>SINGLE</td>\n",
       "      <td>NaN</td>\n",
       "      <td>NaN</td>\n",
       "      <td>NaN</td>\n",
       "    </tr>\n",
       "    <tr>\n",
       "      <th>2</th>\n",
       "      <td>8803</td>\n",
       "      <td>12/31/2015</td>\n",
       "      <td>SEGMENT 18-25</td>\n",
       "      <td>Y</td>\n",
       "      <td>FEMALE</td>\n",
       "      <td>SINGLE</td>\n",
       "      <td>NaN</td>\n",
       "      <td>NaN</td>\n",
       "      <td>NaN</td>\n",
       "    </tr>\n",
       "    <tr>\n",
       "      <th>3</th>\n",
       "      <td>8803</td>\n",
       "      <td>3/31/2016</td>\n",
       "      <td>SEGMENT 18-25</td>\n",
       "      <td>Y</td>\n",
       "      <td>FEMALE</td>\n",
       "      <td>SINGLE</td>\n",
       "      <td>NaN</td>\n",
       "      <td>NaN</td>\n",
       "      <td>SECONDARY COMPLETE</td>\n",
       "    </tr>\n",
       "    <tr>\n",
       "      <th>4</th>\n",
       "      <td>8803</td>\n",
       "      <td>6/30/2017</td>\n",
       "      <td>SEGMENT 18-25</td>\n",
       "      <td>Y</td>\n",
       "      <td>FEMALE</td>\n",
       "      <td>SINGLE</td>\n",
       "      <td>0.0</td>\n",
       "      <td>NaN</td>\n",
       "      <td>SECONDARY COMPLETE</td>\n",
       "    </tr>\n",
       "  </tbody>\n",
       "</table>\n",
       "</div>"
      ],
      "text/plain": [
       "    CIR    RUN_DATE MARKET_SEGMENT_DESCRIPTION RESIDENT_FLAG      GENDER  \\\n",
       "0  8803   9/28/2018              SEGMENT 18-25             Y      FEMALE   \n",
       "1  8803   6/30/2015              SEGMENT 18-25             Y  FEMALE       \n",
       "2  8803  12/31/2015              SEGMENT 18-25             Y  FEMALE       \n",
       "3  8803   3/31/2016              SEGMENT 18-25             Y  FEMALE       \n",
       "4  8803   6/30/2017              SEGMENT 18-25             Y  FEMALE       \n",
       "\n",
       "  MARITAL_STATUS_DESCRIPTION  SALARY_AMOUNT  NUMBER_OF_DEPENDANTS  \\\n",
       "0                     SINGLE            0.0                   NaN   \n",
       "1                     SINGLE            NaN                   NaN   \n",
       "2                     SINGLE            NaN                   NaN   \n",
       "3                     SINGLE            NaN                   NaN   \n",
       "4                     SINGLE            0.0                   NaN   \n",
       "\n",
       "  CERTIFICATION_ACHIEVEMENT_DESCRIPTION  \n",
       "0                    SECONDARY COMPLETE  \n",
       "1                                   NaN  \n",
       "2                                   NaN  \n",
       "3                    SECONDARY COMPLETE  \n",
       "4                    SECONDARY COMPLETE  "
      ]
     },
     "execution_count": 10,
     "metadata": {},
     "output_type": "execute_result"
    }
   ],
   "source": [
    "customer_df.head()"
   ]
  },
  {
   "cell_type": "markdown",
   "metadata": {},
   "source": [
    "### Look at the nature of the columns:"
   ]
  },
  {
   "cell_type": "code",
   "execution_count": 11,
   "metadata": {},
   "outputs": [
    {
     "data": {
      "text/plain": [
       "CIR                                        int64\n",
       "RUN_DATE                                  object\n",
       "MARKET_SEGMENT_DESCRIPTION                object\n",
       "RESIDENT_FLAG                             object\n",
       "GENDER                                    object\n",
       "MARITAL_STATUS_DESCRIPTION                object\n",
       "SALARY_AMOUNT                            float64\n",
       "NUMBER_OF_DEPENDANTS                     float64\n",
       "CERTIFICATION_ACHIEVEMENT_DESCRIPTION     object\n",
       "dtype: object"
      ]
     },
     "execution_count": 11,
     "metadata": {},
     "output_type": "execute_result"
    }
   ],
   "source": [
    "customer_df.dtypes"
   ]
  },
  {
   "cell_type": "markdown",
   "metadata": {},
   "source": [
    "### Look at the CIR column:"
   ]
  },
  {
   "cell_type": "markdown",
   "metadata": {},
   "source": [
    "#### number of entries:"
   ]
  },
  {
   "cell_type": "code",
   "execution_count": 12,
   "metadata": {},
   "outputs": [
    {
     "data": {
      "text/plain": [
       "141169"
      ]
     },
     "execution_count": 12,
     "metadata": {},
     "output_type": "execute_result"
    }
   ],
   "source": [
    "len(customer_df.CIR)"
   ]
  },
  {
   "cell_type": "markdown",
   "metadata": {},
   "source": [
    "#### unique clients:"
   ]
  },
  {
   "cell_type": "code",
   "execution_count": 13,
   "metadata": {},
   "outputs": [
    {
     "data": {
      "text/plain": [
       "8909"
      ]
     },
     "execution_count": 13,
     "metadata": {},
     "output_type": "execute_result"
    }
   ],
   "source": [
    "len(set(customer_df.CIR))"
   ]
  },
  {
   "cell_type": "markdown",
   "metadata": {},
   "source": [
    "### Look at the RUN_DATE column:"
   ]
  },
  {
   "cell_type": "code",
   "execution_count": 14,
   "metadata": {},
   "outputs": [
    {
     "data": {
      "text/plain": [
       "0          9/28/2018\n",
       "1          6/30/2015\n",
       "2         12/31/2015\n",
       "3          3/31/2016\n",
       "4          6/30/2017\n",
       "             ...    \n",
       "141164     3/29/2019\n",
       "141165     3/29/2019\n",
       "141166     3/29/2019\n",
       "141167     3/29/2019\n",
       "141168     3/29/2019\n",
       "Name: RUN_DATE, Length: 141169, dtype: object"
      ]
     },
     "execution_count": 14,
     "metadata": {},
     "output_type": "execute_result"
    }
   ],
   "source": [
    "customer_df.RUN_DATE"
   ]
  },
  {
   "cell_type": "code",
   "execution_count": null,
   "metadata": {},
   "outputs": [],
   "source": []
  },
  {
   "cell_type": "markdown",
   "metadata": {},
   "source": [
    "#### Convert RUN_DATE to a python date format:"
   ]
  },
  {
   "cell_type": "code",
   "execution_count": 15,
   "metadata": {},
   "outputs": [],
   "source": [
    "customer_df['RUN_DATE'] = pd.to_datetime(customer_df['RUN_DATE'], infer_datetime_format=True)"
   ]
  },
  {
   "cell_type": "code",
   "execution_count": 16,
   "metadata": {},
   "outputs": [
    {
     "data": {
      "text/plain": [
       "0        2018-09-28\n",
       "1        2015-06-30\n",
       "2        2015-12-31\n",
       "3        2016-03-31\n",
       "4        2017-06-30\n",
       "            ...    \n",
       "141164   2019-03-29\n",
       "141165   2019-03-29\n",
       "141166   2019-03-29\n",
       "141167   2019-03-29\n",
       "141168   2019-03-29\n",
       "Name: RUN_DATE, Length: 141169, dtype: datetime64[ns]"
      ]
     },
     "execution_count": 16,
     "metadata": {},
     "output_type": "execute_result"
    }
   ],
   "source": [
    "customer_df['RUN_DATE']"
   ]
  },
  {
   "cell_type": "code",
   "execution_count": 17,
   "metadata": {},
   "outputs": [
    {
     "data": {
      "text/plain": [
       "2019-03-29    8893\n",
       "2018-12-31    8770\n",
       "2018-09-28    8748\n",
       "2018-06-29    8672\n",
       "2018-03-30    8590\n",
       "2017-12-29    8516\n",
       "2017-09-29    8424\n",
       "2017-06-30    8356\n",
       "2017-03-31    8291\n",
       "2016-12-30    8218\n",
       "2016-09-30    8151\n",
       "2016-06-30    8084\n",
       "2016-03-31    8016\n",
       "2015-12-31    7959\n",
       "2015-09-30    7893\n",
       "2015-06-30    7835\n",
       "2015-03-31    7753\n",
       "Name: RUN_DATE, dtype: int64"
      ]
     },
     "execution_count": 17,
     "metadata": {},
     "output_type": "execute_result"
    }
   ],
   "source": [
    "customer_df['RUN_DATE'].value_counts()"
   ]
  },
  {
   "cell_type": "code",
   "execution_count": 33,
   "metadata": {},
   "outputs": [],
   "source": [
    "run_dates=list(set(customer_df.RUN_DATE))"
   ]
  },
  {
   "cell_type": "code",
   "execution_count": 37,
   "metadata": {},
   "outputs": [
    {
     "data": {
      "text/plain": [
       "(8291, 9)"
      ]
     },
     "execution_count": 37,
     "metadata": {},
     "output_type": "execute_result"
    }
   ],
   "source": [
    "df=customer_df[customer_df.RUN_DATE==run_dates[0]]\n",
    "df.shape"
   ]
  },
  {
   "cell_type": "markdown",
   "metadata": {},
   "source": [
    "### explore MARKET_SEGMENT_DESCRIPTION:"
   ]
  },
  {
   "cell_type": "code",
   "execution_count": 18,
   "metadata": {},
   "outputs": [
    {
     "data": {
      "text/plain": [
       "MASS                        111768\n",
       "SEGMENT 18-25                19949\n",
       "MASS AFFLUENT                 7047\n",
       "PRIVATE BANKING                960\n",
       "MCB SELECT                     854\n",
       "INTERNATIONAL                  417\n",
       "MCB SELECT INTERNATIONAL       127\n",
       "UPPER MASS                      35\n",
       "YOUNG PROFESSIONAL              12\n",
       "Name: MARKET_SEGMENT_DESCRIPTION, dtype: int64"
      ]
     },
     "execution_count": 18,
     "metadata": {},
     "output_type": "execute_result"
    }
   ],
   "source": [
    "customer_df['MARKET_SEGMENT_DESCRIPTION'].value_counts()"
   ]
  },
  {
   "cell_type": "code",
   "execution_count": 19,
   "metadata": {},
   "outputs": [],
   "source": [
    "df=customer_df[['CIR','MARKET_SEGMENT_DESCRIPTION','RUN_DATE']].groupby(['CIR','MARKET_SEGMENT_DESCRIPTION']).max()"
   ]
  },
  {
   "cell_type": "code",
   "execution_count": 20,
   "metadata": {},
   "outputs": [],
   "source": [
    "gf=df.reset_index()"
   ]
  },
  {
   "cell_type": "code",
   "execution_count": 21,
   "metadata": {},
   "outputs": [
    {
     "data": {
      "text/plain": [
       "2019-03-29    8893\n",
       "2018-09-28     150\n",
       "2015-12-31     148\n",
       "2015-03-31     129\n",
       "2016-09-30     123\n",
       "2017-06-30     111\n",
       "2016-06-30     109\n",
       "2018-03-30      85\n",
       "2016-12-30      82\n",
       "2017-09-29      81\n",
       "2017-03-31      77\n",
       "2016-03-31      75\n",
       "2015-09-30      73\n",
       "2017-12-29      68\n",
       "2015-06-30      63\n",
       "2018-06-29      52\n",
       "2018-12-31      46\n",
       "Name: RUN_DATE, dtype: int64"
      ]
     },
     "execution_count": 21,
     "metadata": {},
     "output_type": "execute_result"
    }
   ],
   "source": [
    "gf['RUN_DATE'].value_counts()"
   ]
  },
  {
   "cell_type": "code",
   "execution_count": 22,
   "metadata": {},
   "outputs": [
    {
     "data": {
      "text/plain": [
       "CIR                                               int64\n",
       "RUN_DATE                                 datetime64[ns]\n",
       "MARKET_SEGMENT_DESCRIPTION                       object\n",
       "RESIDENT_FLAG                                    object\n",
       "GENDER                                           object\n",
       "MARITAL_STATUS_DESCRIPTION                       object\n",
       "SALARY_AMOUNT                                   float64\n",
       "NUMBER_OF_DEPENDANTS                            float64\n",
       "CERTIFICATION_ACHIEVEMENT_DESCRIPTION            object\n",
       "dtype: object"
      ]
     },
     "execution_count": 22,
     "metadata": {},
     "output_type": "execute_result"
    }
   ],
   "source": [
    "customer_df.dtypes"
   ]
  },
  {
   "cell_type": "code",
   "execution_count": 39,
   "metadata": {},
   "outputs": [
    {
     "data": {
      "text/plain": [
       "MASS               6485\n",
       "SEGMENT 18-25      1193\n",
       "MASS AFFLUENT       482\n",
       "PRIVATE BANKING      59\n",
       "MCB SELECT           50\n",
       "INTERNATIONAL        22\n",
       "Name: MARKET_SEGMENT_DESCRIPTION, dtype: int64"
      ]
     },
     "execution_count": 39,
     "metadata": {},
     "output_type": "execute_result"
    }
   ],
   "source": [
    "df.MARKET_SEGMENT_DESCRIPTION.value_counts()"
   ]
  },
  {
   "cell_type": "code",
   "execution_count": 42,
   "metadata": {},
   "outputs": [
    {
     "data": {
      "text/plain": [
       "0"
      ]
     },
     "execution_count": 42,
     "metadata": {},
     "output_type": "execute_result"
    }
   ],
   "source": [
    "len(df.CIR)-len(set(df.CIR))"
   ]
  },
  {
   "cell_type": "markdown",
   "metadata": {},
   "source": [
    "### Explore RESIDENT_FLAG"
   ]
  },
  {
   "cell_type": "code",
   "execution_count": 23,
   "metadata": {},
   "outputs": [
    {
     "data": {
      "text/plain": [
       "Y    137150\n",
       "N      4019\n",
       "Name: RESIDENT_FLAG, dtype: int64"
      ]
     },
     "execution_count": 23,
     "metadata": {},
     "output_type": "execute_result"
    }
   ],
   "source": [
    "customer_df['RESIDENT_FLAG'].value_counts()"
   ]
  },
  {
   "cell_type": "markdown",
   "metadata": {},
   "source": [
    "### GENDER:"
   ]
  },
  {
   "cell_type": "code",
   "execution_count": 24,
   "metadata": {},
   "outputs": [
    {
     "data": {
      "text/plain": [
       "MALE          57856\n",
       "FEMALE        56504\n",
       "MALE          13397\n",
       "FEMALE        12950\n",
       "Name: GENDER, dtype: int64"
      ]
     },
     "execution_count": 24,
     "metadata": {},
     "output_type": "execute_result"
    }
   ],
   "source": [
    "customer_df['GENDER'].value_counts()"
   ]
  },
  {
   "cell_type": "code",
   "execution_count": 27,
   "metadata": {},
   "outputs": [
    {
     "data": {
      "text/plain": [
       "MALE      71253\n",
       "FEMALE    69454\n",
       "Name: GENDER, dtype: int64"
      ]
     },
     "execution_count": 27,
     "metadata": {},
     "output_type": "execute_result"
    }
   ],
   "source": [
    "customer_df['GENDER'].str.strip().value_counts()"
   ]
  },
  {
   "cell_type": "code",
   "execution_count": 29,
   "metadata": {},
   "outputs": [],
   "source": [
    "customer_df['GENDER']=customer_df['GENDER'].str.strip()"
   ]
  },
  {
   "cell_type": "code",
   "execution_count": 30,
   "metadata": {},
   "outputs": [
    {
     "data": {
      "text/plain": [
       "MALE      71253\n",
       "FEMALE    69454\n",
       "Name: GENDER, dtype: int64"
      ]
     },
     "execution_count": 30,
     "metadata": {},
     "output_type": "execute_result"
    }
   ],
   "source": [
    "customer_df['GENDER'].value_counts()"
   ]
  },
  {
   "cell_type": "markdown",
   "metadata": {},
   "source": [
    "#### MARITAL_STATUS_DESCRIPTION"
   ]
  },
  {
   "cell_type": "code",
   "execution_count": 31,
   "metadata": {},
   "outputs": [
    {
     "data": {
      "text/plain": [
       "MARRIED COM         67931\n",
       "SINGLE              53777\n",
       "WIDOWED              4008\n",
       "UNMARRIED COUPLE     3092\n",
       "DIVORCED             2898\n",
       "MARRIED SEP          1937\n",
       "Name: MARITAL_STATUS_DESCRIPTION, dtype: int64"
      ]
     },
     "execution_count": 31,
     "metadata": {},
     "output_type": "execute_result"
    }
   ],
   "source": [
    "customer_df['MARITAL_STATUS_DESCRIPTION'].value_counts()"
   ]
  },
  {
   "cell_type": "markdown",
   "metadata": {},
   "source": [
    "### Explore account detail:"
   ]
  },
  {
   "cell_type": "code",
   "execution_count": 43,
   "metadata": {},
   "outputs": [
    {
     "data": {
      "text/plain": [
       "['Unnamed: 0',\n",
       " 'RUN_DATE',\n",
       " 'Customer_number',\n",
       " 'loan_car_application',\n",
       " 'loan_education_application',\n",
       " 'loan_general_application',\n",
       " 'loan_housing_application',\n",
       " 'loan_personal_application']"
      ]
     },
     "execution_count": 43,
     "metadata": {},
     "output_type": "execute_result"
    }
   ],
   "source": [
    "list(account_df)"
   ]
  },
  {
   "cell_type": "code",
   "execution_count": 46,
   "metadata": {},
   "outputs": [
    {
     "data": {
      "text/plain": [
       "Timestamp('2017-03-31 00:00:00')"
      ]
     },
     "execution_count": 46,
     "metadata": {},
     "output_type": "execute_result"
    }
   ],
   "source": [
    "run_dates[0]"
   ]
  },
  {
   "cell_type": "code",
   "execution_count": 47,
   "metadata": {},
   "outputs": [],
   "source": [
    "account_df['RUN_DATE'] = pd.to_datetime(account_df['RUN_DATE'], infer_datetime_format=True)"
   ]
  },
  {
   "cell_type": "code",
   "execution_count": 48,
   "metadata": {},
   "outputs": [
    {
     "data": {
      "text/plain": [
       "(8782, 8)"
      ]
     },
     "execution_count": 48,
     "metadata": {},
     "output_type": "execute_result"
    }
   ],
   "source": [
    "a_df=account_df[account_df.RUN_DATE==run_dates[0]]\n",
    "a_df.shape"
   ]
  },
  {
   "cell_type": "code",
   "execution_count": 50,
   "metadata": {},
   "outputs": [
    {
     "data": {
      "text/plain": [
       "['Unnamed: 0',\n",
       " 'RUN_DATE',\n",
       " 'Customer_number',\n",
       " 'loan_car_application',\n",
       " 'loan_education_application',\n",
       " 'loan_general_application',\n",
       " 'loan_housing_application',\n",
       " 'loan_personal_application']"
      ]
     },
     "execution_count": 50,
     "metadata": {},
     "output_type": "execute_result"
    }
   ],
   "source": [
    "list(a_df)"
   ]
  },
  {
   "cell_type": "code",
   "execution_count": 53,
   "metadata": {},
   "outputs": [
    {
     "data": {
      "text/plain": [
       "0"
      ]
     },
     "execution_count": 53,
     "metadata": {},
     "output_type": "execute_result"
    }
   ],
   "source": [
    "len(a_df.Customer_number)-len(set(a_df.Customer_number))"
   ]
  },
  {
   "cell_type": "code",
   "execution_count": 54,
   "metadata": {},
   "outputs": [
    {
     "data": {
      "text/html": [
       "<div>\n",
       "<style scoped>\n",
       "    .dataframe tbody tr th:only-of-type {\n",
       "        vertical-align: middle;\n",
       "    }\n",
       "\n",
       "    .dataframe tbody tr th {\n",
       "        vertical-align: top;\n",
       "    }\n",
       "\n",
       "    .dataframe thead th {\n",
       "        text-align: right;\n",
       "    }\n",
       "</style>\n",
       "<table border=\"1\" class=\"dataframe\">\n",
       "  <thead>\n",
       "    <tr style=\"text-align: right;\">\n",
       "      <th></th>\n",
       "      <th>Unnamed: 0</th>\n",
       "      <th>RUN_DATE</th>\n",
       "      <th>Customer_number</th>\n",
       "      <th>loan_car_application</th>\n",
       "      <th>loan_education_application</th>\n",
       "      <th>loan_general_application</th>\n",
       "      <th>loan_housing_application</th>\n",
       "      <th>loan_personal_application</th>\n",
       "    </tr>\n",
       "  </thead>\n",
       "  <tbody>\n",
       "    <tr>\n",
       "      <th>69028</th>\n",
       "      <td>7104246</td>\n",
       "      <td>2017-03-31</td>\n",
       "      <td>8803</td>\n",
       "      <td>NaN</td>\n",
       "      <td>NaN</td>\n",
       "      <td>NaN</td>\n",
       "      <td>NaN</td>\n",
       "      <td>NaN</td>\n",
       "    </tr>\n",
       "    <tr>\n",
       "      <th>69029</th>\n",
       "      <td>7104278</td>\n",
       "      <td>2017-03-31</td>\n",
       "      <td>1</td>\n",
       "      <td>NaN</td>\n",
       "      <td>NaN</td>\n",
       "      <td>NaN</td>\n",
       "      <td>NaN</td>\n",
       "      <td>NaN</td>\n",
       "    </tr>\n",
       "    <tr>\n",
       "      <th>69030</th>\n",
       "      <td>7104429</td>\n",
       "      <td>2017-03-31</td>\n",
       "      <td>9060</td>\n",
       "      <td>NaN</td>\n",
       "      <td>NaN</td>\n",
       "      <td>NaN</td>\n",
       "      <td>NaN</td>\n",
       "      <td>NaN</td>\n",
       "    </tr>\n",
       "    <tr>\n",
       "      <th>69031</th>\n",
       "      <td>7104453</td>\n",
       "      <td>2017-03-31</td>\n",
       "      <td>8637</td>\n",
       "      <td>NaN</td>\n",
       "      <td>NaN</td>\n",
       "      <td>NaN</td>\n",
       "      <td>NaN</td>\n",
       "      <td>NaN</td>\n",
       "    </tr>\n",
       "    <tr>\n",
       "      <th>69032</th>\n",
       "      <td>7104504</td>\n",
       "      <td>2017-03-31</td>\n",
       "      <td>2</td>\n",
       "      <td>NaN</td>\n",
       "      <td>NaN</td>\n",
       "      <td>NaN</td>\n",
       "      <td>NaN</td>\n",
       "      <td>NaN</td>\n",
       "    </tr>\n",
       "  </tbody>\n",
       "</table>\n",
       "</div>"
      ],
      "text/plain": [
       "       Unnamed: 0   RUN_DATE  Customer_number  loan_car_application  \\\n",
       "69028     7104246 2017-03-31             8803                   NaN   \n",
       "69029     7104278 2017-03-31                1                   NaN   \n",
       "69030     7104429 2017-03-31             9060                   NaN   \n",
       "69031     7104453 2017-03-31             8637                   NaN   \n",
       "69032     7104504 2017-03-31                2                   NaN   \n",
       "\n",
       "       loan_education_application  loan_general_application  \\\n",
       "69028                         NaN                       NaN   \n",
       "69029                         NaN                       NaN   \n",
       "69030                         NaN                       NaN   \n",
       "69031                         NaN                       NaN   \n",
       "69032                         NaN                       NaN   \n",
       "\n",
       "       loan_housing_application  loan_personal_application  \n",
       "69028                       NaN                        NaN  \n",
       "69029                       NaN                        NaN  \n",
       "69030                       NaN                        NaN  \n",
       "69031                       NaN                        NaN  \n",
       "69032                       NaN                        NaN  "
      ]
     },
     "execution_count": 54,
     "metadata": {},
     "output_type": "execute_result"
    }
   ],
   "source": [
    "a_df.head()"
   ]
  },
  {
   "cell_type": "markdown",
   "metadata": {},
   "source": [
    "### Explore transaction detail:"
   ]
  },
  {
   "cell_type": "code",
   "execution_count": 59,
   "metadata": {},
   "outputs": [],
   "source": [
    "transaction_df['RUN_Date'] = pd.to_datetime(transaction_df['RUN_Date'], infer_datetime_format=True)"
   ]
  },
  {
   "cell_type": "code",
   "execution_count": 60,
   "metadata": {},
   "outputs": [
    {
     "data": {
      "text/html": [
       "<div>\n",
       "<style scoped>\n",
       "    .dataframe tbody tr th:only-of-type {\n",
       "        vertical-align: middle;\n",
       "    }\n",
       "\n",
       "    .dataframe tbody tr th {\n",
       "        vertical-align: top;\n",
       "    }\n",
       "\n",
       "    .dataframe thead th {\n",
       "        text-align: right;\n",
       "    }\n",
       "</style>\n",
       "<table border=\"1\" class=\"dataframe\">\n",
       "  <thead>\n",
       "    <tr style=\"text-align: right;\">\n",
       "      <th></th>\n",
       "      <th>CIR</th>\n",
       "      <th>RUN_Date</th>\n",
       "      <th>sum.amt_Bank Draft_N</th>\n",
       "      <th>sum.amt_Bank Fee_N</th>\n",
       "      <th>sum.amt_Bundle Fee_N</th>\n",
       "      <th>sum.amt_Cash Depo_N</th>\n",
       "      <th>sum.amt_Cash Out_N</th>\n",
       "      <th>sum.amt_Cheque_N</th>\n",
       "      <th>sum.amt_Contra Entry_N</th>\n",
       "      <th>sum.amt_Cr Intr_N</th>\n",
       "      <th>...</th>\n",
       "      <th>sum.amt_Refill_N</th>\n",
       "      <th>sum.amt_Reject_N</th>\n",
       "      <th>sum.amt_Securities_N</th>\n",
       "      <th>sum.amt_Securities Purchase_N</th>\n",
       "      <th>sum.amt_Securities Sale_N</th>\n",
       "      <th>sum.amt_Stdin Order_N</th>\n",
       "      <th>sum.amt_Trnf_N</th>\n",
       "      <th>sum.amt_Unpaid Fee_N</th>\n",
       "      <th>sum.amt_NA_N</th>\n",
       "      <th>sum.amt_NA_P</th>\n",
       "    </tr>\n",
       "  </thead>\n",
       "  <tbody>\n",
       "  </tbody>\n",
       "</table>\n",
       "<p>0 rows × 39 columns</p>\n",
       "</div>"
      ],
      "text/plain": [
       "Empty DataFrame\n",
       "Columns: [CIR, RUN_Date, sum.amt_Bank Draft_N, sum.amt_Bank Fee_N, sum.amt_Bundle Fee_N, sum.amt_Cash Depo_N, sum.amt_Cash Out_N, sum.amt_Cheque_N, sum.amt_Contra Entry_N, sum.amt_Cr Intr_N, sum.amt_Db Intr_N, sum.amt_Direct Db_N, sum.amt_FD Maturity_N, sum.amt_FD Pre Closure_N, sum.amt_FD Set Up_N, sum.amt_Failed Direct Db_N, sum.amt_Ignore_N, sum.amt_Income_N, sum.amt_Insurance_N, sum.amt_Intr_N, sum.amt_Inward Trnf_N, sum.amt_Loan Repay_N, sum.amt_Locker Depo_N, sum.amt_Merchant Stlmt_N, sum.amt_MoneyGram_N, sum.amt_Others_N, sum.amt_Out. Trnf_N, sum.amt_Past Due_N, sum.amt_Payment_N, sum.amt_Refill_N, sum.amt_Reject_N, sum.amt_Securities_N, sum.amt_Securities Purchase_N, sum.amt_Securities Sale_N, sum.amt_Stdin Order_N, sum.amt_Trnf_N, sum.amt_Unpaid Fee_N, sum.amt_NA_N, sum.amt_NA_P]\n",
       "Index: []\n",
       "\n",
       "[0 rows x 39 columns]"
      ]
     },
     "execution_count": 60,
     "metadata": {},
     "output_type": "execute_result"
    }
   ],
   "source": [
    "transaction_df[transaction_df.RUN_Date==run_dates[0]]"
   ]
  },
  {
   "cell_type": "code",
   "execution_count": 61,
   "metadata": {},
   "outputs": [
    {
     "data": {
      "text/plain": [
       "0        1970-01-01 00:00:00.000002015\n",
       "1        1970-01-01 00:00:00.000002015\n",
       "2        1970-01-01 00:00:00.000002015\n",
       "3        1970-01-01 00:00:00.000002015\n",
       "4        1970-01-01 00:00:00.000002016\n",
       "                      ...             \n",
       "113123   1970-01-01 00:00:00.000002019\n",
       "113124   1970-01-01 00:00:00.000002019\n",
       "113125   1970-01-01 00:00:00.000002019\n",
       "113126   1970-01-01 00:00:00.000002019\n",
       "113127   1970-01-01 00:00:00.000002019\n",
       "Name: RUN_Date, Length: 113128, dtype: datetime64[ns]"
      ]
     },
     "execution_count": 61,
     "metadata": {},
     "output_type": "execute_result"
    }
   ],
   "source": [
    "transaction_df['RUN_Date']"
   ]
  },
  {
   "cell_type": "code",
   "execution_count": 73,
   "metadata": {},
   "outputs": [],
   "source": [
    "def frac2month(x):\n",
    "    return int((x-np.floor(x))*12)\n",
    "\n",
    "def frac2year(x):\n",
    "    return int(np.floor(x))"
   ]
  },
  {
   "cell_type": "code",
   "execution_count": 72,
   "metadata": {},
   "outputs": [
    {
     "data": {
      "text/plain": [
       "6"
      ]
     },
     "execution_count": 72,
     "metadata": {},
     "output_type": "execute_result"
    }
   ],
   "source": [
    "int((transaction_df.RUN_Date[2]-np.floor(transaction_df.RUN_Date[2]))*12)"
   ]
  },
  {
   "cell_type": "code",
   "execution_count": 74,
   "metadata": {},
   "outputs": [
    {
     "data": {
      "text/plain": [
       "Timestamp('2017-03-31 00:00:00')"
      ]
     },
     "execution_count": 74,
     "metadata": {},
     "output_type": "execute_result"
    }
   ],
   "source": [
    "run_dates[0]"
   ]
  },
  {
   "cell_type": "code",
   "execution_count": 75,
   "metadata": {},
   "outputs": [],
   "source": [
    "from datetime import datetime"
   ]
  },
  {
   "cell_type": "code",
   "execution_count": 76,
   "metadata": {},
   "outputs": [
    {
     "data": {
      "text/plain": [
       "datetime.datetime(2020, 6, 1, 0, 0)"
      ]
     },
     "execution_count": 76,
     "metadata": {},
     "output_type": "execute_result"
    }
   ],
   "source": [
    "datetime(2020,6,1)"
   ]
  },
  {
   "cell_type": "code",
   "execution_count": 98,
   "metadata": {},
   "outputs": [],
   "source": [
    "def frac2date(x):\n",
    "    return datetime(frac2year(x),frac2month(x),1)\n",
    "\n",
    "def frac2month(x):\n",
    "    f2m = int((x-np.floor(x))*12)==0\n",
    "#     if f2m==0:\n",
    "#         f2m=12\n",
    "    return 1*f2m+(not f2m)*(int((x-np.floor(x))*12)+1)\n",
    "\n",
    "def frac2year(x):\n",
    "    return int(np.floor(x))"
   ]
  },
  {
   "cell_type": "code",
   "execution_count": 104,
   "metadata": {},
   "outputs": [
    {
     "data": {
      "text/plain": [
       "{2015.0,\n",
       " 2015.25,\n",
       " 2015.5,\n",
       " 2015.75,\n",
       " 2016.0,\n",
       " 2016.25,\n",
       " 2016.5,\n",
       " 2016.75,\n",
       " 2017.0,\n",
       " 2017.25,\n",
       " 2017.5,\n",
       " 2017.75,\n",
       " 2018.0,\n",
       " 2018.25,\n",
       " 2018.5,\n",
       " 2018.75,\n",
       " 2019.0}"
      ]
     },
     "execution_count": 104,
     "metadata": {},
     "output_type": "execute_result"
    }
   ],
   "source": [
    "set(transaction_df.RUN_Date)"
   ]
  },
  {
   "cell_type": "code",
   "execution_count": 100,
   "metadata": {},
   "outputs": [],
   "source": [
    "y=transaction_df.RUN_Date[1]"
   ]
  },
  {
   "cell_type": "code",
   "execution_count": 101,
   "metadata": {},
   "outputs": [
    {
     "data": {
      "text/plain": [
       "datetime.datetime(2015, 4, 1, 0, 0)"
      ]
     },
     "execution_count": 101,
     "metadata": {},
     "output_type": "execute_result"
    }
   ],
   "source": [
    "frac2date(y)"
   ]
  },
  {
   "cell_type": "code",
   "execution_count": 102,
   "metadata": {},
   "outputs": [
    {
     "data": {
      "text/plain": [
       "0        2015-01-01\n",
       "1        2015-04-01\n",
       "2        2015-07-01\n",
       "3        2015-10-01\n",
       "4        2016-01-01\n",
       "            ...    \n",
       "113123   2019-01-01\n",
       "113124   2019-01-01\n",
       "113125   2019-01-01\n",
       "113126   2019-01-01\n",
       "113127   2019-01-01\n",
       "Name: RUN_Date, Length: 113128, dtype: datetime64[ns]"
      ]
     },
     "execution_count": 102,
     "metadata": {},
     "output_type": "execute_result"
    }
   ],
   "source": [
    "transaction_df.RUN_Date.apply(frac2date)"
   ]
  },
  {
   "cell_type": "code",
   "execution_count": 90,
   "metadata": {},
   "outputs": [
    {
     "data": {
      "text/plain": [
       "2"
      ]
     },
     "execution_count": 90,
     "metadata": {},
     "output_type": "execute_result"
    }
   ],
   "source": [
    "12 % 5"
   ]
  },
  {
   "cell_type": "code",
   "execution_count": 92,
   "metadata": {},
   "outputs": [
    {
     "data": {
      "text/plain": [
       "0.25"
      ]
     },
     "execution_count": 92,
     "metadata": {},
     "output_type": "execute_result"
    }
   ],
   "source": [
    "x=2.25\n",
    "x-np.floor(x)"
   ]
  },
  {
   "cell_type": "code",
   "execution_count": 103,
   "metadata": {},
   "outputs": [
    {
     "data": {
      "text/plain": [
       "{Timestamp('2015-03-31 00:00:00'),\n",
       " Timestamp('2015-06-30 00:00:00'),\n",
       " Timestamp('2015-09-30 00:00:00'),\n",
       " Timestamp('2015-12-31 00:00:00'),\n",
       " Timestamp('2016-03-31 00:00:00'),\n",
       " Timestamp('2016-06-30 00:00:00'),\n",
       " Timestamp('2016-09-30 00:00:00'),\n",
       " Timestamp('2016-12-30 00:00:00'),\n",
       " Timestamp('2017-03-31 00:00:00'),\n",
       " Timestamp('2017-06-30 00:00:00'),\n",
       " Timestamp('2017-09-29 00:00:00'),\n",
       " Timestamp('2017-12-29 00:00:00'),\n",
       " Timestamp('2018-03-30 00:00:00'),\n",
       " Timestamp('2018-06-29 00:00:00'),\n",
       " Timestamp('2018-09-28 00:00:00'),\n",
       " Timestamp('2018-12-31 00:00:00'),\n",
       " Timestamp('2019-03-29 00:00:00')}"
      ]
     },
     "execution_count": 103,
     "metadata": {},
     "output_type": "execute_result"
    }
   ],
   "source": [
    "set(gf['RUN_DATE'])"
   ]
  },
  {
   "cell_type": "code",
   "execution_count": 106,
   "metadata": {},
   "outputs": [],
   "source": [
    "run_date_dict={}\n",
    "run_date_dict['2015.00']=datetime(2015,3,31)\n",
    "run_date_dict['2015.25']=datetime(2015,6,30)\n",
    "run_date_dict['2015.50']=datetime(2015,9,30)\n",
    "run_date_dict['2015.75']=datetime(2015,6,30)"
   ]
  },
  {
   "cell_type": "code",
   "execution_count": 107,
   "metadata": {},
   "outputs": [
    {
     "data": {
      "text/plain": [
       "{'2015.00': datetime.datetime(2015, 3, 31, 0, 0)}"
      ]
     },
     "execution_count": 107,
     "metadata": {},
     "output_type": "execute_result"
    }
   ],
   "source": [
    "run_date_dict"
   ]
  },
  {
   "cell_type": "code",
   "execution_count": null,
   "metadata": {},
   "outputs": [],
   "source": []
  }
 ],
 "metadata": {
  "kernelspec": {
   "display_name": "Python 3",
   "language": "python",
   "name": "python3"
  },
  "language_info": {
   "codemirror_mode": {
    "name": "ipython",
    "version": 3
   },
   "file_extension": ".py",
   "mimetype": "text/x-python",
   "name": "python",
   "nbconvert_exporter": "python",
   "pygments_lexer": "ipython3",
   "version": "3.7.5"
  }
 },
 "nbformat": 4,
 "nbformat_minor": 2
}
