{
 "cells": [
  {
   "cell_type": "markdown",
   "metadata": {},
   "source": [
    "![title](/media/lnr-ai/christo/github_repos/mcb/img/Screenshot from 2020-03-10 05-52-40.png)"
   ]
  },
  {
   "cell_type": "markdown",
   "metadata": {},
   "source": [
    "```\n",
    "From github: git clone https://github.com/ChristoGH/mcb.git\n",
    "```"
   ]
  },
  {
   "cell_type": "code",
   "execution_count": 1,
   "metadata": {},
   "outputs": [],
   "source": [
    "%matplotlib inline"
   ]
  },
  {
   "cell_type": "code",
   "execution_count": 2,
   "metadata": {},
   "outputs": [
    {
     "data": {
      "image/png": "[encoded data removed]",
      "text/plain": [
       "<IPython.core.display.Image object>"
      ]
     },
     "execution_count": 2,
     "metadata": {},
     "output_type": "execute_result"
    }
   ],
   "source": [
    "from IPython.display import Image\n",
    "Image(filename='/media/lnr-ai/christo/github_repos/mcb/img/Screenshot from 2020-03-10 05-52-40.png')"
   ]
  },
  {
   "cell_type": "code",
   "execution_count": 3,
   "metadata": {},
   "outputs": [],
   "source": [
    "from wand.image import Image as WImage"
   ]
  },
  {
   "cell_type": "code",
   "execution_count": 4,
   "metadata": {},
   "outputs": [],
   "source": [
    "# sudo mv /etc/ImageMagick-6/policy.xml /etc/ImageMagick-6/policy.xml.off\n",
    "# img = WImage(filename='/media/lnr-ai/christo/github_repos/mcb/data/Data Scientist Case Study Exercise - Dec 2019.pdf')\n",
    "# img"
   ]
  },
  {
   "cell_type": "markdown",
   "metadata": {},
   "source": [
    "### Import required libraries:"
   ]
  },
  {
   "cell_type": "code",
   "execution_count": 5,
   "metadata": {},
   "outputs": [],
   "source": [
    "import pandas as pd # data frame approach\n",
    "import numpy as np # numerical calcs\n",
    "from pandas.tseries.offsets import BMonthEnd # finding the lasts business day of the month\n",
    "from datetime import date\n",
    "from datetime import datetime\n",
    "import matplotlib.pyplot as plt"
   ]
  },
  {
   "cell_type": "markdown",
   "metadata": {},
   "source": [
    "### Define constants and filenames:"
   ]
  },
  {
   "cell_type": "code",
   "execution_count": 6,
   "metadata": {},
   "outputs": [],
   "source": [
    "file_path = '/media/lnr-ai/christo/github_repos/mcb/data/'\n",
    "glossary_fname = 'Glossary.xlsx'\n",
    "customer_fname = 'customer.csv'\n",
    "account_fname = 'account.csv'\n",
    "transaction_fname = 'transaction.csv'"
   ]
  },
  {
   "cell_type": "markdown",
   "metadata": {},
   "source": [
    "```\n",
    "account.csv\n",
    "customer.csv\n",
    "transaction.csv\n",
    "Glossary.xlsx\n",
    "```"
   ]
  },
  {
   "cell_type": "code",
   "execution_count": 7,
   "metadata": {},
   "outputs": [],
   "source": [
    "mcb_red_dark = '#b90015'\n",
    "mcb_red_light = '#f80234'"
   ]
  },
  {
   "cell_type": "markdown",
   "metadata": {},
   "source": [
    "#### Define utility functions:"
   ]
  },
  {
   "cell_type": "markdown",
   "metadata": {},
   "source": [
    "<img src=\"/media/lnr-ai/christo/github_repos/mcb/img/Screenshot from 2020-03-10 05-52-40.png\" style=\"height:50px\"> "
   ]
  },
  {
   "cell_type": "markdown",
   "metadata": {},
   "source": [
    "![title](/media/lnr-ai/christo/github_repos/mcb/img/Screenshot from 2020-03-10 05-52-40.png)"
   ]
  },
  {
   "cell_type": "code",
   "execution_count": 8,
   "metadata": {},
   "outputs": [],
   "source": [
    "def frac2date(x):\n",
    "    return datetime(frac2year(x),frac2month(x),1)\n",
    "\n",
    "def frac2month(x):\n",
    "    f2m = int((x-np.floor(x))*12)==0\n",
    "    return 3*f2m+(not f2m)*(int((x-np.floor(x))*12)+3)\n",
    "\n",
    "def frac2year(x):\n",
    "    return int(np.floor(x))\n",
    "\n",
    "def bmonth_end_fn(x):\n",
    "    offset = BMonthEnd()\n",
    "    return offset.rollforward(x)"
   ]
  },
  {
   "cell_type": "markdown",
   "metadata": {},
   "source": [
    "#### Example conversion:"
   ]
  },
  {
   "cell_type": "code",
   "execution_count": 9,
   "metadata": {},
   "outputs": [
    {
     "data": {
      "text/plain": [
       "datetime.datetime(2015, 12, 1, 0, 0)"
      ]
     },
     "execution_count": 9,
     "metadata": {},
     "output_type": "execute_result"
    }
   ],
   "source": [
    "frac2date(x=2015.75)"
   ]
  },
  {
   "cell_type": "markdown",
   "metadata": {},
   "source": [
    "### Read glossary definitions; store in dataframes:"
   ]
  },
  {
   "cell_type": "code",
   "execution_count": 10,
   "metadata": {},
   "outputs": [],
   "source": [
    "# glossary_fname = 'Glossary.xlsx'\n",
    "account_glossary_df=pd.read_excel(io=file_path+glossary_fname, sheet_name='Accounts')\n",
    "customer_glossary_df=pd.read_excel(io=file_path+glossary_fname, sheet_name='Customer')\n",
    "transaction_glossary_df=pd.read_excel(io=file_path+glossary_fname, sheet_name='Transactions')"
   ]
  },
  {
   "cell_type": "markdown",
   "metadata": {},
   "source": [
    "### Load .csv files and rename:"
   ]
  },
  {
   "cell_type": "code",
   "execution_count": 11,
   "metadata": {},
   "outputs": [],
   "source": [
    "customer_df=pd.read_csv(filepath_or_buffer=file_path+customer_fname)\n",
    "account_df=pd.read_csv(filepath_or_buffer=file_path+account_fname)\n",
    "transaction_df=pd.read_csv(filepath_or_buffer=file_path+transaction_fname)"
   ]
  },
  {
   "cell_type": "markdown",
   "metadata": {},
   "source": [
    "## Look at the Customer file:"
   ]
  },
  {
   "cell_type": "markdown",
   "metadata": {},
   "source": [
    "### Headings:"
   ]
  },
  {
   "cell_type": "code",
   "execution_count": 12,
   "metadata": {},
   "outputs": [
    {
     "data": {
      "text/plain": [
       "['CIR',\n",
       " 'RUN_DATE',\n",
       " 'MARKET_SEGMENT_DESCRIPTION',\n",
       " 'RESIDENT_FLAG',\n",
       " 'GENDER',\n",
       " 'MARITAL_STATUS_DESCRIPTION',\n",
       " 'SALARY_AMOUNT',\n",
       " 'NUMBER_OF_DEPENDANTS',\n",
       " 'CERTIFICATION_ACHIEVEMENT_DESCRIPTION']"
      ]
     },
     "execution_count": 12,
     "metadata": {},
     "output_type": "execute_result"
    }
   ],
   "source": [
    "list(customer_df)"
   ]
  },
  {
   "cell_type": "markdown",
   "metadata": {},
   "source": [
    "### Have a peek at the contents:"
   ]
  },
  {
   "cell_type": "code",
   "execution_count": 13,
   "metadata": {},
   "outputs": [
    {
     "data": {
      "text/html": [
       "<div>\n",
       "<style scoped>\n",
       "    .dataframe tbody tr th:only-of-type {\n",
       "        vertical-align: middle;\n",
       "    }\n",
       "\n",
       "    .dataframe tbody tr th {\n",
       "        vertical-align: top;\n",
       "    }\n",
       "\n",
       "    .dataframe thead th {\n",
       "        text-align: right;\n",
       "    }\n",
       "</style>\n",
       "<table border=\"1\" class=\"dataframe\">\n",
       "  <thead>\n",
       "    <tr style=\"text-align: right;\">\n",
       "      <th></th>\n",
       "      <th>CIR</th>\n",
       "      <th>RUN_DATE</th>\n",
       "      <th>MARKET_SEGMENT_DESCRIPTION</th>\n",
       "      <th>RESIDENT_FLAG</th>\n",
       "      <th>GENDER</th>\n",
       "      <th>MARITAL_STATUS_DESCRIPTION</th>\n",
       "      <th>SALARY_AMOUNT</th>\n",
       "      <th>NUMBER_OF_DEPENDANTS</th>\n",
       "      <th>CERTIFICATION_ACHIEVEMENT_DESCRIPTION</th>\n",
       "    </tr>\n",
       "  </thead>\n",
       "  <tbody>\n",
       "    <tr>\n",
       "      <th>0</th>\n",
       "      <td>8803</td>\n",
       "      <td>9/28/2018</td>\n",
       "      <td>SEGMENT 18-25</td>\n",
       "      <td>Y</td>\n",
       "      <td>FEMALE</td>\n",
       "      <td>SINGLE</td>\n",
       "      <td>0.0</td>\n",
       "      <td>NaN</td>\n",
       "      <td>SECONDARY COMPLETE</td>\n",
       "    </tr>\n",
       "    <tr>\n",
       "      <th>1</th>\n",
       "      <td>8803</td>\n",
       "      <td>6/30/2015</td>\n",
       "      <td>SEGMENT 18-25</td>\n",
       "      <td>Y</td>\n",
       "      <td>FEMALE</td>\n",
       "      <td>SINGLE</td>\n",
       "      <td>NaN</td>\n",
       "      <td>NaN</td>\n",
       "      <td>NaN</td>\n",
       "    </tr>\n",
       "    <tr>\n",
       "      <th>2</th>\n",
       "      <td>8803</td>\n",
       "      <td>12/31/2015</td>\n",
       "      <td>SEGMENT 18-25</td>\n",
       "      <td>Y</td>\n",
       "      <td>FEMALE</td>\n",
       "      <td>SINGLE</td>\n",
       "      <td>NaN</td>\n",
       "      <td>NaN</td>\n",
       "      <td>NaN</td>\n",
       "    </tr>\n",
       "    <tr>\n",
       "      <th>3</th>\n",
       "      <td>8803</td>\n",
       "      <td>3/31/2016</td>\n",
       "      <td>SEGMENT 18-25</td>\n",
       "      <td>Y</td>\n",
       "      <td>FEMALE</td>\n",
       "      <td>SINGLE</td>\n",
       "      <td>NaN</td>\n",
       "      <td>NaN</td>\n",
       "      <td>SECONDARY COMPLETE</td>\n",
       "    </tr>\n",
       "    <tr>\n",
       "      <th>4</th>\n",
       "      <td>8803</td>\n",
       "      <td>6/30/2017</td>\n",
       "      <td>SEGMENT 18-25</td>\n",
       "      <td>Y</td>\n",
       "      <td>FEMALE</td>\n",
       "      <td>SINGLE</td>\n",
       "      <td>0.0</td>\n",
       "      <td>NaN</td>\n",
       "      <td>SECONDARY COMPLETE</td>\n",
       "    </tr>\n",
       "  </tbody>\n",
       "</table>\n",
       "</div>"
      ],
      "text/plain": [
       "    CIR    RUN_DATE MARKET_SEGMENT_DESCRIPTION RESIDENT_FLAG      GENDER  \\\n",
       "0  8803   9/28/2018              SEGMENT 18-25             Y      FEMALE   \n",
       "1  8803   6/30/2015              SEGMENT 18-25             Y  FEMALE       \n",
       "2  8803  12/31/2015              SEGMENT 18-25             Y  FEMALE       \n",
       "3  8803   3/31/2016              SEGMENT 18-25             Y  FEMALE       \n",
       "4  8803   6/30/2017              SEGMENT 18-25             Y  FEMALE       \n",
       "\n",
       "  MARITAL_STATUS_DESCRIPTION  SALARY_AMOUNT  NUMBER_OF_DEPENDANTS  \\\n",
       "0                     SINGLE            0.0                   NaN   \n",
       "1                     SINGLE            NaN                   NaN   \n",
       "2                     SINGLE            NaN                   NaN   \n",
       "3                     SINGLE            NaN                   NaN   \n",
       "4                     SINGLE            0.0                   NaN   \n",
       "\n",
       "  CERTIFICATION_ACHIEVEMENT_DESCRIPTION  \n",
       "0                    SECONDARY COMPLETE  \n",
       "1                                   NaN  \n",
       "2                                   NaN  \n",
       "3                    SECONDARY COMPLETE  \n",
       "4                    SECONDARY COMPLETE  "
      ]
     },
     "execution_count": 13,
     "metadata": {},
     "output_type": "execute_result"
    }
   ],
   "source": [
    "customer_df.head()"
   ]
  },
  {
   "cell_type": "markdown",
   "metadata": {},
   "source": [
    "### Look at the nature of the columns:"
   ]
  },
  {
   "cell_type": "code",
   "execution_count": 14,
   "metadata": {},
   "outputs": [
    {
     "data": {
      "text/plain": [
       "CIR                                        int64\n",
       "RUN_DATE                                  object\n",
       "MARKET_SEGMENT_DESCRIPTION                object\n",
       "RESIDENT_FLAG                             object\n",
       "GENDER                                    object\n",
       "MARITAL_STATUS_DESCRIPTION                object\n",
       "SALARY_AMOUNT                            float64\n",
       "NUMBER_OF_DEPENDANTS                     float64\n",
       "CERTIFICATION_ACHIEVEMENT_DESCRIPTION     object\n",
       "dtype: object"
      ]
     },
     "execution_count": 14,
     "metadata": {},
     "output_type": "execute_result"
    }
   ],
   "source": [
    "customer_df.dtypes"
   ]
  },
  {
   "cell_type": "markdown",
   "metadata": {},
   "source": [
    "### Look at the CIR column:"
   ]
  },
  {
   "cell_type": "markdown",
   "metadata": {},
   "source": [
    "#### # number of entries:"
   ]
  },
  {
   "cell_type": "code",
   "execution_count": 15,
   "metadata": {},
   "outputs": [
    {
     "data": {
      "text/plain": [
       "141169"
      ]
     },
     "execution_count": 15,
     "metadata": {},
     "output_type": "execute_result"
    }
   ],
   "source": [
    "len(customer_df.CIR)"
   ]
  },
  {
   "cell_type": "markdown",
   "metadata": {},
   "source": [
    "#### # unique clients:"
   ]
  },
  {
   "cell_type": "code",
   "execution_count": 16,
   "metadata": {},
   "outputs": [
    {
     "data": {
      "text/plain": [
       "8909"
      ]
     },
     "execution_count": 16,
     "metadata": {},
     "output_type": "execute_result"
    }
   ],
   "source": [
    "len(set(customer_df.CIR))"
   ]
  },
  {
   "cell_type": "markdown",
   "metadata": {},
   "source": [
    "#### Look at the RUN_DATE column:"
   ]
  },
  {
   "cell_type": "code",
   "execution_count": 17,
   "metadata": {},
   "outputs": [
    {
     "data": {
      "text/plain": [
       "0          9/28/2018\n",
       "1          6/30/2015\n",
       "2         12/31/2015\n",
       "3          3/31/2016\n",
       "4          6/30/2017\n",
       "             ...    \n",
       "141164     3/29/2019\n",
       "141165     3/29/2019\n",
       "141166     3/29/2019\n",
       "141167     3/29/2019\n",
       "141168     3/29/2019\n",
       "Name: RUN_DATE, Length: 141169, dtype: object"
      ]
     },
     "execution_count": 17,
     "metadata": {},
     "output_type": "execute_result"
    }
   ],
   "source": [
    "customer_df.RUN_DATE"
   ]
  },
  {
   "cell_type": "markdown",
   "metadata": {},
   "source": [
    "#### # of unique run dates:"
   ]
  },
  {
   "cell_type": "code",
   "execution_count": 18,
   "metadata": {},
   "outputs": [
    {
     "data": {
      "text/plain": [
       "{'12/29/2017',\n",
       " '12/30/2016',\n",
       " '12/31/2015',\n",
       " '12/31/2018',\n",
       " '3/29/2019',\n",
       " '3/30/2018',\n",
       " '3/31/2015',\n",
       " '3/31/2016',\n",
       " '3/31/2017',\n",
       " '6/29/2018',\n",
       " '6/30/2015',\n",
       " '6/30/2016',\n",
       " '6/30/2017',\n",
       " '9/28/2018',\n",
       " '9/29/2017',\n",
       " '9/30/2015',\n",
       " '9/30/2016'}"
      ]
     },
     "execution_count": 18,
     "metadata": {},
     "output_type": "execute_result"
    }
   ],
   "source": [
    "set(customer_df.RUN_DATE)"
   ]
  },
  {
   "cell_type": "markdown",
   "metadata": {},
   "source": [
    "#### Convert RUN_DATE to a python date format:"
   ]
  },
  {
   "cell_type": "code",
   "execution_count": 19,
   "metadata": {},
   "outputs": [],
   "source": [
    "customer_df['RUN_DATE'] = pd.to_datetime(customer_df['RUN_DATE'], infer_datetime_format=True)"
   ]
  },
  {
   "cell_type": "code",
   "execution_count": 20,
   "metadata": {},
   "outputs": [
    {
     "data": {
      "text/plain": [
       "0        2018-09-28\n",
       "1        2015-06-30\n",
       "2        2015-12-31\n",
       "3        2016-03-31\n",
       "4        2017-06-30\n",
       "            ...    \n",
       "141164   2019-03-29\n",
       "141165   2019-03-29\n",
       "141166   2019-03-29\n",
       "141167   2019-03-29\n",
       "141168   2019-03-29\n",
       "Name: RUN_DATE, Length: 141169, dtype: datetime64[ns]"
      ]
     },
     "execution_count": 20,
     "metadata": {},
     "output_type": "execute_result"
    }
   ],
   "source": [
    "customer_df['RUN_DATE']"
   ]
  },
  {
   "cell_type": "code",
   "execution_count": 64,
   "metadata": {},
   "outputs": [
    {
     "name": "stdout",
     "output_type": "stream",
     "text": [
      "the start date of analysis is: 2015-03-31 00:00:00  and the end date is:  2019-03-29 00:00:00\n"
     ]
    }
   ],
   "source": [
    "start_date=min(customer_df['RUN_DATE'])\n",
    "end_date=max(customer_df['RUN_DATE'])\n",
    "print('the start date of analysis is:', start_date, ' and the end date is: ',end_date)"
   ]
  },
  {
   "cell_type": "code",
   "execution_count": 21,
   "metadata": {},
   "outputs": [
    {
     "data": {
      "text/plain": [
       "2019-03-29    8893\n",
       "2018-12-31    8770\n",
       "2018-09-28    8748\n",
       "2018-06-29    8672\n",
       "2018-03-30    8590\n",
       "2017-12-29    8516\n",
       "2017-09-29    8424\n",
       "2017-06-30    8356\n",
       "2017-03-31    8291\n",
       "2016-12-30    8218\n",
       "2016-09-30    8151\n",
       "2016-06-30    8084\n",
       "2016-03-31    8016\n",
       "2015-12-31    7959\n",
       "2015-09-30    7893\n",
       "2015-06-30    7835\n",
       "2015-03-31    7753\n",
       "Name: RUN_DATE, dtype: int64"
      ]
     },
     "execution_count": 21,
     "metadata": {},
     "output_type": "execute_result"
    }
   ],
   "source": [
    "# Look at the number of entries per date:\n",
    "customer_df['RUN_DATE'].value_counts()"
   ]
  },
  {
   "cell_type": "code",
   "execution_count": 22,
   "metadata": {},
   "outputs": [],
   "source": [
    "# Create a variable containing all run dates:\n",
    "run_dates=list(set(customer_df.RUN_DATE))"
   ]
  },
  {
   "cell_type": "code",
   "execution_count": 23,
   "metadata": {},
   "outputs": [
    {
     "data": {
      "text/plain": [
       "(8218, 9)"
      ]
     },
     "execution_count": 23,
     "metadata": {},
     "output_type": "execute_result"
    }
   ],
   "source": [
    "df=customer_df[customer_df.RUN_DATE==run_dates[0]]\n",
    "df.shape"
   ]
  },
  {
   "cell_type": "markdown",
   "metadata": {},
   "source": [
    "#### explore MARKET_SEGMENT_DESCRIPTION:"
   ]
  },
  {
   "cell_type": "code",
   "execution_count": 24,
   "metadata": {},
   "outputs": [
    {
     "data": {
      "text/plain": [
       "MASS               6442\n",
       "SEGMENT 18-25      1201\n",
       "MASS AFFLUENT       467\n",
       "PRIVATE BANKING      56\n",
       "MCB SELECT           50\n",
       "INTERNATIONAL         2\n",
       "Name: MARKET_SEGMENT_DESCRIPTION, dtype: int64"
      ]
     },
     "execution_count": 24,
     "metadata": {},
     "output_type": "execute_result"
    }
   ],
   "source": [
    "df['MARKET_SEGMENT_DESCRIPTION'].value_counts()"
   ]
  },
  {
   "cell_type": "code",
   "execution_count": 25,
   "metadata": {},
   "outputs": [],
   "source": [
    "df=customer_df[['CIR','MARKET_SEGMENT_DESCRIPTION','RUN_DATE']].groupby(['CIR','MARKET_SEGMENT_DESCRIPTION']).max()"
   ]
  },
  {
   "cell_type": "code",
   "execution_count": 26,
   "metadata": {},
   "outputs": [],
   "source": [
    "gf=df.reset_index()"
   ]
  },
  {
   "cell_type": "code",
   "execution_count": 27,
   "metadata": {},
   "outputs": [
    {
     "data": {
      "text/plain": [
       "2019-03-29    8893\n",
       "2018-09-28     150\n",
       "2015-12-31     148\n",
       "2015-03-31     129\n",
       "2016-09-30     123\n",
       "2017-06-30     111\n",
       "2016-06-30     109\n",
       "2018-03-30      85\n",
       "2016-12-30      82\n",
       "2017-09-29      81\n",
       "2017-03-31      77\n",
       "2016-03-31      75\n",
       "2015-09-30      73\n",
       "2017-12-29      68\n",
       "2015-06-30      63\n",
       "2018-06-29      52\n",
       "2018-12-31      46\n",
       "Name: RUN_DATE, dtype: int64"
      ]
     },
     "execution_count": 27,
     "metadata": {},
     "output_type": "execute_result"
    }
   ],
   "source": [
    "gf['RUN_DATE'].value_counts()"
   ]
  },
  {
   "cell_type": "code",
   "execution_count": 28,
   "metadata": {},
   "outputs": [
    {
     "data": {
      "text/plain": [
       "CIR                                               int64\n",
       "RUN_DATE                                 datetime64[ns]\n",
       "MARKET_SEGMENT_DESCRIPTION                       object\n",
       "RESIDENT_FLAG                                    object\n",
       "GENDER                                           object\n",
       "MARITAL_STATUS_DESCRIPTION                       object\n",
       "SALARY_AMOUNT                                   float64\n",
       "NUMBER_OF_DEPENDANTS                            float64\n",
       "CERTIFICATION_ACHIEVEMENT_DESCRIPTION            object\n",
       "dtype: object"
      ]
     },
     "execution_count": 28,
     "metadata": {},
     "output_type": "execute_result"
    }
   ],
   "source": [
    "customer_df.dtypes"
   ]
  },
  {
   "cell_type": "code",
   "execution_count": 29,
   "metadata": {},
   "outputs": [
    {
     "data": {
      "text/plain": [
       "MASS                        111768\n",
       "SEGMENT 18-25                19949\n",
       "MASS AFFLUENT                 7047\n",
       "PRIVATE BANKING                960\n",
       "MCB SELECT                     854\n",
       "INTERNATIONAL                  417\n",
       "MCB SELECT INTERNATIONAL       127\n",
       "UPPER MASS                      35\n",
       "YOUNG PROFESSIONAL              12\n",
       "Name: MARKET_SEGMENT_DESCRIPTION, dtype: int64"
      ]
     },
     "execution_count": 29,
     "metadata": {},
     "output_type": "execute_result"
    }
   ],
   "source": [
    "customer_df.MARKET_SEGMENT_DESCRIPTION.value_counts()"
   ]
  },
  {
   "cell_type": "code",
   "execution_count": 30,
   "metadata": {},
   "outputs": [
    {
     "data": {
      "text/plain": [
       "1456"
      ]
     },
     "execution_count": 30,
     "metadata": {},
     "output_type": "execute_result"
    }
   ],
   "source": [
    "len(gf.CIR)-len(set(gf.CIR))"
   ]
  },
  {
   "cell_type": "markdown",
   "metadata": {},
   "source": [
    "### Explore RESIDENT_FLAG"
   ]
  },
  {
   "cell_type": "code",
   "execution_count": 31,
   "metadata": {},
   "outputs": [
    {
     "data": {
      "text/plain": [
       "Y    137150\n",
       "N      4019\n",
       "Name: RESIDENT_FLAG, dtype: int64"
      ]
     },
     "execution_count": 31,
     "metadata": {},
     "output_type": "execute_result"
    }
   ],
   "source": [
    "customer_df['RESIDENT_FLAG'].value_counts()"
   ]
  },
  {
   "cell_type": "code",
   "execution_count": 32,
   "metadata": {},
   "outputs": [],
   "source": [
    "resident_df=customer_df[['RUN_DATE','RESIDENT_FLAG', 'CIR']].groupby(['RUN_DATE','RESIDENT_FLAG']).count()\n",
    "resident_df.reset_index(inplace = True)"
   ]
  },
  {
   "cell_type": "code",
   "execution_count": 33,
   "metadata": {},
   "outputs": [],
   "source": [
    "resident_df=resident_df.pivot(index = 'RUN_DATE', columns='RESIDENT_FLAG', values='CIR').reset_index()\n",
    "resident_df=resident_df.rename(columns={'N':'RESIDENT_FLAG_N',\n",
    "                           'Y':'RESIDENT_FLAG_Y'})"
   ]
  },
  {
   "cell_type": "code",
   "execution_count": 35,
   "metadata": {},
   "outputs": [
    {
     "data": {
      "text/plain": [
       "array([7542., 7542., 7542., 7542., 7542., 7542., 7542., 7542., 7542.,\n",
       "       7542., 7542., 7542., 7542., 7542., 7542., 7542., 7542.])"
      ]
     },
     "execution_count": 35,
     "metadata": {},
     "output_type": "execute_result"
    }
   ],
   "source": [
    "np.ones(len(resident_df.RESIDENT_FLAG_Y))*min(resident_df.RESIDENT_FLAG_Y)\n",
    "# resident_df.RESIDENT_FLAG_Y"
   ]
  },
  {
   "cell_type": "code",
   "execution_count": 37,
   "metadata": {},
   "outputs": [
    {
     "data": {
      "image/png": "[encoded data removed]",
      "text/plain": [
       "<Figure size 432x288 with 2 Axes>"
      ]
     },
     "metadata": {
      "needs_background": "light"
     },
     "output_type": "display_data"
    }
   ],
   "source": [
    "data1 = resident_df.RESIDENT_FLAG_N\n",
    "data2 = resident_df.RESIDENT_FLAG_Y\n",
    "x = resident_df.RUN_DATE\n",
    "fig, ax1 = plt.subplots()\n",
    "ax1.set_title(label='MCB - RESIDENT_FLAG')\n",
    "min_y = min(resident_df.RESIDENT_FLAG_Y)*0.95\n",
    "max_y = max(resident_df.RESIDENT_FLAG_Y)*1.01\n",
    "min_n = min(resident_df.RESIDENT_FLAG_N)*0.95\n",
    "max_n = max(resident_df.RESIDENT_FLAG_N)*1.01\n",
    "color = 'tab:red'\n",
    "ax1.set_xlabel('RUN_DATE', color=color)\n",
    "ax1.set_ylabel('# Residents', color=color)\n",
    "ax1.plot(x, data2, color=color)\n",
    "ax1.tick_params(axis='y', labelcolor=color, labelrotation=0)\n",
    "ax1.tick_params(axis='x', labelcolor=color, labelrotation=90)\n",
    "ax1.set_ylim(bottom=min_y, \n",
    "             top=max_y) \n",
    "#              emit=True, auto=False, *, ymin=None, ymax=None)\n",
    "ax1.fill_between(x, resident_df.RESIDENT_FLAG_Y,\n",
    "                 color=color, alpha=0.6)\n",
    "ax2 = ax1.twinx()  # instantiate a second axes that shares the same x-axis\n",
    "\n",
    "color = 'tab:blue'\n",
    "ax2.set_ylabel('# Non_residents', color=color)  # we already handled the x-label with ax1\n",
    "ax2.plot(x, data1, color=color)\n",
    "ax2.tick_params(axis='y', labelcolor=color, labelrotation=0)\n",
    "ax2.tick_params(axis='x', labelcolor=color, labelrotation=90)\n",
    "ax2.fill_between(x, resident_df.RESIDENT_FLAG_N,\n",
    "                 color=color, alpha=0.4)\n",
    "ax2.set_ylim(bottom=min_n, \n",
    "             top=max_n) \n",
    "fig.tight_layout()  # otherwise the right y-label is slightly clipped\n",
    "plt.show()"
   ]
  },
  {
   "cell_type": "markdown",
   "metadata": {},
   "source": [
    "#### explore GENDER:"
   ]
  },
  {
   "cell_type": "code",
   "execution_count": 39,
   "metadata": {},
   "outputs": [
    {
     "data": {
      "text/plain": [
       "MALE          57856\n",
       "FEMALE        56504\n",
       "MALE          13397\n",
       "FEMALE        12950\n",
       "Name: GENDER, dtype: int64"
      ]
     },
     "execution_count": 39,
     "metadata": {},
     "output_type": "execute_result"
    }
   ],
   "source": [
    "customer_df['GENDER'].value_counts()"
   ]
  },
  {
   "cell_type": "code",
   "execution_count": 40,
   "metadata": {},
   "outputs": [
    {
     "data": {
      "text/plain": [
       "MALE      71253\n",
       "FEMALE    69454\n",
       "Name: GENDER, dtype: int64"
      ]
     },
     "execution_count": 40,
     "metadata": {},
     "output_type": "execute_result"
    }
   ],
   "source": [
    "customer_df['GENDER'].str.strip().value_counts()"
   ]
  },
  {
   "cell_type": "code",
   "execution_count": 41,
   "metadata": {},
   "outputs": [],
   "source": [
    "customer_df['GENDER']=customer_df['GENDER'].str.strip()"
   ]
  },
  {
   "cell_type": "code",
   "execution_count": 42,
   "metadata": {},
   "outputs": [
    {
     "data": {
      "text/plain": [
       "MALE      71253\n",
       "FEMALE    69454\n",
       "Name: GENDER, dtype: int64"
      ]
     },
     "execution_count": 42,
     "metadata": {},
     "output_type": "execute_result"
    }
   ],
   "source": [
    "customer_df['GENDER'].value_counts()"
   ]
  },
  {
   "cell_type": "markdown",
   "metadata": {},
   "source": [
    "#### MARITAL_STATUS_DESCRIPTION"
   ]
  },
  {
   "cell_type": "code",
   "execution_count": 43,
   "metadata": {},
   "outputs": [
    {
     "data": {
      "text/plain": [
       "MARRIED COM         67931\n",
       "SINGLE              53777\n",
       "WIDOWED              4008\n",
       "UNMARRIED COUPLE     3092\n",
       "DIVORCED             2898\n",
       "MARRIED SEP          1937\n",
       "Name: MARITAL_STATUS_DESCRIPTION, dtype: int64"
      ]
     },
     "execution_count": 43,
     "metadata": {},
     "output_type": "execute_result"
    }
   ],
   "source": [
    "customer_df['MARITAL_STATUS_DESCRIPTION'].value_counts()"
   ]
  },
  {
   "cell_type": "code",
   "execution_count": 44,
   "metadata": {},
   "outputs": [],
   "source": [
    "marriage_df=customer_df[['RUN_DATE','MARITAL_STATUS_DESCRIPTION', 'CIR']].groupby(['RUN_DATE','MARITAL_STATUS_DESCRIPTION']).count()\n",
    "marriage_df.reset_index(inplace = True)\n"
   ]
  },
  {
   "cell_type": "code",
   "execution_count": 46,
   "metadata": {},
   "outputs": [
    {
     "data": {
      "text/html": [
       "<div>\n",
       "<style scoped>\n",
       "    .dataframe tbody tr th:only-of-type {\n",
       "        vertical-align: middle;\n",
       "    }\n",
       "\n",
       "    .dataframe tbody tr th {\n",
       "        vertical-align: top;\n",
       "    }\n",
       "\n",
       "    .dataframe thead th {\n",
       "        text-align: right;\n",
       "    }\n",
       "</style>\n",
       "<table border=\"1\" class=\"dataframe\">\n",
       "  <thead>\n",
       "    <tr style=\"text-align: right;\">\n",
       "      <th>MARITAL_STATUS_DESCRIPTION</th>\n",
       "      <th>RUN_DATE</th>\n",
       "      <th>DIVORCED</th>\n",
       "      <th>MARRIED COM</th>\n",
       "      <th>MARRIED SEP</th>\n",
       "      <th>SINGLE</th>\n",
       "      <th>UNMARRIED COUPLE</th>\n",
       "      <th>WIDOWED</th>\n",
       "    </tr>\n",
       "  </thead>\n",
       "  <tbody>\n",
       "    <tr>\n",
       "      <th>0</th>\n",
       "      <td>2015-03-31</td>\n",
       "      <td>132</td>\n",
       "      <td>3691</td>\n",
       "      <td>93</td>\n",
       "      <td>2961</td>\n",
       "      <td>152</td>\n",
       "      <td>213</td>\n",
       "    </tr>\n",
       "    <tr>\n",
       "      <th>1</th>\n",
       "      <td>2015-06-30</td>\n",
       "      <td>144</td>\n",
       "      <td>3741</td>\n",
       "      <td>98</td>\n",
       "      <td>2977</td>\n",
       "      <td>158</td>\n",
       "      <td>212</td>\n",
       "    </tr>\n",
       "    <tr>\n",
       "      <th>2</th>\n",
       "      <td>2015-09-30</td>\n",
       "      <td>146</td>\n",
       "      <td>3780</td>\n",
       "      <td>101</td>\n",
       "      <td>2992</td>\n",
       "      <td>161</td>\n",
       "      <td>216</td>\n",
       "    </tr>\n",
       "    <tr>\n",
       "      <th>3</th>\n",
       "      <td>2015-12-31</td>\n",
       "      <td>147</td>\n",
       "      <td>3815</td>\n",
       "      <td>103</td>\n",
       "      <td>3032</td>\n",
       "      <td>163</td>\n",
       "      <td>218</td>\n",
       "    </tr>\n",
       "    <tr>\n",
       "      <th>4</th>\n",
       "      <td>2016-03-31</td>\n",
       "      <td>152</td>\n",
       "      <td>3842</td>\n",
       "      <td>103</td>\n",
       "      <td>3052</td>\n",
       "      <td>170</td>\n",
       "      <td>222</td>\n",
       "    </tr>\n",
       "    <tr>\n",
       "      <th>5</th>\n",
       "      <td>2016-06-30</td>\n",
       "      <td>153</td>\n",
       "      <td>3875</td>\n",
       "      <td>104</td>\n",
       "      <td>3083</td>\n",
       "      <td>172</td>\n",
       "      <td>226</td>\n",
       "    </tr>\n",
       "    <tr>\n",
       "      <th>6</th>\n",
       "      <td>2016-09-30</td>\n",
       "      <td>155</td>\n",
       "      <td>3914</td>\n",
       "      <td>105</td>\n",
       "      <td>3106</td>\n",
       "      <td>176</td>\n",
       "      <td>231</td>\n",
       "    </tr>\n",
       "    <tr>\n",
       "      <th>7</th>\n",
       "      <td>2016-12-30</td>\n",
       "      <td>162</td>\n",
       "      <td>3951</td>\n",
       "      <td>109</td>\n",
       "      <td>3132</td>\n",
       "      <td>180</td>\n",
       "      <td>233</td>\n",
       "    </tr>\n",
       "    <tr>\n",
       "      <th>8</th>\n",
       "      <td>2017-03-31</td>\n",
       "      <td>170</td>\n",
       "      <td>3990</td>\n",
       "      <td>113</td>\n",
       "      <td>3156</td>\n",
       "      <td>185</td>\n",
       "      <td>236</td>\n",
       "    </tr>\n",
       "    <tr>\n",
       "      <th>9</th>\n",
       "      <td>2017-06-30</td>\n",
       "      <td>172</td>\n",
       "      <td>4021</td>\n",
       "      <td>115</td>\n",
       "      <td>3183</td>\n",
       "      <td>190</td>\n",
       "      <td>237</td>\n",
       "    </tr>\n",
       "    <tr>\n",
       "      <th>10</th>\n",
       "      <td>2017-09-29</td>\n",
       "      <td>179</td>\n",
       "      <td>4062</td>\n",
       "      <td>116</td>\n",
       "      <td>3212</td>\n",
       "      <td>193</td>\n",
       "      <td>240</td>\n",
       "    </tr>\n",
       "    <tr>\n",
       "      <th>11</th>\n",
       "      <td>2017-12-29</td>\n",
       "      <td>188</td>\n",
       "      <td>4105</td>\n",
       "      <td>123</td>\n",
       "      <td>3242</td>\n",
       "      <td>193</td>\n",
       "      <td>248</td>\n",
       "    </tr>\n",
       "    <tr>\n",
       "      <th>12</th>\n",
       "      <td>2018-03-30</td>\n",
       "      <td>194</td>\n",
       "      <td>4150</td>\n",
       "      <td>127</td>\n",
       "      <td>3269</td>\n",
       "      <td>196</td>\n",
       "      <td>250</td>\n",
       "    </tr>\n",
       "    <tr>\n",
       "      <th>13</th>\n",
       "      <td>2018-06-29</td>\n",
       "      <td>197</td>\n",
       "      <td>4189</td>\n",
       "      <td>131</td>\n",
       "      <td>3304</td>\n",
       "      <td>200</td>\n",
       "      <td>255</td>\n",
       "    </tr>\n",
       "    <tr>\n",
       "      <th>14</th>\n",
       "      <td>2018-09-28</td>\n",
       "      <td>202</td>\n",
       "      <td>4234</td>\n",
       "      <td>131</td>\n",
       "      <td>3337</td>\n",
       "      <td>201</td>\n",
       "      <td>255</td>\n",
       "    </tr>\n",
       "    <tr>\n",
       "      <th>15</th>\n",
       "      <td>2018-12-31</td>\n",
       "      <td>203</td>\n",
       "      <td>4261</td>\n",
       "      <td>131</td>\n",
       "      <td>3336</td>\n",
       "      <td>199</td>\n",
       "      <td>256</td>\n",
       "    </tr>\n",
       "    <tr>\n",
       "      <th>16</th>\n",
       "      <td>2019-03-29</td>\n",
       "      <td>202</td>\n",
       "      <td>4310</td>\n",
       "      <td>134</td>\n",
       "      <td>3403</td>\n",
       "      <td>203</td>\n",
       "      <td>260</td>\n",
       "    </tr>\n",
       "  </tbody>\n",
       "</table>\n",
       "</div>"
      ],
      "text/plain": [
       "MARITAL_STATUS_DESCRIPTION   RUN_DATE  DIVORCED  MARRIED COM  MARRIED SEP  \\\n",
       "0                          2015-03-31       132         3691           93   \n",
       "1                          2015-06-30       144         3741           98   \n",
       "2                          2015-09-30       146         3780          101   \n",
       "3                          2015-12-31       147         3815          103   \n",
       "4                          2016-03-31       152         3842          103   \n",
       "5                          2016-06-30       153         3875          104   \n",
       "6                          2016-09-30       155         3914          105   \n",
       "7                          2016-12-30       162         3951          109   \n",
       "8                          2017-03-31       170         3990          113   \n",
       "9                          2017-06-30       172         4021          115   \n",
       "10                         2017-09-29       179         4062          116   \n",
       "11                         2017-12-29       188         4105          123   \n",
       "12                         2018-03-30       194         4150          127   \n",
       "13                         2018-06-29       197         4189          131   \n",
       "14                         2018-09-28       202         4234          131   \n",
       "15                         2018-12-31       203         4261          131   \n",
       "16                         2019-03-29       202         4310          134   \n",
       "\n",
       "MARITAL_STATUS_DESCRIPTION  SINGLE  UNMARRIED COUPLE  WIDOWED  \n",
       "0                             2961               152      213  \n",
       "1                             2977               158      212  \n",
       "2                             2992               161      216  \n",
       "3                             3032               163      218  \n",
       "4                             3052               170      222  \n",
       "5                             3083               172      226  \n",
       "6                             3106               176      231  \n",
       "7                             3132               180      233  \n",
       "8                             3156               185      236  \n",
       "9                             3183               190      237  \n",
       "10                            3212               193      240  \n",
       "11                            3242               193      248  \n",
       "12                            3269               196      250  \n",
       "13                            3304               200      255  \n",
       "14                            3337               201      255  \n",
       "15                            3336               199      256  \n",
       "16                            3403               203      260  "
      ]
     },
     "execution_count": 46,
     "metadata": {},
     "output_type": "execute_result"
    }
   ],
   "source": [
    "marriage_df"
   ]
  },
  {
   "cell_type": "code",
   "execution_count": 45,
   "metadata": {},
   "outputs": [],
   "source": [
    "marriage_df=marriage_df.pivot(index = 'RUN_DATE', columns='MARITAL_STATUS_DESCRIPTION', values='CIR').reset_index()"
   ]
  },
  {
   "cell_type": "code",
   "execution_count": 48,
   "metadata": {},
   "outputs": [
    {
     "data": {
      "image/png": "[encoded data removed]",
      "text/plain": [
       "<Figure size 576x360 with 1 Axes>"
      ]
     },
     "metadata": {
      "needs_background": "light"
     },
     "output_type": "display_data"
    }
   ],
   "source": [
    "plt.figure(num = 3, figsize=(8, 5))\n",
    "x=marriage_df.RUN_DATE\n",
    "y_married=marriage_df['MARRIED COM'] \n",
    "y_single=marriage_df['SINGLE'] \n",
    "# plt.plot(x, y2)\n",
    "plt.plot(x, y_married, \n",
    "         color='red',   \n",
    "         linewidth=1.0,  \n",
    "         linestyle='--' \n",
    "        )\n",
    "\n",
    "plt.plot(x, y_single, \n",
    "         color='blue',   \n",
    "         linewidth=1.0,  \n",
    "         linestyle='-' \n",
    "        )\n",
    "\n",
    "plt.show()"
   ]
  },
  {
   "cell_type": "markdown",
   "metadata": {},
   "source": [
    "#### SALARY_AMOUNT"
   ]
  },
  {
   "cell_type": "code",
   "execution_count": 81,
   "metadata": {},
   "outputs": [],
   "source": [
    "x=customer_df[customer_df['RUN_DATE']==end_date]['SALARY_AMOUNT']\n",
    "# run_dates\n",
    "# np.where(~customer_df[customer_df['RUN_DATE']==run_dates[0]]['SALARY_AMOUNT'].isna())"
   ]
  },
  {
   "cell_type": "code",
   "execution_count": 85,
   "metadata": {},
   "outputs": [
    {
     "data": {
      "text/plain": [
       "132276        0.0\n",
       "132277        0.0\n",
       "132278    10000.0\n",
       "132279     6700.0\n",
       "132280     6000.0\n",
       "           ...   \n",
       "141164    42000.0\n",
       "141165        0.0\n",
       "141166    11000.0\n",
       "141167     3300.0\n",
       "141168        0.0\n",
       "Name: SALARY_AMOUNT, Length: 8893, dtype: float64"
      ]
     },
     "execution_count": 85,
     "metadata": {},
     "output_type": "execute_result"
    }
   ],
   "source": [
    "x"
   ]
  },
  {
   "cell_type": "code",
   "execution_count": 87,
   "metadata": {},
   "outputs": [
    {
     "data": {
      "text/plain": [
       "132278    10000.0\n",
       "132279     6700.0\n",
       "132280     6000.0\n",
       "132281     4500.0\n",
       "132282     7300.0\n",
       "           ...   \n",
       "141162     7800.0\n",
       "141163     5000.0\n",
       "141164    42000.0\n",
       "141166    11000.0\n",
       "141167     3300.0\n",
       "Name: SALARY_AMOUNT, Length: 5379, dtype: float64"
      ]
     },
     "execution_count": 87,
     "metadata": {},
     "output_type": "execute_result"
    }
   ],
   "source": [
    "x[x>0]"
   ]
  },
  {
   "cell_type": "code",
   "execution_count": 89,
   "metadata": {},
   "outputs": [
    {
     "ename": "NameError",
     "evalue": "name 'num_bins' is not defined",
     "output_type": "error",
     "traceback": [
      "\u001b[0;31m---------------------------------------------------------------------------\u001b[0m",
      "\u001b[0;31mNameError\u001b[0m                                 Traceback (most recent call last)",
      "\u001b[0;32m<ipython-input-89-49e7d2a0d483>\u001b[0m in \u001b[0;36m<module>\u001b[0;34m\u001b[0m\n\u001b[1;32m      1\u001b[0m \u001b[0mfig\u001b[0m\u001b[0;34m,\u001b[0m \u001b[0max\u001b[0m \u001b[0;34m=\u001b[0m \u001b[0mplt\u001b[0m\u001b[0;34m.\u001b[0m\u001b[0msubplots\u001b[0m\u001b[0;34m(\u001b[0m\u001b[0;34m)\u001b[0m\u001b[0;34m\u001b[0m\u001b[0;34m\u001b[0m\u001b[0m\n\u001b[0;32m----> 2\u001b[0;31m \u001b[0mn\u001b[0m\u001b[0;34m,\u001b[0m \u001b[0mbins\u001b[0m\u001b[0;34m,\u001b[0m \u001b[0mpatches\u001b[0m \u001b[0;34m=\u001b[0m \u001b[0max\u001b[0m\u001b[0;34m.\u001b[0m\u001b[0mhist\u001b[0m\u001b[0;34m(\u001b[0m\u001b[0mx\u001b[0m\u001b[0;34m,\u001b[0m \u001b[0mnum_bins\u001b[0m\u001b[0;34m)\u001b[0m\u001b[0;34m\u001b[0m\u001b[0;34m\u001b[0m\u001b[0m\n\u001b[0m",
      "\u001b[0;31mNameError\u001b[0m: name 'num_bins' is not defined"
     ]
    },
    {
     "data": {
      "image/png": "[encoded data removed]",
      "text/plain": [
       "<Figure size 432x288 with 1 Axes>"
      ]
     },
     "metadata": {
      "needs_background": "light"
     },
     "output_type": "display_data"
    }
   ],
   "source": [
    "fig, ax = plt.subplots()\n",
    "n, bins, patches = ax.hist(x, num_bins)"
   ]
  },
  {
   "cell_type": "code",
   "execution_count": 98,
   "metadata": {},
   "outputs": [
    {
     "data": {
      "image/png": "[encoded data removed]",
      "text/plain": [
       "<Figure size 432x288 with 1 Axes>"
      ]
     },
     "metadata": {
      "needs_background": "light"
     },
     "output_type": "display_data"
    }
   ],
   "source": [
    "\n",
    "num_bins = 200\n",
    "fig, ax = plt.subplots()\n",
    "\n",
    "# the histogram of the data\n",
    "n, bins, patches = ax.hist(x[x>0], num_bins)\n",
    "\n",
    "# add a 'best fit' line\n",
    "# y = ((1 / (np.sqrt(2 * np.pi) * sigma)) *\n",
    "#      np.exp(-0.5 * (1 / sigma * (bins - mu))**2))\n",
    "# ax.plot(bins, y, '--')\n",
    "ax.set_xlabel('Salary Amount')\n",
    "ax.set_ylabel('Client count')\n",
    "ax.set_title(r'Salary>0, right limit = 100,000')\n",
    "ax.tick_params(axis='x', labelcolor=color, labelrotation=90)\n",
    "ax.set_xlim(left=0, right=100000)\n",
    "# Tweak spacing to prevent clipping of ylabel\n",
    "fig.tight_layout()\n",
    "plt.show()"
   ]
  },
  {
   "cell_type": "markdown",
   "metadata": {},
   "source": [
    "### Explore account detail:"
   ]
  },
  {
   "cell_type": "code",
   "execution_count": 49,
   "metadata": {},
   "outputs": [],
   "source": [
    "account_df=pd.read_csv(filepath_or_buffer=file_path+account_fname)"
   ]
  },
  {
   "cell_type": "code",
   "execution_count": 50,
   "metadata": {},
   "outputs": [
    {
     "data": {
      "text/plain": [
       "[Timestamp('2016-12-30 00:00:00'),\n",
       " Timestamp('2018-03-30 00:00:00'),\n",
       " Timestamp('2017-06-30 00:00:00'),\n",
       " Timestamp('2016-03-31 00:00:00'),\n",
       " Timestamp('2015-12-31 00:00:00'),\n",
       " Timestamp('2017-09-29 00:00:00'),\n",
       " Timestamp('2018-12-31 00:00:00'),\n",
       " Timestamp('2017-12-29 00:00:00'),\n",
       " Timestamp('2015-06-30 00:00:00'),\n",
       " Timestamp('2015-09-30 00:00:00'),\n",
       " Timestamp('2015-03-31 00:00:00'),\n",
       " Timestamp('2016-06-30 00:00:00'),\n",
       " Timestamp('2019-03-29 00:00:00'),\n",
       " Timestamp('2017-03-31 00:00:00'),\n",
       " Timestamp('2016-09-30 00:00:00'),\n",
       " Timestamp('2018-09-28 00:00:00'),\n",
       " Timestamp('2018-06-29 00:00:00')]"
      ]
     },
     "execution_count": 50,
     "metadata": {},
     "output_type": "execute_result"
    }
   ],
   "source": [
    "run_dates"
   ]
  },
  {
   "cell_type": "code",
   "execution_count": 51,
   "metadata": {},
   "outputs": [
    {
     "data": {
      "text/plain": [
       "['Unnamed: 0',\n",
       " 'RUN_DATE',\n",
       " 'Customer_number',\n",
       " 'loan_car_application',\n",
       " 'loan_education_application',\n",
       " 'loan_general_application',\n",
       " 'loan_housing_application',\n",
       " 'loan_personal_application']"
      ]
     },
     "execution_count": 51,
     "metadata": {},
     "output_type": "execute_result"
    }
   ],
   "source": [
    "list(account_df)"
   ]
  },
  {
   "cell_type": "code",
   "execution_count": 52,
   "metadata": {},
   "outputs": [],
   "source": [
    "account_df.pop('Unnamed: 0')\n",
    "account_df.rename(columns={'Customer_number':'CIR'}, inplace = True)"
   ]
  },
  {
   "cell_type": "code",
   "execution_count": 53,
   "metadata": {},
   "outputs": [],
   "source": [
    "account_df['RUN_DATE'] = pd.to_datetime(account_df['RUN_DATE'], infer_datetime_format=True)"
   ]
  },
  {
   "cell_type": "code",
   "execution_count": 54,
   "metadata": {},
   "outputs": [
    {
     "data": {
      "text/plain": [
       "set()"
      ]
     },
     "execution_count": 54,
     "metadata": {},
     "output_type": "execute_result"
    }
   ],
   "source": [
    "set(run_dates) - set(account_df['RUN_DATE'])"
   ]
  },
  {
   "cell_type": "code",
   "execution_count": 55,
   "metadata": {},
   "outputs": [
    {
     "data": {
      "text/plain": [
       "(8730, 7)"
      ]
     },
     "execution_count": 55,
     "metadata": {},
     "output_type": "execute_result"
    }
   ],
   "source": [
    "a_df=account_df[account_df.RUN_DATE==run_dates[0]]\n",
    "a_df.shape"
   ]
  },
  {
   "cell_type": "code",
   "execution_count": 56,
   "metadata": {},
   "outputs": [
    {
     "data": {
      "text/plain": [
       "['RUN_DATE',\n",
       " 'CIR',\n",
       " 'loan_car_application',\n",
       " 'loan_education_application',\n",
       " 'loan_general_application',\n",
       " 'loan_housing_application',\n",
       " 'loan_personal_application']"
      ]
     },
     "execution_count": 56,
     "metadata": {},
     "output_type": "execute_result"
    }
   ],
   "source": [
    "list(a_df)"
   ]
  },
  {
   "cell_type": "code",
   "execution_count": 58,
   "metadata": {},
   "outputs": [
    {
     "data": {
      "text/plain": [
       "0"
      ]
     },
     "execution_count": 58,
     "metadata": {},
     "output_type": "execute_result"
    }
   ],
   "source": [
    "len(a_df.CIR)-len(set(a_df.CIR))"
   ]
  },
  {
   "cell_type": "code",
   "execution_count": 154,
   "metadata": {},
   "outputs": [
    {
     "name": "stdout",
     "output_type": "stream",
     "text": [
      "10000 8909\n"
     ]
    }
   ],
   "source": [
    "print(len(set(account_df.CIR)),len(set(customer_df.CIR)))"
   ]
  },
  {
   "cell_type": "code",
   "execution_count": 155,
   "metadata": {},
   "outputs": [],
   "source": [
    "merge_account_df=account_df.merge(customer_df, left_on=['CIR', 'RUN_DATE'],right_on=['CIR', 'RUN_DATE'])"
   ]
  },
  {
   "cell_type": "code",
   "execution_count": null,
   "metadata": {},
   "outputs": [],
   "source": []
  },
  {
   "cell_type": "markdown",
   "metadata": {},
   "source": [
    "#### There are no "
   ]
  },
  {
   "cell_type": "code",
   "execution_count": 159,
   "metadata": {},
   "outputs": [
    {
     "data": {
      "text/plain": [
       "0"
      ]
     },
     "execution_count": 159,
     "metadata": {},
     "output_type": "execute_result"
    }
   ],
   "source": [
    "len(list(merge_account_df[merge_account_df.RUN_DATE==end_date].CIR))-len(list(set(merge_account_df[merge_account_df.RUN_DATE==end_date].CIR)))"
   ]
  },
  {
   "cell_type": "code",
   "execution_count": 156,
   "metadata": {},
   "outputs": [
    {
     "data": {
      "text/html": [
       "<div>\n",
       "<style scoped>\n",
       "    .dataframe tbody tr th:only-of-type {\n",
       "        vertical-align: middle;\n",
       "    }\n",
       "\n",
       "    .dataframe tbody tr th {\n",
       "        vertical-align: top;\n",
       "    }\n",
       "\n",
       "    .dataframe thead th {\n",
       "        text-align: right;\n",
       "    }\n",
       "</style>\n",
       "<table border=\"1\" class=\"dataframe\">\n",
       "  <thead>\n",
       "    <tr style=\"text-align: right;\">\n",
       "      <th></th>\n",
       "      <th>RUN_DATE</th>\n",
       "      <th>CIR</th>\n",
       "      <th>loan_car_application</th>\n",
       "      <th>loan_education_application</th>\n",
       "      <th>loan_general_application</th>\n",
       "      <th>loan_housing_application</th>\n",
       "      <th>loan_personal_application</th>\n",
       "      <th>MARKET_SEGMENT_DESCRIPTION</th>\n",
       "      <th>RESIDENT_FLAG</th>\n",
       "      <th>GENDER</th>\n",
       "      <th>MARITAL_STATUS_DESCRIPTION</th>\n",
       "      <th>SALARY_AMOUNT</th>\n",
       "      <th>NUMBER_OF_DEPENDANTS</th>\n",
       "      <th>CERTIFICATION_ACHIEVEMENT_DESCRIPTION</th>\n",
       "    </tr>\n",
       "  </thead>\n",
       "  <tbody>\n",
       "    <tr>\n",
       "      <th>123213</th>\n",
       "      <td>2019-03-29</td>\n",
       "      <td>8803</td>\n",
       "      <td>NaN</td>\n",
       "      <td>NaN</td>\n",
       "      <td>NaN</td>\n",
       "      <td>NaN</td>\n",
       "      <td>NaN</td>\n",
       "      <td>SEGMENT 18-25</td>\n",
       "      <td>Y</td>\n",
       "      <td>FEMALE</td>\n",
       "      <td>SINGLE</td>\n",
       "      <td>0.0</td>\n",
       "      <td>NaN</td>\n",
       "      <td>SECONDARY COMPLETE</td>\n",
       "    </tr>\n",
       "    <tr>\n",
       "      <th>123214</th>\n",
       "      <td>2019-03-29</td>\n",
       "      <td>1</td>\n",
       "      <td>NaN</td>\n",
       "      <td>NaN</td>\n",
       "      <td>NaN</td>\n",
       "      <td>NaN</td>\n",
       "      <td>NaN</td>\n",
       "      <td>MASS</td>\n",
       "      <td>Y</td>\n",
       "      <td>MALE</td>\n",
       "      <td>MARRIED COM</td>\n",
       "      <td>22000.0</td>\n",
       "      <td>1.0</td>\n",
       "      <td>UNIVERSITY</td>\n",
       "    </tr>\n",
       "    <tr>\n",
       "      <th>123215</th>\n",
       "      <td>2019-03-29</td>\n",
       "      <td>9060</td>\n",
       "      <td>NaN</td>\n",
       "      <td>NaN</td>\n",
       "      <td>NaN</td>\n",
       "      <td>NaN</td>\n",
       "      <td>NaN</td>\n",
       "      <td>MASS</td>\n",
       "      <td>Y</td>\n",
       "      <td>FEMALE</td>\n",
       "      <td>MARRIED COM</td>\n",
       "      <td>8000.0</td>\n",
       "      <td>NaN</td>\n",
       "      <td>SECONDARY INCOMPLETE</td>\n",
       "    </tr>\n",
       "    <tr>\n",
       "      <th>123216</th>\n",
       "      <td>2019-03-29</td>\n",
       "      <td>8637</td>\n",
       "      <td>NaN</td>\n",
       "      <td>NaN</td>\n",
       "      <td>NaN</td>\n",
       "      <td>NaN</td>\n",
       "      <td>NaN</td>\n",
       "      <td>SEGMENT 18-25</td>\n",
       "      <td>Y</td>\n",
       "      <td>MALE</td>\n",
       "      <td>SINGLE</td>\n",
       "      <td>8000.0</td>\n",
       "      <td>NaN</td>\n",
       "      <td>SECONDARY INCOMPLETE</td>\n",
       "    </tr>\n",
       "    <tr>\n",
       "      <th>123217</th>\n",
       "      <td>2019-03-29</td>\n",
       "      <td>2</td>\n",
       "      <td>NaN</td>\n",
       "      <td>NaN</td>\n",
       "      <td>NaN</td>\n",
       "      <td>NaN</td>\n",
       "      <td>NaN</td>\n",
       "      <td>SEGMENT 18-25</td>\n",
       "      <td>Y</td>\n",
       "      <td>MALE</td>\n",
       "      <td>SINGLE</td>\n",
       "      <td>0.0</td>\n",
       "      <td>NaN</td>\n",
       "      <td>SECONDARY INCOMPLETE</td>\n",
       "    </tr>\n",
       "    <tr>\n",
       "      <th>...</th>\n",
       "      <td>...</td>\n",
       "      <td>...</td>\n",
       "      <td>...</td>\n",
       "      <td>...</td>\n",
       "      <td>...</td>\n",
       "      <td>...</td>\n",
       "      <td>...</td>\n",
       "      <td>...</td>\n",
       "      <td>...</td>\n",
       "      <td>...</td>\n",
       "      <td>...</td>\n",
       "      <td>...</td>\n",
       "      <td>...</td>\n",
       "      <td>...</td>\n",
       "    </tr>\n",
       "    <tr>\n",
       "      <th>131339</th>\n",
       "      <td>2019-03-29</td>\n",
       "      <td>8541</td>\n",
       "      <td>NaN</td>\n",
       "      <td>NaN</td>\n",
       "      <td>NaN</td>\n",
       "      <td>NaN</td>\n",
       "      <td>NaN</td>\n",
       "      <td>SEGMENT 18-25</td>\n",
       "      <td>Y</td>\n",
       "      <td>MALE</td>\n",
       "      <td>SINGLE</td>\n",
       "      <td>0.0</td>\n",
       "      <td>NaN</td>\n",
       "      <td>SECONDARY INCOMPLETE</td>\n",
       "    </tr>\n",
       "    <tr>\n",
       "      <th>131340</th>\n",
       "      <td>2019-03-29</td>\n",
       "      <td>8802</td>\n",
       "      <td>NaN</td>\n",
       "      <td>NaN</td>\n",
       "      <td>NaN</td>\n",
       "      <td>NaN</td>\n",
       "      <td>NaN</td>\n",
       "      <td>MASS</td>\n",
       "      <td>Y</td>\n",
       "      <td>MALE</td>\n",
       "      <td>SINGLE</td>\n",
       "      <td>10000.0</td>\n",
       "      <td>NaN</td>\n",
       "      <td>SECONDARY INCOMPLETE</td>\n",
       "    </tr>\n",
       "    <tr>\n",
       "      <th>131341</th>\n",
       "      <td>2019-03-29</td>\n",
       "      <td>8542</td>\n",
       "      <td>NaN</td>\n",
       "      <td>NaN</td>\n",
       "      <td>NaN</td>\n",
       "      <td>NaN</td>\n",
       "      <td>NaN</td>\n",
       "      <td>MASS</td>\n",
       "      <td>Y</td>\n",
       "      <td>MALE</td>\n",
       "      <td>DIVORCED</td>\n",
       "      <td>30000.0</td>\n",
       "      <td>2.0</td>\n",
       "      <td>SECONDARY COMPLETE</td>\n",
       "    </tr>\n",
       "    <tr>\n",
       "      <th>131342</th>\n",
       "      <td>2019-03-29</td>\n",
       "      <td>8543</td>\n",
       "      <td>NaN</td>\n",
       "      <td>NaN</td>\n",
       "      <td>NaN</td>\n",
       "      <td>NaN</td>\n",
       "      <td>NaN</td>\n",
       "      <td>MASS</td>\n",
       "      <td>Y</td>\n",
       "      <td>FEMALE</td>\n",
       "      <td>MARRIED COM</td>\n",
       "      <td>0.0</td>\n",
       "      <td>4.0</td>\n",
       "      <td>SECONDARY INCOMPLETE</td>\n",
       "    </tr>\n",
       "    <tr>\n",
       "      <th>131343</th>\n",
       "      <td>2019-03-29</td>\n",
       "      <td>8890</td>\n",
       "      <td>NaN</td>\n",
       "      <td>NaN</td>\n",
       "      <td>NaN</td>\n",
       "      <td>NaN</td>\n",
       "      <td>NaN</td>\n",
       "      <td>SEGMENT 18-25</td>\n",
       "      <td>Y</td>\n",
       "      <td>FEMALE</td>\n",
       "      <td>SINGLE</td>\n",
       "      <td>0.0</td>\n",
       "      <td>NaN</td>\n",
       "      <td>UNIVERSITY</td>\n",
       "    </tr>\n",
       "  </tbody>\n",
       "</table>\n",
       "<p>8131 rows × 14 columns</p>\n",
       "</div>"
      ],
      "text/plain": [
       "         RUN_DATE   CIR  loan_car_application  loan_education_application  \\\n",
       "123213 2019-03-29  8803                   NaN                         NaN   \n",
       "123214 2019-03-29     1                   NaN                         NaN   \n",
       "123215 2019-03-29  9060                   NaN                         NaN   \n",
       "123216 2019-03-29  8637                   NaN                         NaN   \n",
       "123217 2019-03-29     2                   NaN                         NaN   \n",
       "...           ...   ...                   ...                         ...   \n",
       "131339 2019-03-29  8541                   NaN                         NaN   \n",
       "131340 2019-03-29  8802                   NaN                         NaN   \n",
       "131341 2019-03-29  8542                   NaN                         NaN   \n",
       "131342 2019-03-29  8543                   NaN                         NaN   \n",
       "131343 2019-03-29  8890                   NaN                         NaN   \n",
       "\n",
       "        loan_general_application  loan_housing_application  \\\n",
       "123213                       NaN                       NaN   \n",
       "123214                       NaN                       NaN   \n",
       "123215                       NaN                       NaN   \n",
       "123216                       NaN                       NaN   \n",
       "123217                       NaN                       NaN   \n",
       "...                          ...                       ...   \n",
       "131339                       NaN                       NaN   \n",
       "131340                       NaN                       NaN   \n",
       "131341                       NaN                       NaN   \n",
       "131342                       NaN                       NaN   \n",
       "131343                       NaN                       NaN   \n",
       "\n",
       "        loan_personal_application MARKET_SEGMENT_DESCRIPTION RESIDENT_FLAG  \\\n",
       "123213                        NaN              SEGMENT 18-25             Y   \n",
       "123214                        NaN                       MASS             Y   \n",
       "123215                        NaN                       MASS             Y   \n",
       "123216                        NaN              SEGMENT 18-25             Y   \n",
       "123217                        NaN              SEGMENT 18-25             Y   \n",
       "...                           ...                        ...           ...   \n",
       "131339                        NaN              SEGMENT 18-25             Y   \n",
       "131340                        NaN                       MASS             Y   \n",
       "131341                        NaN                       MASS             Y   \n",
       "131342                        NaN                       MASS             Y   \n",
       "131343                        NaN              SEGMENT 18-25             Y   \n",
       "\n",
       "        GENDER MARITAL_STATUS_DESCRIPTION  SALARY_AMOUNT  \\\n",
       "123213  FEMALE                     SINGLE            0.0   \n",
       "123214    MALE                MARRIED COM        22000.0   \n",
       "123215  FEMALE                MARRIED COM         8000.0   \n",
       "123216    MALE                     SINGLE         8000.0   \n",
       "123217    MALE                     SINGLE            0.0   \n",
       "...        ...                        ...            ...   \n",
       "131339    MALE                     SINGLE            0.0   \n",
       "131340    MALE                     SINGLE        10000.0   \n",
       "131341    MALE                   DIVORCED        30000.0   \n",
       "131342  FEMALE                MARRIED COM            0.0   \n",
       "131343  FEMALE                     SINGLE            0.0   \n",
       "\n",
       "        NUMBER_OF_DEPENDANTS CERTIFICATION_ACHIEVEMENT_DESCRIPTION  \n",
       "123213                   NaN                    SECONDARY COMPLETE  \n",
       "123214                   1.0                            UNIVERSITY  \n",
       "123215                   NaN                  SECONDARY INCOMPLETE  \n",
       "123216                   NaN                  SECONDARY INCOMPLETE  \n",
       "123217                   NaN                  SECONDARY INCOMPLETE  \n",
       "...                      ...                                   ...  \n",
       "131339                   NaN                  SECONDARY INCOMPLETE  \n",
       "131340                   NaN                  SECONDARY INCOMPLETE  \n",
       "131341                   2.0                    SECONDARY COMPLETE  \n",
       "131342                   4.0                  SECONDARY INCOMPLETE  \n",
       "131343                   NaN                            UNIVERSITY  \n",
       "\n",
       "[8131 rows x 14 columns]"
      ]
     },
     "execution_count": 156,
     "metadata": {},
     "output_type": "execute_result"
    }
   ],
   "source": [
    "merge_account_df[merge_account_df.RUN_DATE==end_date]"
   ]
  },
  {
   "cell_type": "code",
   "execution_count": 102,
   "metadata": {},
   "outputs": [
    {
     "data": {
      "text/html": [
       "<div>\n",
       "<style scoped>\n",
       "    .dataframe tbody tr th:only-of-type {\n",
       "        vertical-align: middle;\n",
       "    }\n",
       "\n",
       "    .dataframe tbody tr th {\n",
       "        vertical-align: top;\n",
       "    }\n",
       "\n",
       "    .dataframe thead th {\n",
       "        text-align: right;\n",
       "    }\n",
       "</style>\n",
       "<table border=\"1\" class=\"dataframe\">\n",
       "  <thead>\n",
       "    <tr style=\"text-align: right;\">\n",
       "      <th></th>\n",
       "      <th>RUN_DATE</th>\n",
       "      <th>CIR</th>\n",
       "      <th>loan_car_application</th>\n",
       "      <th>loan_education_application</th>\n",
       "      <th>loan_general_application</th>\n",
       "      <th>loan_housing_application</th>\n",
       "      <th>loan_personal_application</th>\n",
       "      <th>MARKET_SEGMENT_DESCRIPTION</th>\n",
       "      <th>RESIDENT_FLAG</th>\n",
       "      <th>GENDER</th>\n",
       "      <th>MARITAL_STATUS_DESCRIPTION</th>\n",
       "      <th>SALARY_AMOUNT</th>\n",
       "      <th>NUMBER_OF_DEPENDANTS</th>\n",
       "      <th>CERTIFICATION_ACHIEVEMENT_DESCRIPTION</th>\n",
       "    </tr>\n",
       "  </thead>\n",
       "  <tbody>\n",
       "    <tr>\n",
       "      <th>0</th>\n",
       "      <td>2015-03-31</td>\n",
       "      <td>1</td>\n",
       "      <td>NaN</td>\n",
       "      <td>NaN</td>\n",
       "      <td>NaN</td>\n",
       "      <td>NaN</td>\n",
       "      <td>NaN</td>\n",
       "      <td>MASS</td>\n",
       "      <td>Y</td>\n",
       "      <td>MALE</td>\n",
       "      <td>MARRIED COM</td>\n",
       "      <td>NaN</td>\n",
       "      <td>1.0</td>\n",
       "      <td>UNIVERSITY</td>\n",
       "    </tr>\n",
       "    <tr>\n",
       "      <th>1</th>\n",
       "      <td>2015-03-31</td>\n",
       "      <td>3</td>\n",
       "      <td>NaN</td>\n",
       "      <td>NaN</td>\n",
       "      <td>NaN</td>\n",
       "      <td>NaN</td>\n",
       "      <td>NaN</td>\n",
       "      <td>MCB SELECT</td>\n",
       "      <td>Y</td>\n",
       "      <td>MALE</td>\n",
       "      <td>SINGLE</td>\n",
       "      <td>NaN</td>\n",
       "      <td>NaN</td>\n",
       "      <td>UNIVERSITY</td>\n",
       "    </tr>\n",
       "    <tr>\n",
       "      <th>2</th>\n",
       "      <td>2015-03-31</td>\n",
       "      <td>6</td>\n",
       "      <td>NaN</td>\n",
       "      <td>NaN</td>\n",
       "      <td>NaN</td>\n",
       "      <td>NaN</td>\n",
       "      <td>NaN</td>\n",
       "      <td>MASS</td>\n",
       "      <td>Y</td>\n",
       "      <td>MALE</td>\n",
       "      <td>MARRIED COM</td>\n",
       "      <td>NaN</td>\n",
       "      <td>1.0</td>\n",
       "      <td>SECONDARY COMPLETE</td>\n",
       "    </tr>\n",
       "    <tr>\n",
       "      <th>3</th>\n",
       "      <td>2015-03-31</td>\n",
       "      <td>7</td>\n",
       "      <td>NaN</td>\n",
       "      <td>NaN</td>\n",
       "      <td>NaN</td>\n",
       "      <td>NaN</td>\n",
       "      <td>NaN</td>\n",
       "      <td>MASS</td>\n",
       "      <td>Y</td>\n",
       "      <td>FEMALE</td>\n",
       "      <td>MARRIED COM</td>\n",
       "      <td>NaN</td>\n",
       "      <td>3.0</td>\n",
       "      <td>NaN</td>\n",
       "    </tr>\n",
       "    <tr>\n",
       "      <th>4</th>\n",
       "      <td>2015-03-31</td>\n",
       "      <td>8</td>\n",
       "      <td>NaN</td>\n",
       "      <td>NaN</td>\n",
       "      <td>NaN</td>\n",
       "      <td>NaN</td>\n",
       "      <td>NaN</td>\n",
       "      <td>MASS</td>\n",
       "      <td>Y</td>\n",
       "      <td>FEMALE</td>\n",
       "      <td>NaN</td>\n",
       "      <td>NaN</td>\n",
       "      <td>NaN</td>\n",
       "      <td>NaN</td>\n",
       "    </tr>\n",
       "    <tr>\n",
       "      <th>...</th>\n",
       "      <td>...</td>\n",
       "      <td>...</td>\n",
       "      <td>...</td>\n",
       "      <td>...</td>\n",
       "      <td>...</td>\n",
       "      <td>...</td>\n",
       "      <td>...</td>\n",
       "      <td>...</td>\n",
       "      <td>...</td>\n",
       "      <td>...</td>\n",
       "      <td>...</td>\n",
       "      <td>...</td>\n",
       "      <td>...</td>\n",
       "      <td>...</td>\n",
       "    </tr>\n",
       "    <tr>\n",
       "      <th>131339</th>\n",
       "      <td>2019-03-29</td>\n",
       "      <td>8541</td>\n",
       "      <td>NaN</td>\n",
       "      <td>NaN</td>\n",
       "      <td>NaN</td>\n",
       "      <td>NaN</td>\n",
       "      <td>NaN</td>\n",
       "      <td>SEGMENT 18-25</td>\n",
       "      <td>Y</td>\n",
       "      <td>MALE</td>\n",
       "      <td>SINGLE</td>\n",
       "      <td>0.0</td>\n",
       "      <td>NaN</td>\n",
       "      <td>SECONDARY INCOMPLETE</td>\n",
       "    </tr>\n",
       "    <tr>\n",
       "      <th>131340</th>\n",
       "      <td>2019-03-29</td>\n",
       "      <td>8802</td>\n",
       "      <td>NaN</td>\n",
       "      <td>NaN</td>\n",
       "      <td>NaN</td>\n",
       "      <td>NaN</td>\n",
       "      <td>NaN</td>\n",
       "      <td>MASS</td>\n",
       "      <td>Y</td>\n",
       "      <td>MALE</td>\n",
       "      <td>SINGLE</td>\n",
       "      <td>10000.0</td>\n",
       "      <td>NaN</td>\n",
       "      <td>SECONDARY INCOMPLETE</td>\n",
       "    </tr>\n",
       "    <tr>\n",
       "      <th>131341</th>\n",
       "      <td>2019-03-29</td>\n",
       "      <td>8542</td>\n",
       "      <td>NaN</td>\n",
       "      <td>NaN</td>\n",
       "      <td>NaN</td>\n",
       "      <td>NaN</td>\n",
       "      <td>NaN</td>\n",
       "      <td>MASS</td>\n",
       "      <td>Y</td>\n",
       "      <td>MALE</td>\n",
       "      <td>DIVORCED</td>\n",
       "      <td>30000.0</td>\n",
       "      <td>2.0</td>\n",
       "      <td>SECONDARY COMPLETE</td>\n",
       "    </tr>\n",
       "    <tr>\n",
       "      <th>131342</th>\n",
       "      <td>2019-03-29</td>\n",
       "      <td>8543</td>\n",
       "      <td>NaN</td>\n",
       "      <td>NaN</td>\n",
       "      <td>NaN</td>\n",
       "      <td>NaN</td>\n",
       "      <td>NaN</td>\n",
       "      <td>MASS</td>\n",
       "      <td>Y</td>\n",
       "      <td>FEMALE</td>\n",
       "      <td>MARRIED COM</td>\n",
       "      <td>0.0</td>\n",
       "      <td>4.0</td>\n",
       "      <td>SECONDARY INCOMPLETE</td>\n",
       "    </tr>\n",
       "    <tr>\n",
       "      <th>131343</th>\n",
       "      <td>2019-03-29</td>\n",
       "      <td>8890</td>\n",
       "      <td>NaN</td>\n",
       "      <td>NaN</td>\n",
       "      <td>NaN</td>\n",
       "      <td>NaN</td>\n",
       "      <td>NaN</td>\n",
       "      <td>SEGMENT 18-25</td>\n",
       "      <td>Y</td>\n",
       "      <td>FEMALE</td>\n",
       "      <td>SINGLE</td>\n",
       "      <td>0.0</td>\n",
       "      <td>NaN</td>\n",
       "      <td>UNIVERSITY</td>\n",
       "    </tr>\n",
       "  </tbody>\n",
       "</table>\n",
       "<p>130851 rows × 14 columns</p>\n",
       "</div>"
      ],
      "text/plain": [
       "         RUN_DATE   CIR  loan_car_application  loan_education_application  \\\n",
       "0      2015-03-31     1                   NaN                         NaN   \n",
       "1      2015-03-31     3                   NaN                         NaN   \n",
       "2      2015-03-31     6                   NaN                         NaN   \n",
       "3      2015-03-31     7                   NaN                         NaN   \n",
       "4      2015-03-31     8                   NaN                         NaN   \n",
       "...           ...   ...                   ...                         ...   \n",
       "131339 2019-03-29  8541                   NaN                         NaN   \n",
       "131340 2019-03-29  8802                   NaN                         NaN   \n",
       "131341 2019-03-29  8542                   NaN                         NaN   \n",
       "131342 2019-03-29  8543                   NaN                         NaN   \n",
       "131343 2019-03-29  8890                   NaN                         NaN   \n",
       "\n",
       "        loan_general_application  loan_housing_application  \\\n",
       "0                            NaN                       NaN   \n",
       "1                            NaN                       NaN   \n",
       "2                            NaN                       NaN   \n",
       "3                            NaN                       NaN   \n",
       "4                            NaN                       NaN   \n",
       "...                          ...                       ...   \n",
       "131339                       NaN                       NaN   \n",
       "131340                       NaN                       NaN   \n",
       "131341                       NaN                       NaN   \n",
       "131342                       NaN                       NaN   \n",
       "131343                       NaN                       NaN   \n",
       "\n",
       "        loan_personal_application MARKET_SEGMENT_DESCRIPTION RESIDENT_FLAG  \\\n",
       "0                             NaN                       MASS             Y   \n",
       "1                             NaN                 MCB SELECT             Y   \n",
       "2                             NaN                       MASS             Y   \n",
       "3                             NaN                       MASS             Y   \n",
       "4                             NaN                       MASS             Y   \n",
       "...                           ...                        ...           ...   \n",
       "131339                        NaN              SEGMENT 18-25             Y   \n",
       "131340                        NaN                       MASS             Y   \n",
       "131341                        NaN                       MASS             Y   \n",
       "131342                        NaN                       MASS             Y   \n",
       "131343                        NaN              SEGMENT 18-25             Y   \n",
       "\n",
       "        GENDER MARITAL_STATUS_DESCRIPTION  SALARY_AMOUNT  \\\n",
       "0         MALE                MARRIED COM            NaN   \n",
       "1         MALE                     SINGLE            NaN   \n",
       "2         MALE                MARRIED COM            NaN   \n",
       "3       FEMALE                MARRIED COM            NaN   \n",
       "4       FEMALE                        NaN            NaN   \n",
       "...        ...                        ...            ...   \n",
       "131339    MALE                     SINGLE            0.0   \n",
       "131340    MALE                     SINGLE        10000.0   \n",
       "131341    MALE                   DIVORCED        30000.0   \n",
       "131342  FEMALE                MARRIED COM            0.0   \n",
       "131343  FEMALE                     SINGLE            0.0   \n",
       "\n",
       "        NUMBER_OF_DEPENDANTS CERTIFICATION_ACHIEVEMENT_DESCRIPTION  \n",
       "0                        1.0                            UNIVERSITY  \n",
       "1                        NaN                            UNIVERSITY  \n",
       "2                        1.0                    SECONDARY COMPLETE  \n",
       "3                        3.0                                   NaN  \n",
       "4                        NaN                                   NaN  \n",
       "...                      ...                                   ...  \n",
       "131339                   NaN                  SECONDARY INCOMPLETE  \n",
       "131340                   NaN                  SECONDARY INCOMPLETE  \n",
       "131341                   2.0                    SECONDARY COMPLETE  \n",
       "131342                   4.0                  SECONDARY INCOMPLETE  \n",
       "131343                   NaN                            UNIVERSITY  \n",
       "\n",
       "[130851 rows x 14 columns]"
      ]
     },
     "execution_count": 102,
     "metadata": {},
     "output_type": "execute_result"
    }
   ],
   "source": [
    "merge_account_df[merge_account_df['loan_car_application'].isna()]"
   ]
  },
  {
   "cell_type": "code",
   "execution_count": 107,
   "metadata": {},
   "outputs": [
    {
     "data": {
      "text/plain": [
       "['RUN_DATE',\n",
       " 'CIR',\n",
       " 'loan_car_application',\n",
       " 'loan_education_application',\n",
       " 'loan_general_application',\n",
       " 'loan_housing_application',\n",
       " 'loan_personal_application']"
      ]
     },
     "execution_count": 107,
     "metadata": {},
     "output_type": "execute_result"
    }
   ],
   "source": [
    "list(account_df)"
   ]
  },
  {
   "cell_type": "code",
   "execution_count": 108,
   "metadata": {},
   "outputs": [
    {
     "data": {
      "text/plain": [
       "loan_car_application          149273\n",
       "loan_education_application    149273\n",
       "loan_general_application      149273\n",
       "loan_housing_application      149273\n",
       "loan_personal_application     149273\n",
       "dtype: int64"
      ]
     },
     "execution_count": 108,
     "metadata": {},
     "output_type": "execute_result"
    }
   ],
   "source": [
    "account_df[['loan_car_application',\n",
    " 'loan_education_application',\n",
    " 'loan_general_application',\n",
    " 'loan_housing_application',\n",
    " 'loan_personal_application']].isna().sum(axis = 0).sort_values()"
   ]
  },
  {
   "cell_type": "code",
   "execution_count": 143,
   "metadata": {},
   "outputs": [],
   "source": [
    "f1=account_df.RUN_DATE==end_date\n",
    "f2=account_df.loan_car_application.isna()\n",
    "g1=np.logical_and(f1, f2)\n",
    "g2=np.logical_and(f1,~f2)\n",
    "# (f1) and (f2)\n",
    "noloan_cir = account_df[g1].CIR\n",
    "loan_cir = account_df[g2].CIR"
   ]
  },
  {
   "cell_type": "code",
   "execution_count": 150,
   "metadata": {},
   "outputs": [
    {
     "data": {
      "text/plain": [
       "140562    8803\n",
       "140563       1\n",
       "140564    9060\n",
       "140565    8637\n",
       "140566       2\n",
       "          ... \n",
       "149761    8541\n",
       "149762    8802\n",
       "149763    8542\n",
       "149764    8543\n",
       "149765    8890\n",
       "Name: CIR, Length: 9181, dtype: int64"
      ]
     },
     "execution_count": 150,
     "metadata": {},
     "output_type": "execute_result"
    }
   ],
   "source": [
    "noloan_cir"
   ]
  },
  {
   "cell_type": "code",
   "execution_count": 151,
   "metadata": {},
   "outputs": [
    {
     "data": {
      "text/html": [
       "<div>\n",
       "<style scoped>\n",
       "    .dataframe tbody tr th:only-of-type {\n",
       "        vertical-align: middle;\n",
       "    }\n",
       "\n",
       "    .dataframe tbody tr th {\n",
       "        vertical-align: top;\n",
       "    }\n",
       "\n",
       "    .dataframe thead th {\n",
       "        text-align: right;\n",
       "    }\n",
       "</style>\n",
       "<table border=\"1\" class=\"dataframe\">\n",
       "  <thead>\n",
       "    <tr style=\"text-align: right;\">\n",
       "      <th></th>\n",
       "      <th>RUN_DATE</th>\n",
       "      <th>CIR</th>\n",
       "      <th>loan_car_application</th>\n",
       "      <th>loan_education_application</th>\n",
       "      <th>loan_general_application</th>\n",
       "      <th>loan_housing_application</th>\n",
       "      <th>loan_personal_application</th>\n",
       "      <th>MARKET_SEGMENT_DESCRIPTION</th>\n",
       "      <th>RESIDENT_FLAG</th>\n",
       "      <th>GENDER</th>\n",
       "      <th>MARITAL_STATUS_DESCRIPTION</th>\n",
       "      <th>SALARY_AMOUNT</th>\n",
       "      <th>NUMBER_OF_DEPENDANTS</th>\n",
       "      <th>CERTIFICATION_ACHIEVEMENT_DESCRIPTION</th>\n",
       "    </tr>\n",
       "  </thead>\n",
       "  <tbody>\n",
       "    <tr>\n",
       "      <th>123213</th>\n",
       "      <td>2019-03-29</td>\n",
       "      <td>8803</td>\n",
       "      <td>NaN</td>\n",
       "      <td>NaN</td>\n",
       "      <td>NaN</td>\n",
       "      <td>NaN</td>\n",
       "      <td>NaN</td>\n",
       "      <td>SEGMENT 18-25</td>\n",
       "      <td>Y</td>\n",
       "      <td>FEMALE</td>\n",
       "      <td>SINGLE</td>\n",
       "      <td>0.0</td>\n",
       "      <td>NaN</td>\n",
       "      <td>SECONDARY COMPLETE</td>\n",
       "    </tr>\n",
       "    <tr>\n",
       "      <th>123214</th>\n",
       "      <td>2019-03-29</td>\n",
       "      <td>1</td>\n",
       "      <td>NaN</td>\n",
       "      <td>NaN</td>\n",
       "      <td>NaN</td>\n",
       "      <td>NaN</td>\n",
       "      <td>NaN</td>\n",
       "      <td>MASS</td>\n",
       "      <td>Y</td>\n",
       "      <td>MALE</td>\n",
       "      <td>MARRIED COM</td>\n",
       "      <td>22000.0</td>\n",
       "      <td>1.0</td>\n",
       "      <td>UNIVERSITY</td>\n",
       "    </tr>\n",
       "    <tr>\n",
       "      <th>123215</th>\n",
       "      <td>2019-03-29</td>\n",
       "      <td>9060</td>\n",
       "      <td>NaN</td>\n",
       "      <td>NaN</td>\n",
       "      <td>NaN</td>\n",
       "      <td>NaN</td>\n",
       "      <td>NaN</td>\n",
       "      <td>MASS</td>\n",
       "      <td>Y</td>\n",
       "      <td>FEMALE</td>\n",
       "      <td>MARRIED COM</td>\n",
       "      <td>8000.0</td>\n",
       "      <td>NaN</td>\n",
       "      <td>SECONDARY INCOMPLETE</td>\n",
       "    </tr>\n",
       "    <tr>\n",
       "      <th>123216</th>\n",
       "      <td>2019-03-29</td>\n",
       "      <td>8637</td>\n",
       "      <td>NaN</td>\n",
       "      <td>NaN</td>\n",
       "      <td>NaN</td>\n",
       "      <td>NaN</td>\n",
       "      <td>NaN</td>\n",
       "      <td>SEGMENT 18-25</td>\n",
       "      <td>Y</td>\n",
       "      <td>MALE</td>\n",
       "      <td>SINGLE</td>\n",
       "      <td>8000.0</td>\n",
       "      <td>NaN</td>\n",
       "      <td>SECONDARY INCOMPLETE</td>\n",
       "    </tr>\n",
       "    <tr>\n",
       "      <th>123217</th>\n",
       "      <td>2019-03-29</td>\n",
       "      <td>2</td>\n",
       "      <td>NaN</td>\n",
       "      <td>NaN</td>\n",
       "      <td>NaN</td>\n",
       "      <td>NaN</td>\n",
       "      <td>NaN</td>\n",
       "      <td>SEGMENT 18-25</td>\n",
       "      <td>Y</td>\n",
       "      <td>MALE</td>\n",
       "      <td>SINGLE</td>\n",
       "      <td>0.0</td>\n",
       "      <td>NaN</td>\n",
       "      <td>SECONDARY INCOMPLETE</td>\n",
       "    </tr>\n",
       "    <tr>\n",
       "      <th>...</th>\n",
       "      <td>...</td>\n",
       "      <td>...</td>\n",
       "      <td>...</td>\n",
       "      <td>...</td>\n",
       "      <td>...</td>\n",
       "      <td>...</td>\n",
       "      <td>...</td>\n",
       "      <td>...</td>\n",
       "      <td>...</td>\n",
       "      <td>...</td>\n",
       "      <td>...</td>\n",
       "      <td>...</td>\n",
       "      <td>...</td>\n",
       "      <td>...</td>\n",
       "    </tr>\n",
       "    <tr>\n",
       "      <th>131339</th>\n",
       "      <td>2019-03-29</td>\n",
       "      <td>8541</td>\n",
       "      <td>NaN</td>\n",
       "      <td>NaN</td>\n",
       "      <td>NaN</td>\n",
       "      <td>NaN</td>\n",
       "      <td>NaN</td>\n",
       "      <td>SEGMENT 18-25</td>\n",
       "      <td>Y</td>\n",
       "      <td>MALE</td>\n",
       "      <td>SINGLE</td>\n",
       "      <td>0.0</td>\n",
       "      <td>NaN</td>\n",
       "      <td>SECONDARY INCOMPLETE</td>\n",
       "    </tr>\n",
       "    <tr>\n",
       "      <th>131340</th>\n",
       "      <td>2019-03-29</td>\n",
       "      <td>8802</td>\n",
       "      <td>NaN</td>\n",
       "      <td>NaN</td>\n",
       "      <td>NaN</td>\n",
       "      <td>NaN</td>\n",
       "      <td>NaN</td>\n",
       "      <td>MASS</td>\n",
       "      <td>Y</td>\n",
       "      <td>MALE</td>\n",
       "      <td>SINGLE</td>\n",
       "      <td>10000.0</td>\n",
       "      <td>NaN</td>\n",
       "      <td>SECONDARY INCOMPLETE</td>\n",
       "    </tr>\n",
       "    <tr>\n",
       "      <th>131341</th>\n",
       "      <td>2019-03-29</td>\n",
       "      <td>8542</td>\n",
       "      <td>NaN</td>\n",
       "      <td>NaN</td>\n",
       "      <td>NaN</td>\n",
       "      <td>NaN</td>\n",
       "      <td>NaN</td>\n",
       "      <td>MASS</td>\n",
       "      <td>Y</td>\n",
       "      <td>MALE</td>\n",
       "      <td>DIVORCED</td>\n",
       "      <td>30000.0</td>\n",
       "      <td>2.0</td>\n",
       "      <td>SECONDARY COMPLETE</td>\n",
       "    </tr>\n",
       "    <tr>\n",
       "      <th>131342</th>\n",
       "      <td>2019-03-29</td>\n",
       "      <td>8543</td>\n",
       "      <td>NaN</td>\n",
       "      <td>NaN</td>\n",
       "      <td>NaN</td>\n",
       "      <td>NaN</td>\n",
       "      <td>NaN</td>\n",
       "      <td>MASS</td>\n",
       "      <td>Y</td>\n",
       "      <td>FEMALE</td>\n",
       "      <td>MARRIED COM</td>\n",
       "      <td>0.0</td>\n",
       "      <td>4.0</td>\n",
       "      <td>SECONDARY INCOMPLETE</td>\n",
       "    </tr>\n",
       "    <tr>\n",
       "      <th>131343</th>\n",
       "      <td>2019-03-29</td>\n",
       "      <td>8890</td>\n",
       "      <td>NaN</td>\n",
       "      <td>NaN</td>\n",
       "      <td>NaN</td>\n",
       "      <td>NaN</td>\n",
       "      <td>NaN</td>\n",
       "      <td>SEGMENT 18-25</td>\n",
       "      <td>Y</td>\n",
       "      <td>FEMALE</td>\n",
       "      <td>SINGLE</td>\n",
       "      <td>0.0</td>\n",
       "      <td>NaN</td>\n",
       "      <td>UNIVERSITY</td>\n",
       "    </tr>\n",
       "  </tbody>\n",
       "</table>\n",
       "<p>8131 rows × 14 columns</p>\n",
       "</div>"
      ],
      "text/plain": [
       "         RUN_DATE   CIR  loan_car_application  loan_education_application  \\\n",
       "123213 2019-03-29  8803                   NaN                         NaN   \n",
       "123214 2019-03-29     1                   NaN                         NaN   \n",
       "123215 2019-03-29  9060                   NaN                         NaN   \n",
       "123216 2019-03-29  8637                   NaN                         NaN   \n",
       "123217 2019-03-29     2                   NaN                         NaN   \n",
       "...           ...   ...                   ...                         ...   \n",
       "131339 2019-03-29  8541                   NaN                         NaN   \n",
       "131340 2019-03-29  8802                   NaN                         NaN   \n",
       "131341 2019-03-29  8542                   NaN                         NaN   \n",
       "131342 2019-03-29  8543                   NaN                         NaN   \n",
       "131343 2019-03-29  8890                   NaN                         NaN   \n",
       "\n",
       "        loan_general_application  loan_housing_application  \\\n",
       "123213                       NaN                       NaN   \n",
       "123214                       NaN                       NaN   \n",
       "123215                       NaN                       NaN   \n",
       "123216                       NaN                       NaN   \n",
       "123217                       NaN                       NaN   \n",
       "...                          ...                       ...   \n",
       "131339                       NaN                       NaN   \n",
       "131340                       NaN                       NaN   \n",
       "131341                       NaN                       NaN   \n",
       "131342                       NaN                       NaN   \n",
       "131343                       NaN                       NaN   \n",
       "\n",
       "        loan_personal_application MARKET_SEGMENT_DESCRIPTION RESIDENT_FLAG  \\\n",
       "123213                        NaN              SEGMENT 18-25             Y   \n",
       "123214                        NaN                       MASS             Y   \n",
       "123215                        NaN                       MASS             Y   \n",
       "123216                        NaN              SEGMENT 18-25             Y   \n",
       "123217                        NaN              SEGMENT 18-25             Y   \n",
       "...                           ...                        ...           ...   \n",
       "131339                        NaN              SEGMENT 18-25             Y   \n",
       "131340                        NaN                       MASS             Y   \n",
       "131341                        NaN                       MASS             Y   \n",
       "131342                        NaN                       MASS             Y   \n",
       "131343                        NaN              SEGMENT 18-25             Y   \n",
       "\n",
       "        GENDER MARITAL_STATUS_DESCRIPTION  SALARY_AMOUNT  \\\n",
       "123213  FEMALE                     SINGLE            0.0   \n",
       "123214    MALE                MARRIED COM        22000.0   \n",
       "123215  FEMALE                MARRIED COM         8000.0   \n",
       "123216    MALE                     SINGLE         8000.0   \n",
       "123217    MALE                     SINGLE            0.0   \n",
       "...        ...                        ...            ...   \n",
       "131339    MALE                     SINGLE            0.0   \n",
       "131340    MALE                     SINGLE        10000.0   \n",
       "131341    MALE                   DIVORCED        30000.0   \n",
       "131342  FEMALE                MARRIED COM            0.0   \n",
       "131343  FEMALE                     SINGLE            0.0   \n",
       "\n",
       "        NUMBER_OF_DEPENDANTS CERTIFICATION_ACHIEVEMENT_DESCRIPTION  \n",
       "123213                   NaN                    SECONDARY COMPLETE  \n",
       "123214                   1.0                            UNIVERSITY  \n",
       "123215                   NaN                  SECONDARY INCOMPLETE  \n",
       "123216                   NaN                  SECONDARY INCOMPLETE  \n",
       "123217                   NaN                  SECONDARY INCOMPLETE  \n",
       "...                      ...                                   ...  \n",
       "131339                   NaN                  SECONDARY INCOMPLETE  \n",
       "131340                   NaN                  SECONDARY INCOMPLETE  \n",
       "131341                   2.0                    SECONDARY COMPLETE  \n",
       "131342                   4.0                  SECONDARY INCOMPLETE  \n",
       "131343                   NaN                            UNIVERSITY  \n",
       "\n",
       "[8131 rows x 14 columns]"
      ]
     },
     "execution_count": 151,
     "metadata": {},
     "output_type": "execute_result"
    }
   ],
   "source": [
    "merge_account_df[merge_account_df.RUN_DATE==end_date]"
   ]
  },
  {
   "cell_type": "code",
   "execution_count": 149,
   "metadata": {},
   "outputs": [
    {
     "data": {
      "text/html": [
       "<div>\n",
       "<style scoped>\n",
       "    .dataframe tbody tr th:only-of-type {\n",
       "        vertical-align: middle;\n",
       "    }\n",
       "\n",
       "    .dataframe tbody tr th {\n",
       "        vertical-align: top;\n",
       "    }\n",
       "\n",
       "    .dataframe thead th {\n",
       "        text-align: right;\n",
       "    }\n",
       "</style>\n",
       "<table border=\"1\" class=\"dataframe\">\n",
       "  <thead>\n",
       "    <tr style=\"text-align: right;\">\n",
       "      <th></th>\n",
       "      <th>RUN_DATE</th>\n",
       "      <th>CIR</th>\n",
       "      <th>loan_car_application</th>\n",
       "      <th>loan_education_application</th>\n",
       "      <th>loan_general_application</th>\n",
       "      <th>loan_housing_application</th>\n",
       "      <th>loan_personal_application</th>\n",
       "    </tr>\n",
       "  </thead>\n",
       "  <tbody>\n",
       "    <tr>\n",
       "      <th>140562</th>\n",
       "      <td>2019-03-29</td>\n",
       "      <td>8803</td>\n",
       "      <td>NaN</td>\n",
       "      <td>NaN</td>\n",
       "      <td>NaN</td>\n",
       "      <td>NaN</td>\n",
       "      <td>NaN</td>\n",
       "    </tr>\n",
       "    <tr>\n",
       "      <th>140563</th>\n",
       "      <td>2019-03-29</td>\n",
       "      <td>1</td>\n",
       "      <td>NaN</td>\n",
       "      <td>NaN</td>\n",
       "      <td>NaN</td>\n",
       "      <td>NaN</td>\n",
       "      <td>NaN</td>\n",
       "    </tr>\n",
       "    <tr>\n",
       "      <th>140564</th>\n",
       "      <td>2019-03-29</td>\n",
       "      <td>9060</td>\n",
       "      <td>NaN</td>\n",
       "      <td>NaN</td>\n",
       "      <td>NaN</td>\n",
       "      <td>NaN</td>\n",
       "      <td>NaN</td>\n",
       "    </tr>\n",
       "    <tr>\n",
       "      <th>140565</th>\n",
       "      <td>2019-03-29</td>\n",
       "      <td>8637</td>\n",
       "      <td>NaN</td>\n",
       "      <td>NaN</td>\n",
       "      <td>NaN</td>\n",
       "      <td>NaN</td>\n",
       "      <td>NaN</td>\n",
       "    </tr>\n",
       "    <tr>\n",
       "      <th>140566</th>\n",
       "      <td>2019-03-29</td>\n",
       "      <td>2</td>\n",
       "      <td>NaN</td>\n",
       "      <td>NaN</td>\n",
       "      <td>NaN</td>\n",
       "      <td>NaN</td>\n",
       "      <td>NaN</td>\n",
       "    </tr>\n",
       "    <tr>\n",
       "      <th>...</th>\n",
       "      <td>...</td>\n",
       "      <td>...</td>\n",
       "      <td>...</td>\n",
       "      <td>...</td>\n",
       "      <td>...</td>\n",
       "      <td>...</td>\n",
       "      <td>...</td>\n",
       "    </tr>\n",
       "    <tr>\n",
       "      <th>149761</th>\n",
       "      <td>2019-03-29</td>\n",
       "      <td>8541</td>\n",
       "      <td>NaN</td>\n",
       "      <td>NaN</td>\n",
       "      <td>NaN</td>\n",
       "      <td>NaN</td>\n",
       "      <td>NaN</td>\n",
       "    </tr>\n",
       "    <tr>\n",
       "      <th>149762</th>\n",
       "      <td>2019-03-29</td>\n",
       "      <td>8802</td>\n",
       "      <td>NaN</td>\n",
       "      <td>NaN</td>\n",
       "      <td>NaN</td>\n",
       "      <td>NaN</td>\n",
       "      <td>NaN</td>\n",
       "    </tr>\n",
       "    <tr>\n",
       "      <th>149763</th>\n",
       "      <td>2019-03-29</td>\n",
       "      <td>8542</td>\n",
       "      <td>NaN</td>\n",
       "      <td>NaN</td>\n",
       "      <td>NaN</td>\n",
       "      <td>NaN</td>\n",
       "      <td>NaN</td>\n",
       "    </tr>\n",
       "    <tr>\n",
       "      <th>149764</th>\n",
       "      <td>2019-03-29</td>\n",
       "      <td>8543</td>\n",
       "      <td>NaN</td>\n",
       "      <td>NaN</td>\n",
       "      <td>NaN</td>\n",
       "      <td>NaN</td>\n",
       "      <td>NaN</td>\n",
       "    </tr>\n",
       "    <tr>\n",
       "      <th>149765</th>\n",
       "      <td>2019-03-29</td>\n",
       "      <td>8890</td>\n",
       "      <td>NaN</td>\n",
       "      <td>NaN</td>\n",
       "      <td>NaN</td>\n",
       "      <td>NaN</td>\n",
       "      <td>NaN</td>\n",
       "    </tr>\n",
       "  </tbody>\n",
       "</table>\n",
       "<p>9204 rows × 7 columns</p>\n",
       "</div>"
      ],
      "text/plain": [
       "         RUN_DATE   CIR  loan_car_application  loan_education_application  \\\n",
       "140562 2019-03-29  8803                   NaN                         NaN   \n",
       "140563 2019-03-29     1                   NaN                         NaN   \n",
       "140564 2019-03-29  9060                   NaN                         NaN   \n",
       "140565 2019-03-29  8637                   NaN                         NaN   \n",
       "140566 2019-03-29     2                   NaN                         NaN   \n",
       "...           ...   ...                   ...                         ...   \n",
       "149761 2019-03-29  8541                   NaN                         NaN   \n",
       "149762 2019-03-29  8802                   NaN                         NaN   \n",
       "149763 2019-03-29  8542                   NaN                         NaN   \n",
       "149764 2019-03-29  8543                   NaN                         NaN   \n",
       "149765 2019-03-29  8890                   NaN                         NaN   \n",
       "\n",
       "        loan_general_application  loan_housing_application  \\\n",
       "140562                       NaN                       NaN   \n",
       "140563                       NaN                       NaN   \n",
       "140564                       NaN                       NaN   \n",
       "140565                       NaN                       NaN   \n",
       "140566                       NaN                       NaN   \n",
       "...                          ...                       ...   \n",
       "149761                       NaN                       NaN   \n",
       "149762                       NaN                       NaN   \n",
       "149763                       NaN                       NaN   \n",
       "149764                       NaN                       NaN   \n",
       "149765                       NaN                       NaN   \n",
       "\n",
       "        loan_personal_application  \n",
       "140562                        NaN  \n",
       "140563                        NaN  \n",
       "140564                        NaN  \n",
       "140565                        NaN  \n",
       "140566                        NaN  \n",
       "...                           ...  \n",
       "149761                        NaN  \n",
       "149762                        NaN  \n",
       "149763                        NaN  \n",
       "149764                        NaN  \n",
       "149765                        NaN  \n",
       "\n",
       "[9204 rows x 7 columns]"
      ]
     },
     "execution_count": 149,
     "metadata": {},
     "output_type": "execute_result"
    }
   ],
   "source": [
    "account_df[f1]"
   ]
  },
  {
   "cell_type": "code",
   "execution_count": 148,
   "metadata": {},
   "outputs": [
    {
     "data": {
      "text/plain": [
       "(9181, 5)"
      ]
     },
     "execution_count": 148,
     "metadata": {},
     "output_type": "execute_result"
    }
   ],
   "source": [
    "account_df[g1][['loan_car_application',\n",
    " 'loan_education_application',\n",
    " 'loan_general_application',\n",
    " 'loan_housing_application',\n",
    " 'loan_personal_application']].shape"
   ]
  },
  {
   "cell_type": "code",
   "execution_count": 61,
   "metadata": {},
   "outputs": [
    {
     "data": {
      "text/plain": [
       "NaN    149273\n",
       "0.0       425\n",
       "9.0        31\n",
       "2.0         9\n",
       "6.0         8\n",
       "1.0         5\n",
       "8.0         5\n",
       "5.0         3\n",
       "4.0         3\n",
       "7.0         2\n",
       "3.0         2\n",
       "Name: loan_general_application, dtype: int64"
      ]
     },
     "execution_count": 61,
     "metadata": {},
     "output_type": "execute_result"
    }
   ],
   "source": [
    "account_df.loan_general_application.value_counts(dropna=False)"
   ]
  },
  {
   "cell_type": "markdown",
   "metadata": {},
   "source": [
    "### Explore transaction detail:"
   ]
  },
  {
   "cell_type": "markdown",
   "metadata": {},
   "source": [
    "#### Read the transaction file:"
   ]
  },
  {
   "cell_type": "code",
   "execution_count": 103,
   "metadata": {},
   "outputs": [],
   "source": [
    "transaction_df=pd.read_csv(filepath_or_buffer=file_path+transaction_fname)"
   ]
  },
  {
   "cell_type": "code",
   "execution_count": 104,
   "metadata": {},
   "outputs": [
    {
     "data": {
      "text/plain": [
       "['CIR',\n",
       " 'RUN_Date',\n",
       " 'sum.amt_Bank Draft_N',\n",
       " 'sum.amt_Bank Fee_N',\n",
       " 'sum.amt_Bundle Fee_N',\n",
       " 'sum.amt_Cash Depo_N',\n",
       " 'sum.amt_Cash Out_N',\n",
       " 'sum.amt_Cheque_N',\n",
       " 'sum.amt_Contra Entry_N',\n",
       " 'sum.amt_Cr Intr_N',\n",
       " 'sum.amt_Db Intr_N',\n",
       " 'sum.amt_Direct Db_N',\n",
       " 'sum.amt_FD Maturity_N',\n",
       " 'sum.amt_FD Pre Closure_N',\n",
       " 'sum.amt_FD Set Up_N',\n",
       " 'sum.amt_Failed Direct Db_N',\n",
       " 'sum.amt_Ignore_N',\n",
       " 'sum.amt_Income_N',\n",
       " 'sum.amt_Insurance_N',\n",
       " 'sum.amt_Intr_N',\n",
       " 'sum.amt_Inward Trnf_N',\n",
       " 'sum.amt_Loan Repay_N',\n",
       " 'sum.amt_Locker Depo_N',\n",
       " 'sum.amt_Merchant Stlmt_N',\n",
       " 'sum.amt_MoneyGram_N',\n",
       " 'sum.amt_Others_N',\n",
       " 'sum.amt_Out. Trnf_N',\n",
       " 'sum.amt_Past Due_N',\n",
       " 'sum.amt_Payment_N',\n",
       " 'sum.amt_Refill_N',\n",
       " 'sum.amt_Reject_N',\n",
       " 'sum.amt_Securities_N',\n",
       " 'sum.amt_Securities Purchase_N',\n",
       " 'sum.amt_Securities Sale_N',\n",
       " 'sum.amt_Stdin Order_N',\n",
       " 'sum.amt_Trnf_N',\n",
       " 'sum.amt_Unpaid Fee_N',\n",
       " 'sum.amt_NA_N',\n",
       " 'sum.amt_NA_P']"
      ]
     },
     "execution_count": 104,
     "metadata": {},
     "output_type": "execute_result"
    }
   ],
   "source": [
    "list(transaction_df)"
   ]
  },
  {
   "cell_type": "code",
   "execution_count": 106,
   "metadata": {},
   "outputs": [
    {
     "data": {
      "text/html": [
       "<div>\n",
       "<style scoped>\n",
       "    .dataframe tbody tr th:only-of-type {\n",
       "        vertical-align: middle;\n",
       "    }\n",
       "\n",
       "    .dataframe tbody tr th {\n",
       "        vertical-align: top;\n",
       "    }\n",
       "\n",
       "    .dataframe thead th {\n",
       "        text-align: right;\n",
       "    }\n",
       "</style>\n",
       "<table border=\"1\" class=\"dataframe\">\n",
       "  <thead>\n",
       "    <tr style=\"text-align: right;\">\n",
       "      <th></th>\n",
       "      <th>CIR</th>\n",
       "      <th>RUN_Date</th>\n",
       "      <th>sum.amt_Bank Draft_N</th>\n",
       "      <th>sum.amt_Bank Fee_N</th>\n",
       "      <th>sum.amt_Bundle Fee_N</th>\n",
       "      <th>sum.amt_Cash Depo_N</th>\n",
       "      <th>sum.amt_Cash Out_N</th>\n",
       "      <th>sum.amt_Cheque_N</th>\n",
       "      <th>sum.amt_Contra Entry_N</th>\n",
       "      <th>sum.amt_Cr Intr_N</th>\n",
       "      <th>...</th>\n",
       "      <th>sum.amt_Refill_N</th>\n",
       "      <th>sum.amt_Reject_N</th>\n",
       "      <th>sum.amt_Securities_N</th>\n",
       "      <th>sum.amt_Securities Purchase_N</th>\n",
       "      <th>sum.amt_Securities Sale_N</th>\n",
       "      <th>sum.amt_Stdin Order_N</th>\n",
       "      <th>sum.amt_Trnf_N</th>\n",
       "      <th>sum.amt_Unpaid Fee_N</th>\n",
       "      <th>sum.amt_NA_N</th>\n",
       "      <th>sum.amt_NA_P</th>\n",
       "    </tr>\n",
       "  </thead>\n",
       "  <tbody>\n",
       "    <tr>\n",
       "      <th>66030</th>\n",
       "      <td>8890</td>\n",
       "      <td>2016.00</td>\n",
       "      <td>0.0</td>\n",
       "      <td>-0.5</td>\n",
       "      <td>0.0</td>\n",
       "      <td>0.0</td>\n",
       "      <td>0.0</td>\n",
       "      <td>0.0</td>\n",
       "      <td>0.0</td>\n",
       "      <td>0.0</td>\n",
       "      <td>...</td>\n",
       "      <td>-130.44</td>\n",
       "      <td>0.00</td>\n",
       "      <td>0.0</td>\n",
       "      <td>0.0</td>\n",
       "      <td>0.0</td>\n",
       "      <td>0.0</td>\n",
       "      <td>0.0</td>\n",
       "      <td>0.0</td>\n",
       "      <td>0.0</td>\n",
       "      <td>0.0</td>\n",
       "    </tr>\n",
       "    <tr>\n",
       "      <th>66031</th>\n",
       "      <td>8890</td>\n",
       "      <td>2016.25</td>\n",
       "      <td>0.0</td>\n",
       "      <td>0.0</td>\n",
       "      <td>0.0</td>\n",
       "      <td>0.0</td>\n",
       "      <td>0.0</td>\n",
       "      <td>0.0</td>\n",
       "      <td>0.0</td>\n",
       "      <td>0.0</td>\n",
       "      <td>...</td>\n",
       "      <td>-86.96</td>\n",
       "      <td>0.00</td>\n",
       "      <td>0.0</td>\n",
       "      <td>0.0</td>\n",
       "      <td>0.0</td>\n",
       "      <td>0.0</td>\n",
       "      <td>0.0</td>\n",
       "      <td>0.0</td>\n",
       "      <td>0.0</td>\n",
       "      <td>0.0</td>\n",
       "    </tr>\n",
       "    <tr>\n",
       "      <th>66032</th>\n",
       "      <td>8890</td>\n",
       "      <td>2016.50</td>\n",
       "      <td>0.0</td>\n",
       "      <td>-3.5</td>\n",
       "      <td>0.0</td>\n",
       "      <td>0.0</td>\n",
       "      <td>0.0</td>\n",
       "      <td>0.0</td>\n",
       "      <td>0.0</td>\n",
       "      <td>0.0</td>\n",
       "      <td>...</td>\n",
       "      <td>-304.36</td>\n",
       "      <td>-1870.00</td>\n",
       "      <td>0.0</td>\n",
       "      <td>0.0</td>\n",
       "      <td>0.0</td>\n",
       "      <td>0.0</td>\n",
       "      <td>0.0</td>\n",
       "      <td>0.0</td>\n",
       "      <td>0.0</td>\n",
       "      <td>0.0</td>\n",
       "    </tr>\n",
       "    <tr>\n",
       "      <th>66033</th>\n",
       "      <td>8890</td>\n",
       "      <td>2016.75</td>\n",
       "      <td>0.0</td>\n",
       "      <td>0.0</td>\n",
       "      <td>0.0</td>\n",
       "      <td>0.0</td>\n",
       "      <td>0.0</td>\n",
       "      <td>0.0</td>\n",
       "      <td>0.0</td>\n",
       "      <td>0.0</td>\n",
       "      <td>...</td>\n",
       "      <td>-173.92</td>\n",
       "      <td>0.00</td>\n",
       "      <td>0.0</td>\n",
       "      <td>0.0</td>\n",
       "      <td>0.0</td>\n",
       "      <td>0.0</td>\n",
       "      <td>0.0</td>\n",
       "      <td>0.0</td>\n",
       "      <td>0.0</td>\n",
       "      <td>0.0</td>\n",
       "    </tr>\n",
       "    <tr>\n",
       "      <th>66034</th>\n",
       "      <td>8890</td>\n",
       "      <td>2017.25</td>\n",
       "      <td>0.0</td>\n",
       "      <td>-1.5</td>\n",
       "      <td>0.0</td>\n",
       "      <td>0.0</td>\n",
       "      <td>0.0</td>\n",
       "      <td>0.0</td>\n",
       "      <td>0.0</td>\n",
       "      <td>0.0</td>\n",
       "      <td>...</td>\n",
       "      <td>-130.44</td>\n",
       "      <td>-800.00</td>\n",
       "      <td>0.0</td>\n",
       "      <td>0.0</td>\n",
       "      <td>0.0</td>\n",
       "      <td>0.0</td>\n",
       "      <td>-600.0</td>\n",
       "      <td>0.0</td>\n",
       "      <td>0.0</td>\n",
       "      <td>0.0</td>\n",
       "    </tr>\n",
       "    <tr>\n",
       "      <th>66035</th>\n",
       "      <td>8890</td>\n",
       "      <td>2017.50</td>\n",
       "      <td>0.0</td>\n",
       "      <td>-2.0</td>\n",
       "      <td>0.0</td>\n",
       "      <td>0.0</td>\n",
       "      <td>-60000.0</td>\n",
       "      <td>0.0</td>\n",
       "      <td>0.0</td>\n",
       "      <td>0.0</td>\n",
       "      <td>...</td>\n",
       "      <td>0.00</td>\n",
       "      <td>-800.00</td>\n",
       "      <td>0.0</td>\n",
       "      <td>0.0</td>\n",
       "      <td>0.0</td>\n",
       "      <td>0.0</td>\n",
       "      <td>-1500.0</td>\n",
       "      <td>0.0</td>\n",
       "      <td>0.0</td>\n",
       "      <td>0.0</td>\n",
       "    </tr>\n",
       "    <tr>\n",
       "      <th>66036</th>\n",
       "      <td>8890</td>\n",
       "      <td>2017.75</td>\n",
       "      <td>0.0</td>\n",
       "      <td>0.0</td>\n",
       "      <td>0.0</td>\n",
       "      <td>0.0</td>\n",
       "      <td>0.0</td>\n",
       "      <td>0.0</td>\n",
       "      <td>0.0</td>\n",
       "      <td>0.0</td>\n",
       "      <td>...</td>\n",
       "      <td>0.00</td>\n",
       "      <td>-1000.00</td>\n",
       "      <td>0.0</td>\n",
       "      <td>0.0</td>\n",
       "      <td>0.0</td>\n",
       "      <td>0.0</td>\n",
       "      <td>-3500.0</td>\n",
       "      <td>0.0</td>\n",
       "      <td>0.0</td>\n",
       "      <td>0.0</td>\n",
       "    </tr>\n",
       "    <tr>\n",
       "      <th>66037</th>\n",
       "      <td>8890</td>\n",
       "      <td>2018.00</td>\n",
       "      <td>0.0</td>\n",
       "      <td>-1.0</td>\n",
       "      <td>0.0</td>\n",
       "      <td>0.0</td>\n",
       "      <td>0.0</td>\n",
       "      <td>0.0</td>\n",
       "      <td>0.0</td>\n",
       "      <td>0.0</td>\n",
       "      <td>...</td>\n",
       "      <td>-130.44</td>\n",
       "      <td>-10098.00</td>\n",
       "      <td>0.0</td>\n",
       "      <td>0.0</td>\n",
       "      <td>0.0</td>\n",
       "      <td>0.0</td>\n",
       "      <td>-15655.0</td>\n",
       "      <td>0.0</td>\n",
       "      <td>0.0</td>\n",
       "      <td>0.0</td>\n",
       "    </tr>\n",
       "    <tr>\n",
       "      <th>66038</th>\n",
       "      <td>8890</td>\n",
       "      <td>2018.25</td>\n",
       "      <td>0.0</td>\n",
       "      <td>-1.5</td>\n",
       "      <td>0.0</td>\n",
       "      <td>0.0</td>\n",
       "      <td>0.0</td>\n",
       "      <td>0.0</td>\n",
       "      <td>0.0</td>\n",
       "      <td>0.0</td>\n",
       "      <td>...</td>\n",
       "      <td>-260.88</td>\n",
       "      <td>-979.19</td>\n",
       "      <td>0.0</td>\n",
       "      <td>0.0</td>\n",
       "      <td>0.0</td>\n",
       "      <td>0.0</td>\n",
       "      <td>-1300.0</td>\n",
       "      <td>0.0</td>\n",
       "      <td>0.0</td>\n",
       "      <td>0.0</td>\n",
       "    </tr>\n",
       "    <tr>\n",
       "      <th>66039</th>\n",
       "      <td>8890</td>\n",
       "      <td>2018.50</td>\n",
       "      <td>0.0</td>\n",
       "      <td>-1.0</td>\n",
       "      <td>0.0</td>\n",
       "      <td>0.0</td>\n",
       "      <td>-57000.0</td>\n",
       "      <td>0.0</td>\n",
       "      <td>0.0</td>\n",
       "      <td>0.0</td>\n",
       "      <td>...</td>\n",
       "      <td>-217.40</td>\n",
       "      <td>0.00</td>\n",
       "      <td>0.0</td>\n",
       "      <td>0.0</td>\n",
       "      <td>0.0</td>\n",
       "      <td>0.0</td>\n",
       "      <td>-4055.0</td>\n",
       "      <td>0.0</td>\n",
       "      <td>0.0</td>\n",
       "      <td>0.0</td>\n",
       "    </tr>\n",
       "    <tr>\n",
       "      <th>66040</th>\n",
       "      <td>8890</td>\n",
       "      <td>2018.75</td>\n",
       "      <td>0.0</td>\n",
       "      <td>0.0</td>\n",
       "      <td>0.0</td>\n",
       "      <td>0.0</td>\n",
       "      <td>0.0</td>\n",
       "      <td>0.0</td>\n",
       "      <td>0.0</td>\n",
       "      <td>0.0</td>\n",
       "      <td>...</td>\n",
       "      <td>-217.40</td>\n",
       "      <td>-1500.00</td>\n",
       "      <td>0.0</td>\n",
       "      <td>0.0</td>\n",
       "      <td>0.0</td>\n",
       "      <td>0.0</td>\n",
       "      <td>-265.0</td>\n",
       "      <td>0.0</td>\n",
       "      <td>0.0</td>\n",
       "      <td>0.0</td>\n",
       "    </tr>\n",
       "    <tr>\n",
       "      <th>110028</th>\n",
       "      <td>8890</td>\n",
       "      <td>2019.00</td>\n",
       "      <td>0.0</td>\n",
       "      <td>0.0</td>\n",
       "      <td>0.0</td>\n",
       "      <td>0.0</td>\n",
       "      <td>0.0</td>\n",
       "      <td>0.0</td>\n",
       "      <td>0.0</td>\n",
       "      <td>NaN</td>\n",
       "      <td>...</td>\n",
       "      <td>-217.40</td>\n",
       "      <td>-800.00</td>\n",
       "      <td>0.0</td>\n",
       "      <td>0.0</td>\n",
       "      <td>0.0</td>\n",
       "      <td>0.0</td>\n",
       "      <td>-974.0</td>\n",
       "      <td>0.0</td>\n",
       "      <td>0.0</td>\n",
       "      <td>0.0</td>\n",
       "    </tr>\n",
       "  </tbody>\n",
       "</table>\n",
       "<p>12 rows × 39 columns</p>\n",
       "</div>"
      ],
      "text/plain": [
       "         CIR  RUN_Date  sum.amt_Bank Draft_N  sum.amt_Bank Fee_N  \\\n",
       "66030   8890   2016.00                   0.0                -0.5   \n",
       "66031   8890   2016.25                   0.0                 0.0   \n",
       "66032   8890   2016.50                   0.0                -3.5   \n",
       "66033   8890   2016.75                   0.0                 0.0   \n",
       "66034   8890   2017.25                   0.0                -1.5   \n",
       "66035   8890   2017.50                   0.0                -2.0   \n",
       "66036   8890   2017.75                   0.0                 0.0   \n",
       "66037   8890   2018.00                   0.0                -1.0   \n",
       "66038   8890   2018.25                   0.0                -1.5   \n",
       "66039   8890   2018.50                   0.0                -1.0   \n",
       "66040   8890   2018.75                   0.0                 0.0   \n",
       "110028  8890   2019.00                   0.0                 0.0   \n",
       "\n",
       "        sum.amt_Bundle Fee_N  sum.amt_Cash Depo_N  sum.amt_Cash Out_N  \\\n",
       "66030                    0.0                  0.0                 0.0   \n",
       "66031                    0.0                  0.0                 0.0   \n",
       "66032                    0.0                  0.0                 0.0   \n",
       "66033                    0.0                  0.0                 0.0   \n",
       "66034                    0.0                  0.0                 0.0   \n",
       "66035                    0.0                  0.0            -60000.0   \n",
       "66036                    0.0                  0.0                 0.0   \n",
       "66037                    0.0                  0.0                 0.0   \n",
       "66038                    0.0                  0.0                 0.0   \n",
       "66039                    0.0                  0.0            -57000.0   \n",
       "66040                    0.0                  0.0                 0.0   \n",
       "110028                   0.0                  0.0                 0.0   \n",
       "\n",
       "        sum.amt_Cheque_N  sum.amt_Contra Entry_N  sum.amt_Cr Intr_N  ...  \\\n",
       "66030                0.0                     0.0                0.0  ...   \n",
       "66031                0.0                     0.0                0.0  ...   \n",
       "66032                0.0                     0.0                0.0  ...   \n",
       "66033                0.0                     0.0                0.0  ...   \n",
       "66034                0.0                     0.0                0.0  ...   \n",
       "66035                0.0                     0.0                0.0  ...   \n",
       "66036                0.0                     0.0                0.0  ...   \n",
       "66037                0.0                     0.0                0.0  ...   \n",
       "66038                0.0                     0.0                0.0  ...   \n",
       "66039                0.0                     0.0                0.0  ...   \n",
       "66040                0.0                     0.0                0.0  ...   \n",
       "110028               0.0                     0.0                NaN  ...   \n",
       "\n",
       "        sum.amt_Refill_N  sum.amt_Reject_N  sum.amt_Securities_N  \\\n",
       "66030            -130.44              0.00                   0.0   \n",
       "66031             -86.96              0.00                   0.0   \n",
       "66032            -304.36          -1870.00                   0.0   \n",
       "66033            -173.92              0.00                   0.0   \n",
       "66034            -130.44           -800.00                   0.0   \n",
       "66035               0.00           -800.00                   0.0   \n",
       "66036               0.00          -1000.00                   0.0   \n",
       "66037            -130.44         -10098.00                   0.0   \n",
       "66038            -260.88           -979.19                   0.0   \n",
       "66039            -217.40              0.00                   0.0   \n",
       "66040            -217.40          -1500.00                   0.0   \n",
       "110028           -217.40           -800.00                   0.0   \n",
       "\n",
       "        sum.amt_Securities Purchase_N  sum.amt_Securities Sale_N  \\\n",
       "66030                             0.0                        0.0   \n",
       "66031                             0.0                        0.0   \n",
       "66032                             0.0                        0.0   \n",
       "66033                             0.0                        0.0   \n",
       "66034                             0.0                        0.0   \n",
       "66035                             0.0                        0.0   \n",
       "66036                             0.0                        0.0   \n",
       "66037                             0.0                        0.0   \n",
       "66038                             0.0                        0.0   \n",
       "66039                             0.0                        0.0   \n",
       "66040                             0.0                        0.0   \n",
       "110028                            0.0                        0.0   \n",
       "\n",
       "        sum.amt_Stdin Order_N  sum.amt_Trnf_N  sum.amt_Unpaid Fee_N  \\\n",
       "66030                     0.0             0.0                   0.0   \n",
       "66031                     0.0             0.0                   0.0   \n",
       "66032                     0.0             0.0                   0.0   \n",
       "66033                     0.0             0.0                   0.0   \n",
       "66034                     0.0          -600.0                   0.0   \n",
       "66035                     0.0         -1500.0                   0.0   \n",
       "66036                     0.0         -3500.0                   0.0   \n",
       "66037                     0.0        -15655.0                   0.0   \n",
       "66038                     0.0         -1300.0                   0.0   \n",
       "66039                     0.0         -4055.0                   0.0   \n",
       "66040                     0.0          -265.0                   0.0   \n",
       "110028                    0.0          -974.0                   0.0   \n",
       "\n",
       "        sum.amt_NA_N  sum.amt_NA_P  \n",
       "66030            0.0           0.0  \n",
       "66031            0.0           0.0  \n",
       "66032            0.0           0.0  \n",
       "66033            0.0           0.0  \n",
       "66034            0.0           0.0  \n",
       "66035            0.0           0.0  \n",
       "66036            0.0           0.0  \n",
       "66037            0.0           0.0  \n",
       "66038            0.0           0.0  \n",
       "66039            0.0           0.0  \n",
       "66040            0.0           0.0  \n",
       "110028           0.0           0.0  \n",
       "\n",
       "[12 rows x 39 columns]"
      ]
     },
     "execution_count": 106,
     "metadata": {},
     "output_type": "execute_result"
    }
   ],
   "source": [
    "# set(customer_df.RUN_DATE)\n",
    "8890\n",
    "transaction_df[transaction_df.CIR==8890]"
   ]
  },
  {
   "cell_type": "code",
   "execution_count": 136,
   "metadata": {},
   "outputs": [],
   "source": [
    "transaction_df['RUN_DATE_']=transaction_df.RUN_Date.apply(frac2date)"
   ]
  },
  {
   "cell_type": "code",
   "execution_count": 137,
   "metadata": {},
   "outputs": [
    {
     "data": {
      "text/plain": [
       "{Timestamp('2015-03-01 00:00:00'),\n",
       " Timestamp('2015-06-01 00:00:00'),\n",
       " Timestamp('2015-09-01 00:00:00'),\n",
       " Timestamp('2015-12-01 00:00:00'),\n",
       " Timestamp('2016-03-01 00:00:00'),\n",
       " Timestamp('2016-06-01 00:00:00'),\n",
       " Timestamp('2016-09-01 00:00:00'),\n",
       " Timestamp('2016-12-01 00:00:00'),\n",
       " Timestamp('2017-03-01 00:00:00'),\n",
       " Timestamp('2017-06-01 00:00:00'),\n",
       " Timestamp('2017-09-01 00:00:00'),\n",
       " Timestamp('2017-12-01 00:00:00'),\n",
       " Timestamp('2018-03-01 00:00:00'),\n",
       " Timestamp('2018-06-01 00:00:00'),\n",
       " Timestamp('2018-09-01 00:00:00'),\n",
       " Timestamp('2018-12-01 00:00:00'),\n",
       " Timestamp('2019-03-01 00:00:00')}"
      ]
     },
     "execution_count": 137,
     "metadata": {},
     "output_type": "execute_result"
    }
   ],
   "source": [
    "set(transaction_df['RUN_DATE_'])"
   ]
  },
  {
   "cell_type": "code",
   "execution_count": 138,
   "metadata": {},
   "outputs": [],
   "source": [
    "transaction_df['RUN_DATE']=transaction_df['RUN_DATE_'].apply(bmonth_end_fn)"
   ]
  },
  {
   "cell_type": "code",
   "execution_count": 139,
   "metadata": {},
   "outputs": [],
   "source": [
    "df=transaction_df[transaction_df.RUN_DATE==end_date]"
   ]
  },
  {
   "cell_type": "code",
   "execution_count": 162,
   "metadata": {},
   "outputs": [],
   "source": [
    "cluster_df=df[['sum.amt_Bank Draft_N',\n",
    " 'sum.amt_Bank Fee_N',\n",
    " 'sum.amt_Bundle Fee_N',\n",
    " 'sum.amt_Cash Depo_N',\n",
    " 'sum.amt_Cash Out_N',\n",
    " 'sum.amt_Cheque_N',\n",
    " 'sum.amt_Contra Entry_N',\n",
    "#  'sum.amt_Cr Intr_N',\n",
    " 'sum.amt_Db Intr_N',\n",
    " 'sum.amt_Direct Db_N',\n",
    " 'sum.amt_FD Maturity_N',\n",
    " 'sum.amt_FD Pre Closure_N',\n",
    " 'sum.amt_FD Set Up_N',\n",
    " 'sum.amt_Failed Direct Db_N',\n",
    " 'sum.amt_Ignore_N',\n",
    "#  'sum.amt_Income_N',\n",
    " 'sum.amt_Insurance_N',\n",
    " 'sum.amt_Intr_N',\n",
    " 'sum.amt_Inward Trnf_N',\n",
    " 'sum.amt_Loan Repay_N',\n",
    " 'sum.amt_Locker Depo_N',\n",
    " 'sum.amt_Merchant Stlmt_N',\n",
    " 'sum.amt_MoneyGram_N',\n",
    " 'sum.amt_Others_N',\n",
    " 'sum.amt_Out. Trnf_N',\n",
    " 'sum.amt_Past Due_N',\n",
    " 'sum.amt_Payment_N',\n",
    " 'sum.amt_Refill_N',\n",
    " 'sum.amt_Reject_N',\n",
    " 'sum.amt_Securities_N',\n",
    " 'sum.amt_Securities Purchase_N',\n",
    " 'sum.amt_Securities Sale_N',\n",
    " 'sum.amt_Stdin Order_N',\n",
    " 'sum.amt_Trnf_N',\n",
    " 'sum.amt_Unpaid Fee_N',\n",
    " 'sum.amt_NA_N',\n",
    " 'sum.amt_NA_P']]"
   ]
  },
  {
   "cell_type": "code",
   "execution_count": 164,
   "metadata": {},
   "outputs": [
    {
     "data": {
      "text/plain": [
       "0         2015.00\n",
       "1         2015.25\n",
       "2         2015.50\n",
       "3         2015.75\n",
       "4         2016.00\n",
       "           ...   \n",
       "113123    2019.00\n",
       "113124    2019.00\n",
       "113125    2019.00\n",
       "113126    2019.00\n",
       "113127    2019.00\n",
       "Name: RUN_Date, Length: 113128, dtype: float64"
      ]
     },
     "execution_count": 164,
     "metadata": {},
     "output_type": "execute_result"
    }
   ],
   "source": [
    "transaction_df['RUN_Date']"
   ]
  },
  {
   "cell_type": "code",
   "execution_count": 165,
   "metadata": {},
   "outputs": [
    {
     "data": {
      "text/plain": [
       "array([[    0. , -1345. ,     0. , ...,     0. ,     0. ,     0. ],\n",
       "       [    0. ,   -82.5,     0. , ...,     0. ,     0. ,     0. ],\n",
       "       [    0. ,  -588.5,     0. , ...,     0. ,     0. ,     0. ],\n",
       "       ...,\n",
       "       [    0. ,     0. ,     0. , ...,     0. ,     0. ,     0. ],\n",
       "       [    0. ,     0. ,     0. , ...,     0. ,     0. ,     0. ],\n",
       "       [    0. ,     0. ,     0. , ...,     0. ,     0. ,     0. ]])"
      ]
     },
     "execution_count": 165,
     "metadata": {},
     "output_type": "execute_result"
    }
   ],
   "source": [
    "cluster_df.values"
   ]
  },
  {
   "cell_type": "code",
   "execution_count": null,
   "metadata": {},
   "outputs": [],
   "source": [
    "int((transaction_df.RUN_Date[2]-np.floor(transaction_df.RUN_Date[2]))*12)"
   ]
  },
  {
   "cell_type": "code",
   "execution_count": null,
   "metadata": {},
   "outputs": [],
   "source": [
    "run_date_dict={}\n",
    "run_date_dict['2015.00']=datetime(2015,3,31)\n",
    "run_date_dict['2015.25']=datetime(2015,6,30)\n",
    "run_date_dict['2015.50']=datetime(2015,9,30)\n",
    "run_date_dict['2015.75']=datetime(2015,6,30)"
   ]
  },
  {
   "cell_type": "code",
   "execution_count": null,
   "metadata": {},
   "outputs": [],
   "source": [
    "run_date_dict"
   ]
  },
  {
   "cell_type": "code",
   "execution_count": null,
   "metadata": {},
   "outputs": [],
   "source": [
    "\n",
    "\n",
    "d=date.today()\n",
    "\n",
    "offset = BMonthEnd()\n",
    "\n",
    "#Last day of current month\n",
    "offset.rollforward(d)"
   ]
  },
  {
   "cell_type": "code",
   "execution_count": null,
   "metadata": {},
   "outputs": [],
   "source": [
    "temp_dates=list(set(gf['RUN_DATE']))"
   ]
  },
  {
   "cell_type": "code",
   "execution_count": null,
   "metadata": {},
   "outputs": [],
   "source": [
    "temp_dates[0]"
   ]
  },
  {
   "cell_type": "code",
   "execution_count": null,
   "metadata": {},
   "outputs": [],
   "source": [
    "for d in temp_dates:\n",
    "    offset = BMonthEnd()\n",
    "    #Last day of current month\n",
    "    print(offset.rollforward(d))"
   ]
  },
  {
   "cell_type": "code",
   "execution_count": null,
   "metadata": {},
   "outputs": [],
   "source": [
    "set(gf['RUN_DATE'])"
   ]
  },
  {
   "cell_type": "code",
   "execution_count": null,
   "metadata": {},
   "outputs": [],
   "source": [
    "transaction_df['RUN_Date']"
   ]
  },
  {
   "cell_type": "markdown",
   "metadata": {},
   "source": [
    "###  Do a review of all data:"
   ]
  },
  {
   "cell_type": "code",
   "execution_count": null,
   "metadata": {},
   "outputs": [],
   "source": [
    "transaction_df[transaction_df.RUN_DATE==run_dates[0]]"
   ]
  },
  {
   "cell_type": "code",
   "execution_count": null,
   "metadata": {},
   "outputs": [],
   "source": [
    "account_df[account_df.loan_car_application==0]"
   ]
  },
  {
   "cell_type": "code",
   "execution_count": null,
   "metadata": {},
   "outputs": [],
   "source": [
    "CIR=7369\n",
    "account_df[account_df.CIR==CIR]"
   ]
  },
  {
   "cell_type": "code",
   "execution_count": null,
   "metadata": {},
   "outputs": [],
   "source": [
    "list(transaction_df)\n"
   ]
  },
  {
   "cell_type": "code",
   "execution_count": null,
   "metadata": {},
   "outputs": [],
   "source": [
    "transaction_df[transaction_df.CIR==CIR]"
   ]
  },
  {
   "cell_type": "code",
   "execution_count": null,
   "metadata": {},
   "outputs": [],
   "source": [
    "transaction_df[transaction_df.CIR==245][['sum.amt_Loan Repay_N', 'sum.amt_Cr Intr_N',\n",
    " 'sum.amt_Db Intr_N', 'sum.amt_Direct Db_N','RUN_DATE']]"
   ]
  },
  {
   "cell_type": "code",
   "execution_count": 132,
   "metadata": {},
   "outputs": [
    {
     "data": {
      "text/plain": [
       "['CIR',\n",
       " 'RUN_Date',\n",
       " 'sum.amt_Bank Draft_N',\n",
       " 'sum.amt_Bank Fee_N',\n",
       " 'sum.amt_Bundle Fee_N',\n",
       " 'sum.amt_Cash Depo_N',\n",
       " 'sum.amt_Cash Out_N',\n",
       " 'sum.amt_Cheque_N',\n",
       " 'sum.amt_Contra Entry_N',\n",
       " 'sum.amt_Cr Intr_N',\n",
       " 'sum.amt_Db Intr_N',\n",
       " 'sum.amt_Direct Db_N',\n",
       " 'sum.amt_FD Maturity_N',\n",
       " 'sum.amt_FD Pre Closure_N',\n",
       " 'sum.amt_FD Set Up_N',\n",
       " 'sum.amt_Failed Direct Db_N',\n",
       " 'sum.amt_Ignore_N',\n",
       " 'sum.amt_Income_N',\n",
       " 'sum.amt_Insurance_N',\n",
       " 'sum.amt_Intr_N',\n",
       " 'sum.amt_Inward Trnf_N',\n",
       " 'sum.amt_Loan Repay_N',\n",
       " 'sum.amt_Locker Depo_N',\n",
       " 'sum.amt_Merchant Stlmt_N',\n",
       " 'sum.amt_MoneyGram_N',\n",
       " 'sum.amt_Others_N',\n",
       " 'sum.amt_Out. Trnf_N',\n",
       " 'sum.amt_Past Due_N',\n",
       " 'sum.amt_Payment_N',\n",
       " 'sum.amt_Refill_N',\n",
       " 'sum.amt_Reject_N',\n",
       " 'sum.amt_Securities_N',\n",
       " 'sum.amt_Securities Purchase_N',\n",
       " 'sum.amt_Securities Sale_N',\n",
       " 'sum.amt_Stdin Order_N',\n",
       " 'sum.amt_Trnf_N',\n",
       " 'sum.amt_Unpaid Fee_N',\n",
       " 'sum.amt_NA_N',\n",
       " 'sum.amt_NA_P']"
      ]
     },
     "execution_count": 132,
     "metadata": {},
     "output_type": "execute_result"
    }
   ],
   "source": [
    "list(transaction_df)"
   ]
  },
  {
   "cell_type": "code",
   "execution_count": null,
   "metadata": {},
   "outputs": [],
   "source": []
  }
 ],
 "metadata": {
  "kernelspec": {
   "display_name": "Python 3",
   "language": "python",
   "name": "python3"
  },
  "language_info": {
   "codemirror_mode": {
    "name": "ipython",
    "version": 3
   },
   "file_extension": ".py",
   "mimetype": "text/x-python",
   "name": "python",
   "nbconvert_exporter": "python",
   "pygments_lexer": "ipython3",
   "version": "3.7.5"
  }
 },
 "nbformat": 4,
 "nbformat_minor": 2
}
