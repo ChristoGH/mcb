{
 "cells": [
  {
   "cell_type": "markdown",
   "metadata": {},
   "source": [
    "![title](/media/lnr-ai/christo/github_repos/mcb/img/Screenshot from 2020-03-10 05-52-40.png)"
   ]
  },
  {
   "cell_type": "markdown",
   "metadata": {},
   "source": [
    "```\n",
    "From github: git clone https://github.com/ChristoGH/mcb.git\n",
    "```"
   ]
  },
  {
   "cell_type": "code",
   "execution_count": 1,
   "metadata": {},
   "outputs": [
    {
     "data": {
      "image/png": "[encoded data removed]",
      "text/plain": [
       "<IPython.core.display.Image object>"
      ]
     },
     "execution_count": 1,
     "metadata": {},
     "output_type": "execute_result"
    }
   ],
   "source": [
    "from IPython.display import Image\n",
    "Image(filename='/media/lnr-ai/christo/github_repos/mcb/img/Screenshot from 2020-03-10 05-52-40.png')"
   ]
  },
  {
   "cell_type": "code",
   "execution_count": 2,
   "metadata": {},
   "outputs": [],
   "source": [
    "from wand.image import Image as WImage"
   ]
  },
  {
   "cell_type": "code",
   "execution_count": 3,
   "metadata": {},
   "outputs": [],
   "source": [
    "# sudo mv /etc/ImageMagick-6/policy.xml /etc/ImageMagick-6/policy.xml.off\n",
    "# img = WImage(filename='/media/lnr-ai/christo/github_repos/mcb/data/Data Scientist Case Study Exercise - Dec 2019.pdf')\n",
    "# img"
   ]
  },
  {
   "cell_type": "markdown",
   "metadata": {},
   "source": [
    "### Import required libraries:"
   ]
  },
  {
   "cell_type": "code",
   "execution_count": 8,
   "metadata": {},
   "outputs": [],
   "source": [
    "import pandas as pd # data frame approach\n",
    "import numpy as np # numerical calcs\n",
    "from pandas.tseries.offsets import BMonthEnd # finding the lasts business day of the month\n",
    "from datetime import date\n",
    "from datetime import datetime"
   ]
  },
  {
   "cell_type": "markdown",
   "metadata": {},
   "source": [
    "### Define constants and filenames:"
   ]
  },
  {
   "cell_type": "code",
   "execution_count": 9,
   "metadata": {},
   "outputs": [],
   "source": [
    "file_path = '/media/lnr-ai/christo/github_repos/mcb/data/'\n",
    "glossary_fname = 'Glossary.xlsx'\n",
    "customer_fname = 'customer.csv'\n",
    "account_fname = 'account.csv'\n",
    "transaction_fname = 'transaction.csv'"
   ]
  },
  {
   "cell_type": "markdown",
   "metadata": {},
   "source": [
    "```\n",
    "account.csv\n",
    "customer.csv\n",
    "transaction.csv\n",
    "Glossary.xlsx\n",
    "```"
   ]
  },
  {
   "cell_type": "markdown",
   "metadata": {},
   "source": [
    "#### Define utility functions:"
   ]
  },
  {
   "cell_type": "code",
   "execution_count": 66,
   "metadata": {},
   "outputs": [],
   "source": [
    "def frac2date(x):\n",
    "    return datetime(frac2year(x),frac2month(x),1)\n",
    "\n",
    "def frac2month(x):\n",
    "    f2m = int((x-np.floor(x))*12)==0\n",
    "#     if f2m==0:\n",
    "#         f2m=12\n",
    "    return 3*f2m+(not f2m)*(int((x-np.floor(x))*12)+3)\n",
    "\n",
    "def frac2year(x):\n",
    "    return int(np.floor(x))\n",
    "\n",
    "def bmonth_end_fn(x):\n",
    "    offset = BMonthEnd()\n",
    "    return offset.rollforward(x)"
   ]
  },
  {
   "cell_type": "code",
   "execution_count": 11,
   "metadata": {},
   "outputs": [
    {
     "data": {
      "text/plain": [
       "datetime.datetime(2015, 12, 1, 0, 0)"
      ]
     },
     "execution_count": 11,
     "metadata": {},
     "output_type": "execute_result"
    }
   ],
   "source": [
    "frac2date(x=2015.75)"
   ]
  },
  {
   "cell_type": "markdown",
   "metadata": {},
   "source": [
    "### Read glossary definitions; store in dataframes:"
   ]
  },
  {
   "cell_type": "code",
   "execution_count": 12,
   "metadata": {},
   "outputs": [],
   "source": [
    "# glossary_fname = 'Glossary.xlsx'\n",
    "account_glossary_df=pd.read_excel(io=file_path+glossary_fname, sheet_name='Accounts')\n",
    "customer_glossary_df=pd.read_excel(io=file_path+glossary_fname, sheet_name='Customer')\n",
    "transaction_glossary_df=pd.read_excel(io=file_path+glossary_fname, sheet_name='Transactions')"
   ]
  },
  {
   "cell_type": "markdown",
   "metadata": {},
   "source": [
    "### Load .csv files and rename:"
   ]
  },
  {
   "cell_type": "code",
   "execution_count": 13,
   "metadata": {},
   "outputs": [],
   "source": [
    "customer_df=pd.read_csv(filepath_or_buffer=file_path+customer_fname)\n",
    "account_df=pd.read_csv(filepath_or_buffer=file_path+account_fname)\n",
    "transaction_df=pd.read_csv(filepath_or_buffer=file_path+transaction_fname)"
   ]
  },
  {
   "cell_type": "markdown",
   "metadata": {},
   "source": [
    "## Look at the Customer file:"
   ]
  },
  {
   "cell_type": "markdown",
   "metadata": {},
   "source": [
    "### Headings:"
   ]
  },
  {
   "cell_type": "code",
   "execution_count": 14,
   "metadata": {},
   "outputs": [
    {
     "data": {
      "text/plain": [
       "['CIR',\n",
       " 'RUN_DATE',\n",
       " 'MARKET_SEGMENT_DESCRIPTION',\n",
       " 'RESIDENT_FLAG',\n",
       " 'GENDER',\n",
       " 'MARITAL_STATUS_DESCRIPTION',\n",
       " 'SALARY_AMOUNT',\n",
       " 'NUMBER_OF_DEPENDANTS',\n",
       " 'CERTIFICATION_ACHIEVEMENT_DESCRIPTION']"
      ]
     },
     "execution_count": 14,
     "metadata": {},
     "output_type": "execute_result"
    }
   ],
   "source": [
    "list(customer_df)"
   ]
  },
  {
   "cell_type": "markdown",
   "metadata": {},
   "source": [
    "### Have a peek at the contents:"
   ]
  },
  {
   "cell_type": "code",
   "execution_count": 15,
   "metadata": {},
   "outputs": [
    {
     "data": {
      "text/html": [
       "<div>\n",
       "<style scoped>\n",
       "    .dataframe tbody tr th:only-of-type {\n",
       "        vertical-align: middle;\n",
       "    }\n",
       "\n",
       "    .dataframe tbody tr th {\n",
       "        vertical-align: top;\n",
       "    }\n",
       "\n",
       "    .dataframe thead th {\n",
       "        text-align: right;\n",
       "    }\n",
       "</style>\n",
       "<table border=\"1\" class=\"dataframe\">\n",
       "  <thead>\n",
       "    <tr style=\"text-align: right;\">\n",
       "      <th></th>\n",
       "      <th>CIR</th>\n",
       "      <th>RUN_DATE</th>\n",
       "      <th>MARKET_SEGMENT_DESCRIPTION</th>\n",
       "      <th>RESIDENT_FLAG</th>\n",
       "      <th>GENDER</th>\n",
       "      <th>MARITAL_STATUS_DESCRIPTION</th>\n",
       "      <th>SALARY_AMOUNT</th>\n",
       "      <th>NUMBER_OF_DEPENDANTS</th>\n",
       "      <th>CERTIFICATION_ACHIEVEMENT_DESCRIPTION</th>\n",
       "    </tr>\n",
       "  </thead>\n",
       "  <tbody>\n",
       "    <tr>\n",
       "      <th>0</th>\n",
       "      <td>8803</td>\n",
       "      <td>9/28/2018</td>\n",
       "      <td>SEGMENT 18-25</td>\n",
       "      <td>Y</td>\n",
       "      <td>FEMALE</td>\n",
       "      <td>SINGLE</td>\n",
       "      <td>0.0</td>\n",
       "      <td>NaN</td>\n",
       "      <td>SECONDARY COMPLETE</td>\n",
       "    </tr>\n",
       "    <tr>\n",
       "      <th>1</th>\n",
       "      <td>8803</td>\n",
       "      <td>6/30/2015</td>\n",
       "      <td>SEGMENT 18-25</td>\n",
       "      <td>Y</td>\n",
       "      <td>FEMALE</td>\n",
       "      <td>SINGLE</td>\n",
       "      <td>NaN</td>\n",
       "      <td>NaN</td>\n",
       "      <td>NaN</td>\n",
       "    </tr>\n",
       "    <tr>\n",
       "      <th>2</th>\n",
       "      <td>8803</td>\n",
       "      <td>12/31/2015</td>\n",
       "      <td>SEGMENT 18-25</td>\n",
       "      <td>Y</td>\n",
       "      <td>FEMALE</td>\n",
       "      <td>SINGLE</td>\n",
       "      <td>NaN</td>\n",
       "      <td>NaN</td>\n",
       "      <td>NaN</td>\n",
       "    </tr>\n",
       "    <tr>\n",
       "      <th>3</th>\n",
       "      <td>8803</td>\n",
       "      <td>3/31/2016</td>\n",
       "      <td>SEGMENT 18-25</td>\n",
       "      <td>Y</td>\n",
       "      <td>FEMALE</td>\n",
       "      <td>SINGLE</td>\n",
       "      <td>NaN</td>\n",
       "      <td>NaN</td>\n",
       "      <td>SECONDARY COMPLETE</td>\n",
       "    </tr>\n",
       "    <tr>\n",
       "      <th>4</th>\n",
       "      <td>8803</td>\n",
       "      <td>6/30/2017</td>\n",
       "      <td>SEGMENT 18-25</td>\n",
       "      <td>Y</td>\n",
       "      <td>FEMALE</td>\n",
       "      <td>SINGLE</td>\n",
       "      <td>0.0</td>\n",
       "      <td>NaN</td>\n",
       "      <td>SECONDARY COMPLETE</td>\n",
       "    </tr>\n",
       "  </tbody>\n",
       "</table>\n",
       "</div>"
      ],
      "text/plain": [
       "    CIR    RUN_DATE MARKET_SEGMENT_DESCRIPTION RESIDENT_FLAG      GENDER  \\\n",
       "0  8803   9/28/2018              SEGMENT 18-25             Y      FEMALE   \n",
       "1  8803   6/30/2015              SEGMENT 18-25             Y  FEMALE       \n",
       "2  8803  12/31/2015              SEGMENT 18-25             Y  FEMALE       \n",
       "3  8803   3/31/2016              SEGMENT 18-25             Y  FEMALE       \n",
       "4  8803   6/30/2017              SEGMENT 18-25             Y  FEMALE       \n",
       "\n",
       "  MARITAL_STATUS_DESCRIPTION  SALARY_AMOUNT  NUMBER_OF_DEPENDANTS  \\\n",
       "0                     SINGLE            0.0                   NaN   \n",
       "1                     SINGLE            NaN                   NaN   \n",
       "2                     SINGLE            NaN                   NaN   \n",
       "3                     SINGLE            NaN                   NaN   \n",
       "4                     SINGLE            0.0                   NaN   \n",
       "\n",
       "  CERTIFICATION_ACHIEVEMENT_DESCRIPTION  \n",
       "0                    SECONDARY COMPLETE  \n",
       "1                                   NaN  \n",
       "2                                   NaN  \n",
       "3                    SECONDARY COMPLETE  \n",
       "4                    SECONDARY COMPLETE  "
      ]
     },
     "execution_count": 15,
     "metadata": {},
     "output_type": "execute_result"
    }
   ],
   "source": [
    "customer_df.head()"
   ]
  },
  {
   "cell_type": "markdown",
   "metadata": {},
   "source": [
    "### Look at the nature of the columns:"
   ]
  },
  {
   "cell_type": "code",
   "execution_count": 16,
   "metadata": {},
   "outputs": [
    {
     "data": {
      "text/plain": [
       "CIR                                        int64\n",
       "RUN_DATE                                  object\n",
       "MARKET_SEGMENT_DESCRIPTION                object\n",
       "RESIDENT_FLAG                             object\n",
       "GENDER                                    object\n",
       "MARITAL_STATUS_DESCRIPTION                object\n",
       "SALARY_AMOUNT                            float64\n",
       "NUMBER_OF_DEPENDANTS                     float64\n",
       "CERTIFICATION_ACHIEVEMENT_DESCRIPTION     object\n",
       "dtype: object"
      ]
     },
     "execution_count": 16,
     "metadata": {},
     "output_type": "execute_result"
    }
   ],
   "source": [
    "customer_df.dtypes"
   ]
  },
  {
   "cell_type": "markdown",
   "metadata": {},
   "source": [
    "### Look at the CIR column:"
   ]
  },
  {
   "cell_type": "markdown",
   "metadata": {},
   "source": [
    "#### number of entries:"
   ]
  },
  {
   "cell_type": "code",
   "execution_count": 17,
   "metadata": {},
   "outputs": [
    {
     "data": {
      "text/plain": [
       "141169"
      ]
     },
     "execution_count": 17,
     "metadata": {},
     "output_type": "execute_result"
    }
   ],
   "source": [
    "len(customer_df.CIR)"
   ]
  },
  {
   "cell_type": "markdown",
   "metadata": {},
   "source": [
    "#### unique clients:"
   ]
  },
  {
   "cell_type": "code",
   "execution_count": 18,
   "metadata": {},
   "outputs": [
    {
     "data": {
      "text/plain": [
       "8909"
      ]
     },
     "execution_count": 18,
     "metadata": {},
     "output_type": "execute_result"
    }
   ],
   "source": [
    "len(set(customer_df.CIR))"
   ]
  },
  {
   "cell_type": "markdown",
   "metadata": {},
   "source": [
    "### Look at the RUN_DATE column:"
   ]
  },
  {
   "cell_type": "code",
   "execution_count": 19,
   "metadata": {},
   "outputs": [
    {
     "data": {
      "text/plain": [
       "0          9/28/2018\n",
       "1          6/30/2015\n",
       "2         12/31/2015\n",
       "3          3/31/2016\n",
       "4          6/30/2017\n",
       "             ...    \n",
       "141164     3/29/2019\n",
       "141165     3/29/2019\n",
       "141166     3/29/2019\n",
       "141167     3/29/2019\n",
       "141168     3/29/2019\n",
       "Name: RUN_DATE, Length: 141169, dtype: object"
      ]
     },
     "execution_count": 19,
     "metadata": {},
     "output_type": "execute_result"
    }
   ],
   "source": [
    "customer_df.RUN_DATE"
   ]
  },
  {
   "cell_type": "code",
   "execution_count": 20,
   "metadata": {},
   "outputs": [
    {
     "data": {
      "text/plain": [
       "{'12/29/2017',\n",
       " '12/30/2016',\n",
       " '12/31/2015',\n",
       " '12/31/2018',\n",
       " '3/29/2019',\n",
       " '3/30/2018',\n",
       " '3/31/2015',\n",
       " '3/31/2016',\n",
       " '3/31/2017',\n",
       " '6/29/2018',\n",
       " '6/30/2015',\n",
       " '6/30/2016',\n",
       " '6/30/2017',\n",
       " '9/28/2018',\n",
       " '9/29/2017',\n",
       " '9/30/2015',\n",
       " '9/30/2016'}"
      ]
     },
     "execution_count": 20,
     "metadata": {},
     "output_type": "execute_result"
    }
   ],
   "source": [
    "set(customer_df.RUN_DATE)"
   ]
  },
  {
   "cell_type": "markdown",
   "metadata": {},
   "source": [
    "#### Convert RUN_DATE to a python date format:"
   ]
  },
  {
   "cell_type": "code",
   "execution_count": 21,
   "metadata": {},
   "outputs": [],
   "source": [
    "customer_df['RUN_DATE'] = pd.to_datetime(customer_df['RUN_DATE'], infer_datetime_format=True)"
   ]
  },
  {
   "cell_type": "code",
   "execution_count": 22,
   "metadata": {},
   "outputs": [
    {
     "data": {
      "text/plain": [
       "0        2018-09-28\n",
       "1        2015-06-30\n",
       "2        2015-12-31\n",
       "3        2016-03-31\n",
       "4        2017-06-30\n",
       "            ...    \n",
       "141164   2019-03-29\n",
       "141165   2019-03-29\n",
       "141166   2019-03-29\n",
       "141167   2019-03-29\n",
       "141168   2019-03-29\n",
       "Name: RUN_DATE, Length: 141169, dtype: datetime64[ns]"
      ]
     },
     "execution_count": 22,
     "metadata": {},
     "output_type": "execute_result"
    }
   ],
   "source": [
    "customer_df['RUN_DATE']"
   ]
  },
  {
   "cell_type": "code",
   "execution_count": 24,
   "metadata": {},
   "outputs": [
    {
     "data": {
      "text/plain": [
       "2019-03-29    8893\n",
       "2018-12-31    8770\n",
       "2018-09-28    8748\n",
       "2018-06-29    8672\n",
       "2018-03-30    8590\n",
       "2017-12-29    8516\n",
       "2017-09-29    8424\n",
       "2017-06-30    8356\n",
       "2017-03-31    8291\n",
       "2016-12-30    8218\n",
       "2016-09-30    8151\n",
       "2016-06-30    8084\n",
       "2016-03-31    8016\n",
       "2015-12-31    7959\n",
       "2015-09-30    7893\n",
       "2015-06-30    7835\n",
       "2015-03-31    7753\n",
       "Name: RUN_DATE, dtype: int64"
      ]
     },
     "execution_count": 24,
     "metadata": {},
     "output_type": "execute_result"
    }
   ],
   "source": [
    "# Look at the number of entries per date:\n",
    "customer_df['RUN_DATE'].value_counts()"
   ]
  },
  {
   "cell_type": "code",
   "execution_count": 26,
   "metadata": {},
   "outputs": [],
   "source": [
    "# Create a variable containing all run dates:\n",
    "run_dates=list(set(customer_df.RUN_DATE))"
   ]
  },
  {
   "cell_type": "code",
   "execution_count": 27,
   "metadata": {},
   "outputs": [
    {
     "data": {
      "text/plain": [
       "(7753, 9)"
      ]
     },
     "execution_count": 27,
     "metadata": {},
     "output_type": "execute_result"
    }
   ],
   "source": [
    "df=customer_df[customer_df.RUN_DATE==run_dates[0]]\n",
    "df.shape"
   ]
  },
  {
   "cell_type": "markdown",
   "metadata": {},
   "source": [
    "### explore MARKET_SEGMENT_DESCRIPTION:"
   ]
  },
  {
   "cell_type": "code",
   "execution_count": 29,
   "metadata": {},
   "outputs": [
    {
     "data": {
      "text/plain": [
       "MASS                  6240\n",
       "SEGMENT 18-25         1165\n",
       "MASS AFFLUENT          212\n",
       "MCB SELECT              47\n",
       "PRIVATE BANKING         42\n",
       "UPPER MASS              35\n",
       "YOUNG PROFESSIONAL      12\n",
       "Name: MARKET_SEGMENT_DESCRIPTION, dtype: int64"
      ]
     },
     "execution_count": 29,
     "metadata": {},
     "output_type": "execute_result"
    }
   ],
   "source": [
    "df['MARKET_SEGMENT_DESCRIPTION'].value_counts()"
   ]
  },
  {
   "cell_type": "code",
   "execution_count": 30,
   "metadata": {},
   "outputs": [],
   "source": [
    "df=customer_df[['CIR','MARKET_SEGMENT_DESCRIPTION','RUN_DATE']].groupby(['CIR','MARKET_SEGMENT_DESCRIPTION']).max()"
   ]
  },
  {
   "cell_type": "code",
   "execution_count": 31,
   "metadata": {},
   "outputs": [],
   "source": [
    "gf=df.reset_index()"
   ]
  },
  {
   "cell_type": "code",
   "execution_count": 32,
   "metadata": {},
   "outputs": [
    {
     "data": {
      "text/plain": [
       "2019-03-29    8893\n",
       "2018-09-28     150\n",
       "2015-12-31     148\n",
       "2015-03-31     129\n",
       "2016-09-30     123\n",
       "2017-06-30     111\n",
       "2016-06-30     109\n",
       "2018-03-30      85\n",
       "2016-12-30      82\n",
       "2017-09-29      81\n",
       "2017-03-31      77\n",
       "2016-03-31      75\n",
       "2015-09-30      73\n",
       "2017-12-29      68\n",
       "2015-06-30      63\n",
       "2018-06-29      52\n",
       "2018-12-31      46\n",
       "Name: RUN_DATE, dtype: int64"
      ]
     },
     "execution_count": 32,
     "metadata": {},
     "output_type": "execute_result"
    }
   ],
   "source": [
    "gf['RUN_DATE'].value_counts()"
   ]
  },
  {
   "cell_type": "code",
   "execution_count": 33,
   "metadata": {},
   "outputs": [
    {
     "data": {
      "text/plain": [
       "CIR                                               int64\n",
       "RUN_DATE                                 datetime64[ns]\n",
       "MARKET_SEGMENT_DESCRIPTION                       object\n",
       "RESIDENT_FLAG                                    object\n",
       "GENDER                                           object\n",
       "MARITAL_STATUS_DESCRIPTION                       object\n",
       "SALARY_AMOUNT                                   float64\n",
       "NUMBER_OF_DEPENDANTS                            float64\n",
       "CERTIFICATION_ACHIEVEMENT_DESCRIPTION            object\n",
       "dtype: object"
      ]
     },
     "execution_count": 33,
     "metadata": {},
     "output_type": "execute_result"
    }
   ],
   "source": [
    "customer_df.dtypes"
   ]
  },
  {
   "cell_type": "code",
   "execution_count": 35,
   "metadata": {},
   "outputs": [
    {
     "data": {
      "text/plain": [
       "MASS                        111768\n",
       "SEGMENT 18-25                19949\n",
       "MASS AFFLUENT                 7047\n",
       "PRIVATE BANKING                960\n",
       "MCB SELECT                     854\n",
       "INTERNATIONAL                  417\n",
       "MCB SELECT INTERNATIONAL       127\n",
       "UPPER MASS                      35\n",
       "YOUNG PROFESSIONAL              12\n",
       "Name: MARKET_SEGMENT_DESCRIPTION, dtype: int64"
      ]
     },
     "execution_count": 35,
     "metadata": {},
     "output_type": "execute_result"
    }
   ],
   "source": [
    "customer_df.MARKET_SEGMENT_DESCRIPTION.value_counts()"
   ]
  },
  {
   "cell_type": "code",
   "execution_count": 37,
   "metadata": {},
   "outputs": [
    {
     "data": {
      "text/plain": [
       "1456"
      ]
     },
     "execution_count": 37,
     "metadata": {},
     "output_type": "execute_result"
    }
   ],
   "source": [
    "len(gf.CIR)-len(set(gf.CIR))"
   ]
  },
  {
   "cell_type": "markdown",
   "metadata": {},
   "source": [
    "### Explore RESIDENT_FLAG"
   ]
  },
  {
   "cell_type": "code",
   "execution_count": 38,
   "metadata": {},
   "outputs": [
    {
     "data": {
      "text/plain": [
       "Y    137150\n",
       "N      4019\n",
       "Name: RESIDENT_FLAG, dtype: int64"
      ]
     },
     "execution_count": 38,
     "metadata": {},
     "output_type": "execute_result"
    }
   ],
   "source": [
    "customer_df['RESIDENT_FLAG'].value_counts()"
   ]
  },
  {
   "cell_type": "markdown",
   "metadata": {},
   "source": [
    "### GENDER:"
   ]
  },
  {
   "cell_type": "code",
   "execution_count": 39,
   "metadata": {},
   "outputs": [
    {
     "data": {
      "text/plain": [
       "MALE          57856\n",
       "FEMALE        56504\n",
       "MALE          13397\n",
       "FEMALE        12950\n",
       "Name: GENDER, dtype: int64"
      ]
     },
     "execution_count": 39,
     "metadata": {},
     "output_type": "execute_result"
    }
   ],
   "source": [
    "customer_df['GENDER'].value_counts()"
   ]
  },
  {
   "cell_type": "code",
   "execution_count": 40,
   "metadata": {},
   "outputs": [
    {
     "data": {
      "text/plain": [
       "MALE      71253\n",
       "FEMALE    69454\n",
       "Name: GENDER, dtype: int64"
      ]
     },
     "execution_count": 40,
     "metadata": {},
     "output_type": "execute_result"
    }
   ],
   "source": [
    "customer_df['GENDER'].str.strip().value_counts()"
   ]
  },
  {
   "cell_type": "code",
   "execution_count": 41,
   "metadata": {},
   "outputs": [],
   "source": [
    "customer_df['GENDER']=customer_df['GENDER'].str.strip()"
   ]
  },
  {
   "cell_type": "code",
   "execution_count": 42,
   "metadata": {},
   "outputs": [
    {
     "data": {
      "text/plain": [
       "MALE      71253\n",
       "FEMALE    69454\n",
       "Name: GENDER, dtype: int64"
      ]
     },
     "execution_count": 42,
     "metadata": {},
     "output_type": "execute_result"
    }
   ],
   "source": [
    "customer_df['GENDER'].value_counts()"
   ]
  },
  {
   "cell_type": "markdown",
   "metadata": {},
   "source": [
    "#### MARITAL_STATUS_DESCRIPTION"
   ]
  },
  {
   "cell_type": "code",
   "execution_count": 43,
   "metadata": {},
   "outputs": [
    {
     "data": {
      "text/plain": [
       "MARRIED COM         67931\n",
       "SINGLE              53777\n",
       "WIDOWED              4008\n",
       "UNMARRIED COUPLE     3092\n",
       "DIVORCED             2898\n",
       "MARRIED SEP          1937\n",
       "Name: MARITAL_STATUS_DESCRIPTION, dtype: int64"
      ]
     },
     "execution_count": 43,
     "metadata": {},
     "output_type": "execute_result"
    }
   ],
   "source": [
    "customer_df['MARITAL_STATUS_DESCRIPTION'].value_counts()"
   ]
  },
  {
   "cell_type": "markdown",
   "metadata": {},
   "source": [
    "### Explore account detail:"
   ]
  },
  {
   "cell_type": "code",
   "execution_count": 45,
   "metadata": {},
   "outputs": [],
   "source": [
    "account_df=pd.read_csv(filepath_or_buffer=file_path+account_fname)"
   ]
  },
  {
   "cell_type": "code",
   "execution_count": 53,
   "metadata": {},
   "outputs": [
    {
     "data": {
      "text/plain": [
       "[Timestamp('2015-03-31 00:00:00'),\n",
       " Timestamp('2016-06-30 00:00:00'),\n",
       " Timestamp('2018-06-29 00:00:00'),\n",
       " Timestamp('2016-09-30 00:00:00'),\n",
       " Timestamp('2018-12-31 00:00:00'),\n",
       " Timestamp('2018-09-28 00:00:00'),\n",
       " Timestamp('2015-06-30 00:00:00'),\n",
       " Timestamp('2015-09-30 00:00:00'),\n",
       " Timestamp('2019-03-29 00:00:00'),\n",
       " Timestamp('2016-12-30 00:00:00'),\n",
       " Timestamp('2017-12-29 00:00:00'),\n",
       " Timestamp('2015-12-31 00:00:00'),\n",
       " Timestamp('2018-03-30 00:00:00'),\n",
       " Timestamp('2017-09-29 00:00:00'),\n",
       " Timestamp('2016-03-31 00:00:00'),\n",
       " Timestamp('2017-06-30 00:00:00'),\n",
       " Timestamp('2017-03-31 00:00:00')]"
      ]
     },
     "execution_count": 53,
     "metadata": {},
     "output_type": "execute_result"
    }
   ],
   "source": [
    "run_dates"
   ]
  },
  {
   "cell_type": "code",
   "execution_count": 46,
   "metadata": {},
   "outputs": [
    {
     "data": {
      "text/plain": [
       "['Unnamed: 0',\n",
       " 'RUN_DATE',\n",
       " 'Customer_number',\n",
       " 'loan_car_application',\n",
       " 'loan_education_application',\n",
       " 'loan_general_application',\n",
       " 'loan_housing_application',\n",
       " 'loan_personal_application']"
      ]
     },
     "execution_count": 46,
     "metadata": {},
     "output_type": "execute_result"
    }
   ],
   "source": [
    "list(account_df)"
   ]
  },
  {
   "cell_type": "code",
   "execution_count": 71,
   "metadata": {},
   "outputs": [],
   "source": [
    "account_df.pop('Unnamed: 0')\n",
    "account_df.rename(columns={'Customer_number':'CIR'}, inplace = True)"
   ]
  },
  {
   "cell_type": "code",
   "execution_count": 55,
   "metadata": {},
   "outputs": [],
   "source": [
    "account_df['RUN_DATE'] = pd.to_datetime(account_df['RUN_DATE'], infer_datetime_format=True)"
   ]
  },
  {
   "cell_type": "code",
   "execution_count": 58,
   "metadata": {},
   "outputs": [
    {
     "data": {
      "text/plain": [
       "set()"
      ]
     },
     "execution_count": 58,
     "metadata": {},
     "output_type": "execute_result"
    }
   ],
   "source": [
    "set(run_dates) - set(account_df['RUN_DATE'])"
   ]
  },
  {
   "cell_type": "code",
   "execution_count": 49,
   "metadata": {},
   "outputs": [
    {
     "data": {
      "text/plain": [
       "(8543, 8)"
      ]
     },
     "execution_count": 49,
     "metadata": {},
     "output_type": "execute_result"
    }
   ],
   "source": [
    "a_df=account_df[account_df.RUN_DATE==run_dates[0]]\n",
    "a_df.shape"
   ]
  },
  {
   "cell_type": "code",
   "execution_count": 50,
   "metadata": {},
   "outputs": [
    {
     "data": {
      "text/plain": [
       "['Unnamed: 0',\n",
       " 'RUN_DATE',\n",
       " 'Customer_number',\n",
       " 'loan_car_application',\n",
       " 'loan_education_application',\n",
       " 'loan_general_application',\n",
       " 'loan_housing_application',\n",
       " 'loan_personal_application']"
      ]
     },
     "execution_count": 50,
     "metadata": {},
     "output_type": "execute_result"
    }
   ],
   "source": [
    "list(a_df)"
   ]
  },
  {
   "cell_type": "code",
   "execution_count": 51,
   "metadata": {},
   "outputs": [
    {
     "data": {
      "text/plain": [
       "0"
      ]
     },
     "execution_count": 51,
     "metadata": {},
     "output_type": "execute_result"
    }
   ],
   "source": [
    "len(a_df.Customer_number)-len(set(a_df.Customer_number))"
   ]
  },
  {
   "cell_type": "code",
   "execution_count": null,
   "metadata": {},
   "outputs": [],
   "source": []
  },
  {
   "cell_type": "code",
   "execution_count": 79,
   "metadata": {},
   "outputs": [
    {
     "data": {
      "text/plain": [
       "0.0    425\n",
       "9.0     31\n",
       "2.0      9\n",
       "6.0      8\n",
       "1.0      5\n",
       "8.0      5\n",
       "5.0      3\n",
       "4.0      3\n",
       "7.0      2\n",
       "3.0      2\n",
       "Name: loan_general_application, dtype: int64"
      ]
     },
     "execution_count": 79,
     "metadata": {},
     "output_type": "execute_result"
    }
   ],
   "source": [
    "account_df.loan_general_application.value_counts()"
   ]
  },
  {
   "cell_type": "markdown",
   "metadata": {},
   "source": [
    "### Explore transaction detail:"
   ]
  },
  {
   "cell_type": "markdown",
   "metadata": {},
   "source": [
    "#### Read the transaction file:"
   ]
  },
  {
   "cell_type": "code",
   "execution_count": 67,
   "metadata": {},
   "outputs": [],
   "source": [
    "transaction_df=pd.read_csv(filepath_or_buffer=file_path+transaction_fname)"
   ]
  },
  {
   "cell_type": "code",
   "execution_count": 68,
   "metadata": {},
   "outputs": [
    {
     "data": {
      "text/plain": [
       "['CIR',\n",
       " 'RUN_Date',\n",
       " 'sum.amt_Bank Draft_N',\n",
       " 'sum.amt_Bank Fee_N',\n",
       " 'sum.amt_Bundle Fee_N',\n",
       " 'sum.amt_Cash Depo_N',\n",
       " 'sum.amt_Cash Out_N',\n",
       " 'sum.amt_Cheque_N',\n",
       " 'sum.amt_Contra Entry_N',\n",
       " 'sum.amt_Cr Intr_N',\n",
       " 'sum.amt_Db Intr_N',\n",
       " 'sum.amt_Direct Db_N',\n",
       " 'sum.amt_FD Maturity_N',\n",
       " 'sum.amt_FD Pre Closure_N',\n",
       " 'sum.amt_FD Set Up_N',\n",
       " 'sum.amt_Failed Direct Db_N',\n",
       " 'sum.amt_Ignore_N',\n",
       " 'sum.amt_Income_N',\n",
       " 'sum.amt_Insurance_N',\n",
       " 'sum.amt_Intr_N',\n",
       " 'sum.amt_Inward Trnf_N',\n",
       " 'sum.amt_Loan Repay_N',\n",
       " 'sum.amt_Locker Depo_N',\n",
       " 'sum.amt_Merchant Stlmt_N',\n",
       " 'sum.amt_MoneyGram_N',\n",
       " 'sum.amt_Others_N',\n",
       " 'sum.amt_Out. Trnf_N',\n",
       " 'sum.amt_Past Due_N',\n",
       " 'sum.amt_Payment_N',\n",
       " 'sum.amt_Refill_N',\n",
       " 'sum.amt_Reject_N',\n",
       " 'sum.amt_Securities_N',\n",
       " 'sum.amt_Securities Purchase_N',\n",
       " 'sum.amt_Securities Sale_N',\n",
       " 'sum.amt_Stdin Order_N',\n",
       " 'sum.amt_Trnf_N',\n",
       " 'sum.amt_Unpaid Fee_N',\n",
       " 'sum.amt_NA_N',\n",
       " 'sum.amt_NA_P']"
      ]
     },
     "execution_count": 68,
     "metadata": {},
     "output_type": "execute_result"
    }
   ],
   "source": [
    "list(transaction_df)"
   ]
  },
  {
   "cell_type": "code",
   "execution_count": 72,
   "metadata": {},
   "outputs": [],
   "source": [
    "# set(customer_df.RUN_DATE)"
   ]
  },
  {
   "cell_type": "code",
   "execution_count": 73,
   "metadata": {},
   "outputs": [],
   "source": [
    "transaction_df['RUN_DATE_']=transaction_df.RUN_Date.apply(frac2date)"
   ]
  },
  {
   "cell_type": "code",
   "execution_count": 74,
   "metadata": {},
   "outputs": [
    {
     "data": {
      "text/plain": [
       "{Timestamp('2015-03-01 00:00:00'),\n",
       " Timestamp('2015-06-01 00:00:00'),\n",
       " Timestamp('2015-09-01 00:00:00'),\n",
       " Timestamp('2015-12-01 00:00:00'),\n",
       " Timestamp('2016-03-01 00:00:00'),\n",
       " Timestamp('2016-06-01 00:00:00'),\n",
       " Timestamp('2016-09-01 00:00:00'),\n",
       " Timestamp('2016-12-01 00:00:00'),\n",
       " Timestamp('2017-03-01 00:00:00'),\n",
       " Timestamp('2017-06-01 00:00:00'),\n",
       " Timestamp('2017-09-01 00:00:00'),\n",
       " Timestamp('2017-12-01 00:00:00'),\n",
       " Timestamp('2018-03-01 00:00:00'),\n",
       " Timestamp('2018-06-01 00:00:00'),\n",
       " Timestamp('2018-09-01 00:00:00'),\n",
       " Timestamp('2018-12-01 00:00:00'),\n",
       " Timestamp('2019-03-01 00:00:00')}"
      ]
     },
     "execution_count": 74,
     "metadata": {},
     "output_type": "execute_result"
    }
   ],
   "source": [
    "set(transaction_df['RUN_DATE_'])"
   ]
  },
  {
   "cell_type": "code",
   "execution_count": 75,
   "metadata": {},
   "outputs": [],
   "source": [
    "transaction_df['RUN_DATE']=transaction_df['RUN_DATE_'].apply(bmonth_end_fn)"
   ]
  },
  {
   "cell_type": "code",
   "execution_count": 76,
   "metadata": {},
   "outputs": [
    {
     "data": {
      "text/plain": [
       "set()"
      ]
     },
     "execution_count": 76,
     "metadata": {},
     "output_type": "execute_result"
    }
   ],
   "source": [
    "set(transaction_df['RUN_DATE'])-set(customer_df.RUN_DATE)"
   ]
  },
  {
   "cell_type": "code",
   "execution_count": null,
   "metadata": {},
   "outputs": [],
   "source": [
    "transaction_df[transaction_df.RUN_Date==run_dates[0]]"
   ]
  },
  {
   "cell_type": "code",
   "execution_count": null,
   "metadata": {},
   "outputs": [],
   "source": [
    "transaction_df['RUN_Date']"
   ]
  },
  {
   "cell_type": "code",
   "execution_count": null,
   "metadata": {},
   "outputs": [],
   "source": [
    "def frac2month(x):\n",
    "    return int((x-np.floor(x))*12)\n",
    "\n",
    "def frac2year(x):\n",
    "    return int(np.floor(x))"
   ]
  },
  {
   "cell_type": "code",
   "execution_count": null,
   "metadata": {},
   "outputs": [],
   "source": [
    "int((transaction_df.RUN_Date[2]-np.floor(transaction_df.RUN_Date[2]))*12)"
   ]
  },
  {
   "cell_type": "code",
   "execution_count": null,
   "metadata": {},
   "outputs": [],
   "source": [
    "run_date_dict={}\n",
    "run_date_dict['2015.00']=datetime(2015,3,31)\n",
    "run_date_dict['2015.25']=datetime(2015,6,30)\n",
    "run_date_dict['2015.50']=datetime(2015,9,30)\n",
    "run_date_dict['2015.75']=datetime(2015,6,30)"
   ]
  },
  {
   "cell_type": "code",
   "execution_count": null,
   "metadata": {},
   "outputs": [],
   "source": [
    "run_date_dict"
   ]
  },
  {
   "cell_type": "code",
   "execution_count": null,
   "metadata": {},
   "outputs": [],
   "source": [
    "\n",
    "\n",
    "d=date.today()\n",
    "\n",
    "offset = BMonthEnd()\n",
    "\n",
    "#Last day of current month\n",
    "offset.rollforward(d)"
   ]
  },
  {
   "cell_type": "code",
   "execution_count": null,
   "metadata": {},
   "outputs": [],
   "source": [
    "temp_dates=list(set(gf['RUN_DATE']))"
   ]
  },
  {
   "cell_type": "code",
   "execution_count": null,
   "metadata": {},
   "outputs": [],
   "source": [
    "temp_dates[0]"
   ]
  },
  {
   "cell_type": "code",
   "execution_count": null,
   "metadata": {},
   "outputs": [],
   "source": [
    "for d in temp_dates:\n",
    "    offset = BMonthEnd()\n",
    "    #Last day of current month\n",
    "    print(offset.rollforward(d))"
   ]
  },
  {
   "cell_type": "code",
   "execution_count": null,
   "metadata": {},
   "outputs": [],
   "source": [
    "set(gf['RUN_DATE'])"
   ]
  },
  {
   "cell_type": "code",
   "execution_count": null,
   "metadata": {},
   "outputs": [],
   "source": [
    "transaction_df['RUN_Date']"
   ]
  },
  {
   "cell_type": "markdown",
   "metadata": {},
   "source": [
    "###  Do a review of all data:"
   ]
  },
  {
   "cell_type": "code",
   "execution_count": 78,
   "metadata": {},
   "outputs": [
    {
     "data": {
      "text/html": [
       "<div>\n",
       "<style scoped>\n",
       "    .dataframe tbody tr th:only-of-type {\n",
       "        vertical-align: middle;\n",
       "    }\n",
       "\n",
       "    .dataframe tbody tr th {\n",
       "        vertical-align: top;\n",
       "    }\n",
       "\n",
       "    .dataframe thead th {\n",
       "        text-align: right;\n",
       "    }\n",
       "</style>\n",
       "<table border=\"1\" class=\"dataframe\">\n",
       "  <thead>\n",
       "    <tr style=\"text-align: right;\">\n",
       "      <th></th>\n",
       "      <th>CIR</th>\n",
       "      <th>RUN_Date</th>\n",
       "      <th>sum.amt_Bank Draft_N</th>\n",
       "      <th>sum.amt_Bank Fee_N</th>\n",
       "      <th>sum.amt_Bundle Fee_N</th>\n",
       "      <th>sum.amt_Cash Depo_N</th>\n",
       "      <th>sum.amt_Cash Out_N</th>\n",
       "      <th>sum.amt_Cheque_N</th>\n",
       "      <th>sum.amt_Contra Entry_N</th>\n",
       "      <th>sum.amt_Cr Intr_N</th>\n",
       "      <th>...</th>\n",
       "      <th>sum.amt_Securities_N</th>\n",
       "      <th>sum.amt_Securities Purchase_N</th>\n",
       "      <th>sum.amt_Securities Sale_N</th>\n",
       "      <th>sum.amt_Stdin Order_N</th>\n",
       "      <th>sum.amt_Trnf_N</th>\n",
       "      <th>sum.amt_Unpaid Fee_N</th>\n",
       "      <th>sum.amt_NA_N</th>\n",
       "      <th>sum.amt_NA_P</th>\n",
       "      <th>RUN_DATE_</th>\n",
       "      <th>RUN_DATE</th>\n",
       "    </tr>\n",
       "  </thead>\n",
       "  <tbody>\n",
       "    <tr>\n",
       "      <th>0</th>\n",
       "      <td>6211</td>\n",
       "      <td>2015.0</td>\n",
       "      <td>0.0</td>\n",
       "      <td>-817.0</td>\n",
       "      <td>0.0</td>\n",
       "      <td>0.0</td>\n",
       "      <td>0.0</td>\n",
       "      <td>-1610135.13</td>\n",
       "      <td>0.0</td>\n",
       "      <td>0.0</td>\n",
       "      <td>...</td>\n",
       "      <td>0.0</td>\n",
       "      <td>0.0</td>\n",
       "      <td>0.0</td>\n",
       "      <td>-109917.00</td>\n",
       "      <td>0.0</td>\n",
       "      <td>0.0</td>\n",
       "      <td>-150000.00</td>\n",
       "      <td>245798.00</td>\n",
       "      <td>2015-03-01</td>\n",
       "      <td>2015-03-31</td>\n",
       "    </tr>\n",
       "    <tr>\n",
       "      <th>16</th>\n",
       "      <td>7623</td>\n",
       "      <td>2015.0</td>\n",
       "      <td>0.0</td>\n",
       "      <td>-67.5</td>\n",
       "      <td>0.0</td>\n",
       "      <td>0.0</td>\n",
       "      <td>0.0</td>\n",
       "      <td>0.00</td>\n",
       "      <td>0.0</td>\n",
       "      <td>0.0</td>\n",
       "      <td>...</td>\n",
       "      <td>0.0</td>\n",
       "      <td>0.0</td>\n",
       "      <td>0.0</td>\n",
       "      <td>0.00</td>\n",
       "      <td>0.0</td>\n",
       "      <td>0.0</td>\n",
       "      <td>0.00</td>\n",
       "      <td>0.00</td>\n",
       "      <td>2015-03-01</td>\n",
       "      <td>2015-03-31</td>\n",
       "    </tr>\n",
       "    <tr>\n",
       "      <th>32</th>\n",
       "      <td>1934</td>\n",
       "      <td>2015.0</td>\n",
       "      <td>0.0</td>\n",
       "      <td>-627.5</td>\n",
       "      <td>0.0</td>\n",
       "      <td>0.0</td>\n",
       "      <td>0.0</td>\n",
       "      <td>-251086.44</td>\n",
       "      <td>0.0</td>\n",
       "      <td>0.0</td>\n",
       "      <td>...</td>\n",
       "      <td>0.0</td>\n",
       "      <td>0.0</td>\n",
       "      <td>0.0</td>\n",
       "      <td>-28495.00</td>\n",
       "      <td>0.0</td>\n",
       "      <td>0.0</td>\n",
       "      <td>-130520.08</td>\n",
       "      <td>846721.00</td>\n",
       "      <td>2015-03-01</td>\n",
       "      <td>2015-03-31</td>\n",
       "    </tr>\n",
       "    <tr>\n",
       "      <th>48</th>\n",
       "      <td>3937</td>\n",
       "      <td>2015.0</td>\n",
       "      <td>0.0</td>\n",
       "      <td>-37.5</td>\n",
       "      <td>0.0</td>\n",
       "      <td>0.0</td>\n",
       "      <td>0.0</td>\n",
       "      <td>0.00</td>\n",
       "      <td>0.0</td>\n",
       "      <td>0.0</td>\n",
       "      <td>...</td>\n",
       "      <td>0.0</td>\n",
       "      <td>0.0</td>\n",
       "      <td>0.0</td>\n",
       "      <td>0.00</td>\n",
       "      <td>0.0</td>\n",
       "      <td>0.0</td>\n",
       "      <td>0.00</td>\n",
       "      <td>0.00</td>\n",
       "      <td>2015-03-01</td>\n",
       "      <td>2015-03-31</td>\n",
       "    </tr>\n",
       "    <tr>\n",
       "      <th>64</th>\n",
       "      <td>4547</td>\n",
       "      <td>2015.0</td>\n",
       "      <td>0.0</td>\n",
       "      <td>-253.5</td>\n",
       "      <td>0.0</td>\n",
       "      <td>0.0</td>\n",
       "      <td>0.0</td>\n",
       "      <td>-33000.00</td>\n",
       "      <td>0.0</td>\n",
       "      <td>0.0</td>\n",
       "      <td>...</td>\n",
       "      <td>0.0</td>\n",
       "      <td>0.0</td>\n",
       "      <td>0.0</td>\n",
       "      <td>-44935.77</td>\n",
       "      <td>0.0</td>\n",
       "      <td>0.0</td>\n",
       "      <td>0.00</td>\n",
       "      <td>80697.00</td>\n",
       "      <td>2015-03-01</td>\n",
       "      <td>2015-03-31</td>\n",
       "    </tr>\n",
       "    <tr>\n",
       "      <th>...</th>\n",
       "      <td>...</td>\n",
       "      <td>...</td>\n",
       "      <td>...</td>\n",
       "      <td>...</td>\n",
       "      <td>...</td>\n",
       "      <td>...</td>\n",
       "      <td>...</td>\n",
       "      <td>...</td>\n",
       "      <td>...</td>\n",
       "      <td>...</td>\n",
       "      <td>...</td>\n",
       "      <td>...</td>\n",
       "      <td>...</td>\n",
       "      <td>...</td>\n",
       "      <td>...</td>\n",
       "      <td>...</td>\n",
       "      <td>...</td>\n",
       "      <td>...</td>\n",
       "      <td>...</td>\n",
       "      <td>...</td>\n",
       "      <td>...</td>\n",
       "    </tr>\n",
       "    <tr>\n",
       "      <th>99891</th>\n",
       "      <td>3748</td>\n",
       "      <td>2015.0</td>\n",
       "      <td>0.0</td>\n",
       "      <td>0.0</td>\n",
       "      <td>0.0</td>\n",
       "      <td>0.0</td>\n",
       "      <td>0.0</td>\n",
       "      <td>0.00</td>\n",
       "      <td>0.0</td>\n",
       "      <td>0.0</td>\n",
       "      <td>...</td>\n",
       "      <td>0.0</td>\n",
       "      <td>0.0</td>\n",
       "      <td>0.0</td>\n",
       "      <td>0.00</td>\n",
       "      <td>0.0</td>\n",
       "      <td>0.0</td>\n",
       "      <td>0.00</td>\n",
       "      <td>0.00</td>\n",
       "      <td>2015-03-01</td>\n",
       "      <td>2015-03-31</td>\n",
       "    </tr>\n",
       "    <tr>\n",
       "      <th>99902</th>\n",
       "      <td>3749</td>\n",
       "      <td>2015.0</td>\n",
       "      <td>0.0</td>\n",
       "      <td>0.0</td>\n",
       "      <td>0.0</td>\n",
       "      <td>0.0</td>\n",
       "      <td>0.0</td>\n",
       "      <td>0.00</td>\n",
       "      <td>0.0</td>\n",
       "      <td>0.0</td>\n",
       "      <td>...</td>\n",
       "      <td>0.0</td>\n",
       "      <td>0.0</td>\n",
       "      <td>0.0</td>\n",
       "      <td>0.00</td>\n",
       "      <td>0.0</td>\n",
       "      <td>0.0</td>\n",
       "      <td>-799.98</td>\n",
       "      <td>0.00</td>\n",
       "      <td>2015-03-01</td>\n",
       "      <td>2015-03-31</td>\n",
       "    </tr>\n",
       "    <tr>\n",
       "      <th>99914</th>\n",
       "      <td>3750</td>\n",
       "      <td>2015.0</td>\n",
       "      <td>0.0</td>\n",
       "      <td>0.0</td>\n",
       "      <td>0.0</td>\n",
       "      <td>0.0</td>\n",
       "      <td>0.0</td>\n",
       "      <td>0.00</td>\n",
       "      <td>0.0</td>\n",
       "      <td>0.0</td>\n",
       "      <td>...</td>\n",
       "      <td>0.0</td>\n",
       "      <td>0.0</td>\n",
       "      <td>0.0</td>\n",
       "      <td>0.00</td>\n",
       "      <td>0.0</td>\n",
       "      <td>0.0</td>\n",
       "      <td>0.00</td>\n",
       "      <td>13501.84</td>\n",
       "      <td>2015-03-01</td>\n",
       "      <td>2015-03-31</td>\n",
       "    </tr>\n",
       "    <tr>\n",
       "      <th>99930</th>\n",
       "      <td>3751</td>\n",
       "      <td>2015.0</td>\n",
       "      <td>0.0</td>\n",
       "      <td>0.0</td>\n",
       "      <td>0.0</td>\n",
       "      <td>0.0</td>\n",
       "      <td>-23000.0</td>\n",
       "      <td>0.00</td>\n",
       "      <td>0.0</td>\n",
       "      <td>0.0</td>\n",
       "      <td>...</td>\n",
       "      <td>0.0</td>\n",
       "      <td>0.0</td>\n",
       "      <td>0.0</td>\n",
       "      <td>0.00</td>\n",
       "      <td>0.0</td>\n",
       "      <td>0.0</td>\n",
       "      <td>-8000.00</td>\n",
       "      <td>0.00</td>\n",
       "      <td>2015-03-01</td>\n",
       "      <td>2015-03-31</td>\n",
       "    </tr>\n",
       "    <tr>\n",
       "      <th>99961</th>\n",
       "      <td>3753</td>\n",
       "      <td>2015.0</td>\n",
       "      <td>0.0</td>\n",
       "      <td>0.0</td>\n",
       "      <td>0.0</td>\n",
       "      <td>0.0</td>\n",
       "      <td>0.0</td>\n",
       "      <td>0.00</td>\n",
       "      <td>0.0</td>\n",
       "      <td>0.0</td>\n",
       "      <td>...</td>\n",
       "      <td>0.0</td>\n",
       "      <td>0.0</td>\n",
       "      <td>0.0</td>\n",
       "      <td>0.00</td>\n",
       "      <td>0.0</td>\n",
       "      <td>0.0</td>\n",
       "      <td>0.00</td>\n",
       "      <td>0.00</td>\n",
       "      <td>2015-03-01</td>\n",
       "      <td>2015-03-31</td>\n",
       "    </tr>\n",
       "  </tbody>\n",
       "</table>\n",
       "<p>5692 rows × 41 columns</p>\n",
       "</div>"
      ],
      "text/plain": [
       "        CIR  RUN_Date  sum.amt_Bank Draft_N  sum.amt_Bank Fee_N  \\\n",
       "0      6211    2015.0                   0.0              -817.0   \n",
       "16     7623    2015.0                   0.0               -67.5   \n",
       "32     1934    2015.0                   0.0              -627.5   \n",
       "48     3937    2015.0                   0.0               -37.5   \n",
       "64     4547    2015.0                   0.0              -253.5   \n",
       "...     ...       ...                   ...                 ...   \n",
       "99891  3748    2015.0                   0.0                 0.0   \n",
       "99902  3749    2015.0                   0.0                 0.0   \n",
       "99914  3750    2015.0                   0.0                 0.0   \n",
       "99930  3751    2015.0                   0.0                 0.0   \n",
       "99961  3753    2015.0                   0.0                 0.0   \n",
       "\n",
       "       sum.amt_Bundle Fee_N  sum.amt_Cash Depo_N  sum.amt_Cash Out_N  \\\n",
       "0                       0.0                  0.0                 0.0   \n",
       "16                      0.0                  0.0                 0.0   \n",
       "32                      0.0                  0.0                 0.0   \n",
       "48                      0.0                  0.0                 0.0   \n",
       "64                      0.0                  0.0                 0.0   \n",
       "...                     ...                  ...                 ...   \n",
       "99891                   0.0                  0.0                 0.0   \n",
       "99902                   0.0                  0.0                 0.0   \n",
       "99914                   0.0                  0.0                 0.0   \n",
       "99930                   0.0                  0.0            -23000.0   \n",
       "99961                   0.0                  0.0                 0.0   \n",
       "\n",
       "       sum.amt_Cheque_N  sum.amt_Contra Entry_N  sum.amt_Cr Intr_N  ...  \\\n",
       "0           -1610135.13                     0.0                0.0  ...   \n",
       "16                 0.00                     0.0                0.0  ...   \n",
       "32           -251086.44                     0.0                0.0  ...   \n",
       "48                 0.00                     0.0                0.0  ...   \n",
       "64            -33000.00                     0.0                0.0  ...   \n",
       "...                 ...                     ...                ...  ...   \n",
       "99891              0.00                     0.0                0.0  ...   \n",
       "99902              0.00                     0.0                0.0  ...   \n",
       "99914              0.00                     0.0                0.0  ...   \n",
       "99930              0.00                     0.0                0.0  ...   \n",
       "99961              0.00                     0.0                0.0  ...   \n",
       "\n",
       "       sum.amt_Securities_N  sum.amt_Securities Purchase_N  \\\n",
       "0                       0.0                            0.0   \n",
       "16                      0.0                            0.0   \n",
       "32                      0.0                            0.0   \n",
       "48                      0.0                            0.0   \n",
       "64                      0.0                            0.0   \n",
       "...                     ...                            ...   \n",
       "99891                   0.0                            0.0   \n",
       "99902                   0.0                            0.0   \n",
       "99914                   0.0                            0.0   \n",
       "99930                   0.0                            0.0   \n",
       "99961                   0.0                            0.0   \n",
       "\n",
       "       sum.amt_Securities Sale_N  sum.amt_Stdin Order_N  sum.amt_Trnf_N  \\\n",
       "0                            0.0             -109917.00             0.0   \n",
       "16                           0.0                   0.00             0.0   \n",
       "32                           0.0              -28495.00             0.0   \n",
       "48                           0.0                   0.00             0.0   \n",
       "64                           0.0              -44935.77             0.0   \n",
       "...                          ...                    ...             ...   \n",
       "99891                        0.0                   0.00             0.0   \n",
       "99902                        0.0                   0.00             0.0   \n",
       "99914                        0.0                   0.00             0.0   \n",
       "99930                        0.0                   0.00             0.0   \n",
       "99961                        0.0                   0.00             0.0   \n",
       "\n",
       "       sum.amt_Unpaid Fee_N  sum.amt_NA_N  sum.amt_NA_P  RUN_DATE_   RUN_DATE  \n",
       "0                       0.0    -150000.00     245798.00 2015-03-01 2015-03-31  \n",
       "16                      0.0          0.00          0.00 2015-03-01 2015-03-31  \n",
       "32                      0.0    -130520.08     846721.00 2015-03-01 2015-03-31  \n",
       "48                      0.0          0.00          0.00 2015-03-01 2015-03-31  \n",
       "64                      0.0          0.00      80697.00 2015-03-01 2015-03-31  \n",
       "...                     ...           ...           ...        ...        ...  \n",
       "99891                   0.0          0.00          0.00 2015-03-01 2015-03-31  \n",
       "99902                   0.0       -799.98          0.00 2015-03-01 2015-03-31  \n",
       "99914                   0.0          0.00      13501.84 2015-03-01 2015-03-31  \n",
       "99930                   0.0      -8000.00          0.00 2015-03-01 2015-03-31  \n",
       "99961                   0.0          0.00          0.00 2015-03-01 2015-03-31  \n",
       "\n",
       "[5692 rows x 41 columns]"
      ]
     },
     "execution_count": 78,
     "metadata": {},
     "output_type": "execute_result"
    }
   ],
   "source": [
    "transaction_df[transaction_df.RUN_DATE==run_dates[0]]"
   ]
  },
  {
   "cell_type": "code",
   "execution_count": 83,
   "metadata": {},
   "outputs": [
    {
     "data": {
      "text/html": [
       "<div>\n",
       "<style scoped>\n",
       "    .dataframe tbody tr th:only-of-type {\n",
       "        vertical-align: middle;\n",
       "    }\n",
       "\n",
       "    .dataframe tbody tr th {\n",
       "        vertical-align: top;\n",
       "    }\n",
       "\n",
       "    .dataframe thead th {\n",
       "        text-align: right;\n",
       "    }\n",
       "</style>\n",
       "<table border=\"1\" class=\"dataframe\">\n",
       "  <thead>\n",
       "    <tr style=\"text-align: right;\">\n",
       "      <th></th>\n",
       "      <th>Unnamed: 0</th>\n",
       "      <th>RUN_DATE</th>\n",
       "      <th>CIR</th>\n",
       "      <th>loan_car_application</th>\n",
       "      <th>loan_education_application</th>\n",
       "      <th>loan_general_application</th>\n",
       "      <th>loan_housing_application</th>\n",
       "      <th>loan_personal_application</th>\n",
       "    </tr>\n",
       "  </thead>\n",
       "  <tbody>\n",
       "    <tr>\n",
       "      <th>244</th>\n",
       "      <td>26087</td>\n",
       "      <td>2015-03-31</td>\n",
       "      <td>245</td>\n",
       "      <td>0.0</td>\n",
       "      <td>0.0</td>\n",
       "      <td>0.0</td>\n",
       "      <td>9.0</td>\n",
       "      <td>0.0</td>\n",
       "    </tr>\n",
       "    <tr>\n",
       "      <th>396</th>\n",
       "      <td>41456</td>\n",
       "      <td>2015-03-31</td>\n",
       "      <td>397</td>\n",
       "      <td>0.0</td>\n",
       "      <td>0.0</td>\n",
       "      <td>0.0</td>\n",
       "      <td>0.0</td>\n",
       "      <td>9.0</td>\n",
       "    </tr>\n",
       "    <tr>\n",
       "      <th>480</th>\n",
       "      <td>50966</td>\n",
       "      <td>2015-03-31</td>\n",
       "      <td>481</td>\n",
       "      <td>0.0</td>\n",
       "      <td>0.0</td>\n",
       "      <td>0.0</td>\n",
       "      <td>0.0</td>\n",
       "      <td>5.0</td>\n",
       "    </tr>\n",
       "    <tr>\n",
       "      <th>546</th>\n",
       "      <td>59182</td>\n",
       "      <td>2015-03-31</td>\n",
       "      <td>547</td>\n",
       "      <td>0.0</td>\n",
       "      <td>0.0</td>\n",
       "      <td>0.0</td>\n",
       "      <td>0.0</td>\n",
       "      <td>5.0</td>\n",
       "    </tr>\n",
       "    <tr>\n",
       "      <th>628</th>\n",
       "      <td>67681</td>\n",
       "      <td>2015-03-31</td>\n",
       "      <td>629</td>\n",
       "      <td>0.0</td>\n",
       "      <td>0.0</td>\n",
       "      <td>0.0</td>\n",
       "      <td>0.0</td>\n",
       "      <td>4.0</td>\n",
       "    </tr>\n",
       "    <tr>\n",
       "      <th>...</th>\n",
       "      <td>...</td>\n",
       "      <td>...</td>\n",
       "      <td>...</td>\n",
       "      <td>...</td>\n",
       "      <td>...</td>\n",
       "      <td>...</td>\n",
       "      <td>...</td>\n",
       "      <td>...</td>\n",
       "    </tr>\n",
       "    <tr>\n",
       "      <th>148637</th>\n",
       "      <td>15325574</td>\n",
       "      <td>2019-03-29</td>\n",
       "      <td>7369</td>\n",
       "      <td>0.0</td>\n",
       "      <td>0.0</td>\n",
       "      <td>0.0</td>\n",
       "      <td>0.0</td>\n",
       "      <td>1.0</td>\n",
       "    </tr>\n",
       "    <tr>\n",
       "      <th>148851</th>\n",
       "      <td>15347557</td>\n",
       "      <td>2019-03-29</td>\n",
       "      <td>7590</td>\n",
       "      <td>0.0</td>\n",
       "      <td>0.0</td>\n",
       "      <td>0.0</td>\n",
       "      <td>0.0</td>\n",
       "      <td>1.0</td>\n",
       "    </tr>\n",
       "    <tr>\n",
       "      <th>149260</th>\n",
       "      <td>15388605</td>\n",
       "      <td>2019-03-29</td>\n",
       "      <td>8021</td>\n",
       "      <td>0.0</td>\n",
       "      <td>0.0</td>\n",
       "      <td>0.0</td>\n",
       "      <td>0.0</td>\n",
       "      <td>1.0</td>\n",
       "    </tr>\n",
       "    <tr>\n",
       "      <th>149444</th>\n",
       "      <td>15407764</td>\n",
       "      <td>2019-03-29</td>\n",
       "      <td>8220</td>\n",
       "      <td>0.0</td>\n",
       "      <td>0.0</td>\n",
       "      <td>0.0</td>\n",
       "      <td>0.0</td>\n",
       "      <td>1.0</td>\n",
       "    </tr>\n",
       "    <tr>\n",
       "      <th>149535</th>\n",
       "      <td>15417612</td>\n",
       "      <td>2019-03-29</td>\n",
       "      <td>8308</td>\n",
       "      <td>0.0</td>\n",
       "      <td>0.0</td>\n",
       "      <td>0.0</td>\n",
       "      <td>0.0</td>\n",
       "      <td>1.0</td>\n",
       "    </tr>\n",
       "  </tbody>\n",
       "</table>\n",
       "<p>493 rows × 8 columns</p>\n",
       "</div>"
      ],
      "text/plain": [
       "        Unnamed: 0   RUN_DATE   CIR  loan_car_application  \\\n",
       "244          26087 2015-03-31   245                   0.0   \n",
       "396          41456 2015-03-31   397                   0.0   \n",
       "480          50966 2015-03-31   481                   0.0   \n",
       "546          59182 2015-03-31   547                   0.0   \n",
       "628          67681 2015-03-31   629                   0.0   \n",
       "...            ...        ...   ...                   ...   \n",
       "148637    15325574 2019-03-29  7369                   0.0   \n",
       "148851    15347557 2019-03-29  7590                   0.0   \n",
       "149260    15388605 2019-03-29  8021                   0.0   \n",
       "149444    15407764 2019-03-29  8220                   0.0   \n",
       "149535    15417612 2019-03-29  8308                   0.0   \n",
       "\n",
       "        loan_education_application  loan_general_application  \\\n",
       "244                            0.0                       0.0   \n",
       "396                            0.0                       0.0   \n",
       "480                            0.0                       0.0   \n",
       "546                            0.0                       0.0   \n",
       "628                            0.0                       0.0   \n",
       "...                            ...                       ...   \n",
       "148637                         0.0                       0.0   \n",
       "148851                         0.0                       0.0   \n",
       "149260                         0.0                       0.0   \n",
       "149444                         0.0                       0.0   \n",
       "149535                         0.0                       0.0   \n",
       "\n",
       "        loan_housing_application  loan_personal_application  \n",
       "244                          9.0                        0.0  \n",
       "396                          0.0                        9.0  \n",
       "480                          0.0                        5.0  \n",
       "546                          0.0                        5.0  \n",
       "628                          0.0                        4.0  \n",
       "...                          ...                        ...  \n",
       "148637                       0.0                        1.0  \n",
       "148851                       0.0                        1.0  \n",
       "149260                       0.0                        1.0  \n",
       "149444                       0.0                        1.0  \n",
       "149535                       0.0                        1.0  \n",
       "\n",
       "[493 rows x 8 columns]"
      ]
     },
     "execution_count": 83,
     "metadata": {},
     "output_type": "execute_result"
    }
   ],
   "source": [
    "account_df[account_df.loan_car_application==0]"
   ]
  },
  {
   "cell_type": "code",
   "execution_count": 91,
   "metadata": {},
   "outputs": [
    {
     "data": {
      "text/html": [
       "<div>\n",
       "<style scoped>\n",
       "    .dataframe tbody tr th:only-of-type {\n",
       "        vertical-align: middle;\n",
       "    }\n",
       "\n",
       "    .dataframe tbody tr th {\n",
       "        vertical-align: top;\n",
       "    }\n",
       "\n",
       "    .dataframe thead th {\n",
       "        text-align: right;\n",
       "    }\n",
       "</style>\n",
       "<table border=\"1\" class=\"dataframe\">\n",
       "  <thead>\n",
       "    <tr style=\"text-align: right;\">\n",
       "      <th></th>\n",
       "      <th>Unnamed: 0</th>\n",
       "      <th>RUN_DATE</th>\n",
       "      <th>CIR</th>\n",
       "      <th>loan_car_application</th>\n",
       "      <th>loan_education_application</th>\n",
       "      <th>loan_general_application</th>\n",
       "      <th>loan_housing_application</th>\n",
       "      <th>loan_personal_application</th>\n",
       "    </tr>\n",
       "  </thead>\n",
       "  <tbody>\n",
       "    <tr>\n",
       "      <th>7368</th>\n",
       "      <td>758971</td>\n",
       "      <td>2015-03-31</td>\n",
       "      <td>7369</td>\n",
       "      <td>NaN</td>\n",
       "      <td>NaN</td>\n",
       "      <td>NaN</td>\n",
       "      <td>NaN</td>\n",
       "      <td>NaN</td>\n",
       "    </tr>\n",
       "    <tr>\n",
       "      <th>15927</th>\n",
       "      <td>1637719</td>\n",
       "      <td>2015-06-30</td>\n",
       "      <td>7369</td>\n",
       "      <td>NaN</td>\n",
       "      <td>NaN</td>\n",
       "      <td>NaN</td>\n",
       "      <td>NaN</td>\n",
       "      <td>NaN</td>\n",
       "    </tr>\n",
       "    <tr>\n",
       "      <th>24509</th>\n",
       "      <td>2519297</td>\n",
       "      <td>2015-09-30</td>\n",
       "      <td>7369</td>\n",
       "      <td>NaN</td>\n",
       "      <td>NaN</td>\n",
       "      <td>NaN</td>\n",
       "      <td>NaN</td>\n",
       "      <td>NaN</td>\n",
       "    </tr>\n",
       "    <tr>\n",
       "      <th>33104</th>\n",
       "      <td>3403834</td>\n",
       "      <td>2015-12-31</td>\n",
       "      <td>7369</td>\n",
       "      <td>NaN</td>\n",
       "      <td>NaN</td>\n",
       "      <td>NaN</td>\n",
       "      <td>NaN</td>\n",
       "      <td>NaN</td>\n",
       "    </tr>\n",
       "    <tr>\n",
       "      <th>41779</th>\n",
       "      <td>4297111</td>\n",
       "      <td>2016-03-31</td>\n",
       "      <td>7369</td>\n",
       "      <td>NaN</td>\n",
       "      <td>NaN</td>\n",
       "      <td>NaN</td>\n",
       "      <td>NaN</td>\n",
       "      <td>NaN</td>\n",
       "    </tr>\n",
       "    <tr>\n",
       "      <th>50452</th>\n",
       "      <td>5189885</td>\n",
       "      <td>2016-06-30</td>\n",
       "      <td>7369</td>\n",
       "      <td>NaN</td>\n",
       "      <td>NaN</td>\n",
       "      <td>NaN</td>\n",
       "      <td>NaN</td>\n",
       "      <td>NaN</td>\n",
       "    </tr>\n",
       "    <tr>\n",
       "      <th>59133</th>\n",
       "      <td>6086727</td>\n",
       "      <td>2016-09-30</td>\n",
       "      <td>7369</td>\n",
       "      <td>NaN</td>\n",
       "      <td>NaN</td>\n",
       "      <td>NaN</td>\n",
       "      <td>NaN</td>\n",
       "      <td>NaN</td>\n",
       "    </tr>\n",
       "    <tr>\n",
       "      <th>67862</th>\n",
       "      <td>6989016</td>\n",
       "      <td>2016-12-30</td>\n",
       "      <td>7369</td>\n",
       "      <td>NaN</td>\n",
       "      <td>NaN</td>\n",
       "      <td>NaN</td>\n",
       "      <td>NaN</td>\n",
       "      <td>NaN</td>\n",
       "    </tr>\n",
       "    <tr>\n",
       "      <th>76645</th>\n",
       "      <td>7897454</td>\n",
       "      <td>2017-03-31</td>\n",
       "      <td>7369</td>\n",
       "      <td>NaN</td>\n",
       "      <td>NaN</td>\n",
       "      <td>NaN</td>\n",
       "      <td>NaN</td>\n",
       "      <td>NaN</td>\n",
       "    </tr>\n",
       "    <tr>\n",
       "      <th>85471</th>\n",
       "      <td>8810574</td>\n",
       "      <td>2017-06-30</td>\n",
       "      <td>7369</td>\n",
       "      <td>NaN</td>\n",
       "      <td>NaN</td>\n",
       "      <td>NaN</td>\n",
       "      <td>NaN</td>\n",
       "      <td>NaN</td>\n",
       "    </tr>\n",
       "    <tr>\n",
       "      <th>94320</th>\n",
       "      <td>9725889</td>\n",
       "      <td>2017-09-29</td>\n",
       "      <td>7369</td>\n",
       "      <td>NaN</td>\n",
       "      <td>NaN</td>\n",
       "      <td>NaN</td>\n",
       "      <td>NaN</td>\n",
       "      <td>NaN</td>\n",
       "    </tr>\n",
       "    <tr>\n",
       "      <th>103249</th>\n",
       "      <td>10646666</td>\n",
       "      <td>2017-12-29</td>\n",
       "      <td>7369</td>\n",
       "      <td>NaN</td>\n",
       "      <td>NaN</td>\n",
       "      <td>NaN</td>\n",
       "      <td>NaN</td>\n",
       "      <td>NaN</td>\n",
       "    </tr>\n",
       "    <tr>\n",
       "      <th>112234</th>\n",
       "      <td>11572899</td>\n",
       "      <td>2018-03-30</td>\n",
       "      <td>7369</td>\n",
       "      <td>NaN</td>\n",
       "      <td>NaN</td>\n",
       "      <td>NaN</td>\n",
       "      <td>NaN</td>\n",
       "      <td>NaN</td>\n",
       "    </tr>\n",
       "    <tr>\n",
       "      <th>121280</th>\n",
       "      <td>12504217</td>\n",
       "      <td>2018-06-29</td>\n",
       "      <td>7369</td>\n",
       "      <td>NaN</td>\n",
       "      <td>NaN</td>\n",
       "      <td>NaN</td>\n",
       "      <td>NaN</td>\n",
       "      <td>NaN</td>\n",
       "    </tr>\n",
       "    <tr>\n",
       "      <th>130369</th>\n",
       "      <td>13440948</td>\n",
       "      <td>2018-09-28</td>\n",
       "      <td>7369</td>\n",
       "      <td>NaN</td>\n",
       "      <td>NaN</td>\n",
       "      <td>NaN</td>\n",
       "      <td>NaN</td>\n",
       "      <td>NaN</td>\n",
       "    </tr>\n",
       "    <tr>\n",
       "      <th>139430</th>\n",
       "      <td>14376855</td>\n",
       "      <td>2018-12-31</td>\n",
       "      <td>7369</td>\n",
       "      <td>NaN</td>\n",
       "      <td>NaN</td>\n",
       "      <td>NaN</td>\n",
       "      <td>NaN</td>\n",
       "      <td>NaN</td>\n",
       "    </tr>\n",
       "    <tr>\n",
       "      <th>148637</th>\n",
       "      <td>15325574</td>\n",
       "      <td>2019-03-29</td>\n",
       "      <td>7369</td>\n",
       "      <td>0.0</td>\n",
       "      <td>0.0</td>\n",
       "      <td>0.0</td>\n",
       "      <td>0.0</td>\n",
       "      <td>1.0</td>\n",
       "    </tr>\n",
       "  </tbody>\n",
       "</table>\n",
       "</div>"
      ],
      "text/plain": [
       "        Unnamed: 0   RUN_DATE   CIR  loan_car_application  \\\n",
       "7368        758971 2015-03-31  7369                   NaN   \n",
       "15927      1637719 2015-06-30  7369                   NaN   \n",
       "24509      2519297 2015-09-30  7369                   NaN   \n",
       "33104      3403834 2015-12-31  7369                   NaN   \n",
       "41779      4297111 2016-03-31  7369                   NaN   \n",
       "50452      5189885 2016-06-30  7369                   NaN   \n",
       "59133      6086727 2016-09-30  7369                   NaN   \n",
       "67862      6989016 2016-12-30  7369                   NaN   \n",
       "76645      7897454 2017-03-31  7369                   NaN   \n",
       "85471      8810574 2017-06-30  7369                   NaN   \n",
       "94320      9725889 2017-09-29  7369                   NaN   \n",
       "103249    10646666 2017-12-29  7369                   NaN   \n",
       "112234    11572899 2018-03-30  7369                   NaN   \n",
       "121280    12504217 2018-06-29  7369                   NaN   \n",
       "130369    13440948 2018-09-28  7369                   NaN   \n",
       "139430    14376855 2018-12-31  7369                   NaN   \n",
       "148637    15325574 2019-03-29  7369                   0.0   \n",
       "\n",
       "        loan_education_application  loan_general_application  \\\n",
       "7368                           NaN                       NaN   \n",
       "15927                          NaN                       NaN   \n",
       "24509                          NaN                       NaN   \n",
       "33104                          NaN                       NaN   \n",
       "41779                          NaN                       NaN   \n",
       "50452                          NaN                       NaN   \n",
       "59133                          NaN                       NaN   \n",
       "67862                          NaN                       NaN   \n",
       "76645                          NaN                       NaN   \n",
       "85471                          NaN                       NaN   \n",
       "94320                          NaN                       NaN   \n",
       "103249                         NaN                       NaN   \n",
       "112234                         NaN                       NaN   \n",
       "121280                         NaN                       NaN   \n",
       "130369                         NaN                       NaN   \n",
       "139430                         NaN                       NaN   \n",
       "148637                         0.0                       0.0   \n",
       "\n",
       "        loan_housing_application  loan_personal_application  \n",
       "7368                         NaN                        NaN  \n",
       "15927                        NaN                        NaN  \n",
       "24509                        NaN                        NaN  \n",
       "33104                        NaN                        NaN  \n",
       "41779                        NaN                        NaN  \n",
       "50452                        NaN                        NaN  \n",
       "59133                        NaN                        NaN  \n",
       "67862                        NaN                        NaN  \n",
       "76645                        NaN                        NaN  \n",
       "85471                        NaN                        NaN  \n",
       "94320                        NaN                        NaN  \n",
       "103249                       NaN                        NaN  \n",
       "112234                       NaN                        NaN  \n",
       "121280                       NaN                        NaN  \n",
       "130369                       NaN                        NaN  \n",
       "139430                       NaN                        NaN  \n",
       "148637                       0.0                        1.0  "
      ]
     },
     "execution_count": 91,
     "metadata": {},
     "output_type": "execute_result"
    }
   ],
   "source": [
    "CIR=7369\n",
    "account_df[account_df.CIR==CIR]"
   ]
  },
  {
   "cell_type": "code",
   "execution_count": 92,
   "metadata": {},
   "outputs": [
    {
     "data": {
      "text/plain": [
       "['CIR',\n",
       " 'RUN_Date',\n",
       " 'sum.amt_Bank Draft_N',\n",
       " 'sum.amt_Bank Fee_N',\n",
       " 'sum.amt_Bundle Fee_N',\n",
       " 'sum.amt_Cash Depo_N',\n",
       " 'sum.amt_Cash Out_N',\n",
       " 'sum.amt_Cheque_N',\n",
       " 'sum.amt_Contra Entry_N',\n",
       " 'sum.amt_Cr Intr_N',\n",
       " 'sum.amt_Db Intr_N',\n",
       " 'sum.amt_Direct Db_N',\n",
       " 'sum.amt_FD Maturity_N',\n",
       " 'sum.amt_FD Pre Closure_N',\n",
       " 'sum.amt_FD Set Up_N',\n",
       " 'sum.amt_Failed Direct Db_N',\n",
       " 'sum.amt_Ignore_N',\n",
       " 'sum.amt_Income_N',\n",
       " 'sum.amt_Insurance_N',\n",
       " 'sum.amt_Intr_N',\n",
       " 'sum.amt_Inward Trnf_N',\n",
       " 'sum.amt_Loan Repay_N',\n",
       " 'sum.amt_Locker Depo_N',\n",
       " 'sum.amt_Merchant Stlmt_N',\n",
       " 'sum.amt_MoneyGram_N',\n",
       " 'sum.amt_Others_N',\n",
       " 'sum.amt_Out. Trnf_N',\n",
       " 'sum.amt_Past Due_N',\n",
       " 'sum.amt_Payment_N',\n",
       " 'sum.amt_Refill_N',\n",
       " 'sum.amt_Reject_N',\n",
       " 'sum.amt_Securities_N',\n",
       " 'sum.amt_Securities Purchase_N',\n",
       " 'sum.amt_Securities Sale_N',\n",
       " 'sum.amt_Stdin Order_N',\n",
       " 'sum.amt_Trnf_N',\n",
       " 'sum.amt_Unpaid Fee_N',\n",
       " 'sum.amt_NA_N',\n",
       " 'sum.amt_NA_P',\n",
       " 'RUN_DATE_',\n",
       " 'RUN_DATE']"
      ]
     },
     "execution_count": 92,
     "metadata": {},
     "output_type": "execute_result"
    }
   ],
   "source": [
    "list(transaction_df)\n"
   ]
  },
  {
   "cell_type": "code",
   "execution_count": 93,
   "metadata": {},
   "outputs": [
    {
     "data": {
      "text/html": [
       "<div>\n",
       "<style scoped>\n",
       "    .dataframe tbody tr th:only-of-type {\n",
       "        vertical-align: middle;\n",
       "    }\n",
       "\n",
       "    .dataframe tbody tr th {\n",
       "        vertical-align: top;\n",
       "    }\n",
       "\n",
       "    .dataframe thead th {\n",
       "        text-align: right;\n",
       "    }\n",
       "</style>\n",
       "<table border=\"1\" class=\"dataframe\">\n",
       "  <thead>\n",
       "    <tr style=\"text-align: right;\">\n",
       "      <th></th>\n",
       "      <th>CIR</th>\n",
       "      <th>RUN_Date</th>\n",
       "      <th>sum.amt_Bank Draft_N</th>\n",
       "      <th>sum.amt_Bank Fee_N</th>\n",
       "      <th>sum.amt_Bundle Fee_N</th>\n",
       "      <th>sum.amt_Cash Depo_N</th>\n",
       "      <th>sum.amt_Cash Out_N</th>\n",
       "      <th>sum.amt_Cheque_N</th>\n",
       "      <th>sum.amt_Contra Entry_N</th>\n",
       "      <th>sum.amt_Cr Intr_N</th>\n",
       "      <th>...</th>\n",
       "      <th>sum.amt_Securities_N</th>\n",
       "      <th>sum.amt_Securities Purchase_N</th>\n",
       "      <th>sum.amt_Securities Sale_N</th>\n",
       "      <th>sum.amt_Stdin Order_N</th>\n",
       "      <th>sum.amt_Trnf_N</th>\n",
       "      <th>sum.amt_Unpaid Fee_N</th>\n",
       "      <th>sum.amt_NA_N</th>\n",
       "      <th>sum.amt_NA_P</th>\n",
       "      <th>RUN_DATE_</th>\n",
       "      <th>RUN_DATE</th>\n",
       "    </tr>\n",
       "  </thead>\n",
       "  <tbody>\n",
       "    <tr>\n",
       "      <th>4090</th>\n",
       "      <td>7369</td>\n",
       "      <td>2015.00</td>\n",
       "      <td>0.0</td>\n",
       "      <td>0.0</td>\n",
       "      <td>0.0</td>\n",
       "      <td>0.0</td>\n",
       "      <td>-20500.0</td>\n",
       "      <td>0.0</td>\n",
       "      <td>0.0</td>\n",
       "      <td>0.0</td>\n",
       "      <td>...</td>\n",
       "      <td>0.0</td>\n",
       "      <td>0.0</td>\n",
       "      <td>0.0</td>\n",
       "      <td>0.0</td>\n",
       "      <td>0.0</td>\n",
       "      <td>0.0</td>\n",
       "      <td>0.0</td>\n",
       "      <td>0.0</td>\n",
       "      <td>2015-03-01</td>\n",
       "      <td>2015-03-31</td>\n",
       "    </tr>\n",
       "    <tr>\n",
       "      <th>4091</th>\n",
       "      <td>7369</td>\n",
       "      <td>2015.25</td>\n",
       "      <td>0.0</td>\n",
       "      <td>-80.0</td>\n",
       "      <td>0.0</td>\n",
       "      <td>0.0</td>\n",
       "      <td>-82000.0</td>\n",
       "      <td>0.0</td>\n",
       "      <td>0.0</td>\n",
       "      <td>0.0</td>\n",
       "      <td>...</td>\n",
       "      <td>0.0</td>\n",
       "      <td>0.0</td>\n",
       "      <td>0.0</td>\n",
       "      <td>0.0</td>\n",
       "      <td>0.0</td>\n",
       "      <td>0.0</td>\n",
       "      <td>0.0</td>\n",
       "      <td>0.0</td>\n",
       "      <td>2015-06-01</td>\n",
       "      <td>2015-06-30</td>\n",
       "    </tr>\n",
       "    <tr>\n",
       "      <th>4092</th>\n",
       "      <td>7369</td>\n",
       "      <td>2015.50</td>\n",
       "      <td>0.0</td>\n",
       "      <td>0.0</td>\n",
       "      <td>0.0</td>\n",
       "      <td>0.0</td>\n",
       "      <td>-160500.0</td>\n",
       "      <td>0.0</td>\n",
       "      <td>0.0</td>\n",
       "      <td>0.0</td>\n",
       "      <td>...</td>\n",
       "      <td>0.0</td>\n",
       "      <td>0.0</td>\n",
       "      <td>0.0</td>\n",
       "      <td>0.0</td>\n",
       "      <td>0.0</td>\n",
       "      <td>0.0</td>\n",
       "      <td>0.0</td>\n",
       "      <td>0.0</td>\n",
       "      <td>2015-09-01</td>\n",
       "      <td>2015-09-30</td>\n",
       "    </tr>\n",
       "    <tr>\n",
       "      <th>4093</th>\n",
       "      <td>7369</td>\n",
       "      <td>2015.75</td>\n",
       "      <td>0.0</td>\n",
       "      <td>-70.0</td>\n",
       "      <td>0.0</td>\n",
       "      <td>0.0</td>\n",
       "      <td>-105500.0</td>\n",
       "      <td>0.0</td>\n",
       "      <td>0.0</td>\n",
       "      <td>0.0</td>\n",
       "      <td>...</td>\n",
       "      <td>0.0</td>\n",
       "      <td>0.0</td>\n",
       "      <td>0.0</td>\n",
       "      <td>0.0</td>\n",
       "      <td>0.0</td>\n",
       "      <td>0.0</td>\n",
       "      <td>0.0</td>\n",
       "      <td>0.0</td>\n",
       "      <td>2015-12-01</td>\n",
       "      <td>2015-12-31</td>\n",
       "    </tr>\n",
       "    <tr>\n",
       "      <th>4094</th>\n",
       "      <td>7369</td>\n",
       "      <td>2016.00</td>\n",
       "      <td>0.0</td>\n",
       "      <td>0.0</td>\n",
       "      <td>0.0</td>\n",
       "      <td>0.0</td>\n",
       "      <td>-20500.0</td>\n",
       "      <td>0.0</td>\n",
       "      <td>0.0</td>\n",
       "      <td>0.0</td>\n",
       "      <td>...</td>\n",
       "      <td>0.0</td>\n",
       "      <td>0.0</td>\n",
       "      <td>0.0</td>\n",
       "      <td>0.0</td>\n",
       "      <td>0.0</td>\n",
       "      <td>0.0</td>\n",
       "      <td>0.0</td>\n",
       "      <td>0.0</td>\n",
       "      <td>2016-03-01</td>\n",
       "      <td>2016-03-31</td>\n",
       "    </tr>\n",
       "    <tr>\n",
       "      <th>4095</th>\n",
       "      <td>7369</td>\n",
       "      <td>2016.25</td>\n",
       "      <td>0.0</td>\n",
       "      <td>-1.0</td>\n",
       "      <td>0.0</td>\n",
       "      <td>0.0</td>\n",
       "      <td>0.0</td>\n",
       "      <td>0.0</td>\n",
       "      <td>0.0</td>\n",
       "      <td>0.0</td>\n",
       "      <td>...</td>\n",
       "      <td>0.0</td>\n",
       "      <td>0.0</td>\n",
       "      <td>0.0</td>\n",
       "      <td>0.0</td>\n",
       "      <td>0.0</td>\n",
       "      <td>0.0</td>\n",
       "      <td>0.0</td>\n",
       "      <td>0.0</td>\n",
       "      <td>2016-06-01</td>\n",
       "      <td>2016-06-30</td>\n",
       "    </tr>\n",
       "    <tr>\n",
       "      <th>4096</th>\n",
       "      <td>7369</td>\n",
       "      <td>2016.50</td>\n",
       "      <td>0.0</td>\n",
       "      <td>0.0</td>\n",
       "      <td>0.0</td>\n",
       "      <td>0.0</td>\n",
       "      <td>0.0</td>\n",
       "      <td>0.0</td>\n",
       "      <td>0.0</td>\n",
       "      <td>0.0</td>\n",
       "      <td>...</td>\n",
       "      <td>0.0</td>\n",
       "      <td>0.0</td>\n",
       "      <td>0.0</td>\n",
       "      <td>0.0</td>\n",
       "      <td>0.0</td>\n",
       "      <td>0.0</td>\n",
       "      <td>0.0</td>\n",
       "      <td>0.0</td>\n",
       "      <td>2016-09-01</td>\n",
       "      <td>2016-09-30</td>\n",
       "    </tr>\n",
       "    <tr>\n",
       "      <th>4097</th>\n",
       "      <td>7369</td>\n",
       "      <td>2016.75</td>\n",
       "      <td>0.0</td>\n",
       "      <td>0.0</td>\n",
       "      <td>0.0</td>\n",
       "      <td>0.0</td>\n",
       "      <td>-9000.0</td>\n",
       "      <td>0.0</td>\n",
       "      <td>0.0</td>\n",
       "      <td>0.0</td>\n",
       "      <td>...</td>\n",
       "      <td>0.0</td>\n",
       "      <td>0.0</td>\n",
       "      <td>0.0</td>\n",
       "      <td>0.0</td>\n",
       "      <td>0.0</td>\n",
       "      <td>0.0</td>\n",
       "      <td>0.0</td>\n",
       "      <td>0.0</td>\n",
       "      <td>2016-12-01</td>\n",
       "      <td>2016-12-30</td>\n",
       "    </tr>\n",
       "    <tr>\n",
       "      <th>4098</th>\n",
       "      <td>7369</td>\n",
       "      <td>2017.00</td>\n",
       "      <td>0.0</td>\n",
       "      <td>0.0</td>\n",
       "      <td>0.0</td>\n",
       "      <td>0.0</td>\n",
       "      <td>0.0</td>\n",
       "      <td>0.0</td>\n",
       "      <td>0.0</td>\n",
       "      <td>0.0</td>\n",
       "      <td>...</td>\n",
       "      <td>0.0</td>\n",
       "      <td>0.0</td>\n",
       "      <td>0.0</td>\n",
       "      <td>0.0</td>\n",
       "      <td>0.0</td>\n",
       "      <td>0.0</td>\n",
       "      <td>0.0</td>\n",
       "      <td>0.0</td>\n",
       "      <td>2017-03-01</td>\n",
       "      <td>2017-03-31</td>\n",
       "    </tr>\n",
       "    <tr>\n",
       "      <th>4099</th>\n",
       "      <td>7369</td>\n",
       "      <td>2017.25</td>\n",
       "      <td>0.0</td>\n",
       "      <td>0.0</td>\n",
       "      <td>0.0</td>\n",
       "      <td>0.0</td>\n",
       "      <td>0.0</td>\n",
       "      <td>0.0</td>\n",
       "      <td>0.0</td>\n",
       "      <td>0.0</td>\n",
       "      <td>...</td>\n",
       "      <td>0.0</td>\n",
       "      <td>0.0</td>\n",
       "      <td>0.0</td>\n",
       "      <td>0.0</td>\n",
       "      <td>0.0</td>\n",
       "      <td>0.0</td>\n",
       "      <td>0.0</td>\n",
       "      <td>0.0</td>\n",
       "      <td>2017-06-01</td>\n",
       "      <td>2017-06-30</td>\n",
       "    </tr>\n",
       "    <tr>\n",
       "      <th>4100</th>\n",
       "      <td>7369</td>\n",
       "      <td>2017.50</td>\n",
       "      <td>0.0</td>\n",
       "      <td>-1.0</td>\n",
       "      <td>0.0</td>\n",
       "      <td>0.0</td>\n",
       "      <td>0.0</td>\n",
       "      <td>0.0</td>\n",
       "      <td>0.0</td>\n",
       "      <td>0.0</td>\n",
       "      <td>...</td>\n",
       "      <td>0.0</td>\n",
       "      <td>0.0</td>\n",
       "      <td>0.0</td>\n",
       "      <td>0.0</td>\n",
       "      <td>0.0</td>\n",
       "      <td>0.0</td>\n",
       "      <td>0.0</td>\n",
       "      <td>0.0</td>\n",
       "      <td>2017-09-01</td>\n",
       "      <td>2017-09-29</td>\n",
       "    </tr>\n",
       "    <tr>\n",
       "      <th>4101</th>\n",
       "      <td>7369</td>\n",
       "      <td>2017.75</td>\n",
       "      <td>0.0</td>\n",
       "      <td>-3.0</td>\n",
       "      <td>0.0</td>\n",
       "      <td>0.0</td>\n",
       "      <td>-19000.0</td>\n",
       "      <td>0.0</td>\n",
       "      <td>0.0</td>\n",
       "      <td>0.0</td>\n",
       "      <td>...</td>\n",
       "      <td>0.0</td>\n",
       "      <td>0.0</td>\n",
       "      <td>0.0</td>\n",
       "      <td>0.0</td>\n",
       "      <td>0.0</td>\n",
       "      <td>0.0</td>\n",
       "      <td>0.0</td>\n",
       "      <td>0.0</td>\n",
       "      <td>2017-12-01</td>\n",
       "      <td>2017-12-29</td>\n",
       "    </tr>\n",
       "    <tr>\n",
       "      <th>4102</th>\n",
       "      <td>7369</td>\n",
       "      <td>2018.00</td>\n",
       "      <td>0.0</td>\n",
       "      <td>-2.0</td>\n",
       "      <td>0.0</td>\n",
       "      <td>0.0</td>\n",
       "      <td>0.0</td>\n",
       "      <td>0.0</td>\n",
       "      <td>0.0</td>\n",
       "      <td>0.0</td>\n",
       "      <td>...</td>\n",
       "      <td>0.0</td>\n",
       "      <td>0.0</td>\n",
       "      <td>0.0</td>\n",
       "      <td>0.0</td>\n",
       "      <td>0.0</td>\n",
       "      <td>-16335.0</td>\n",
       "      <td>0.0</td>\n",
       "      <td>0.0</td>\n",
       "      <td>2018-03-01</td>\n",
       "      <td>2018-03-30</td>\n",
       "    </tr>\n",
       "    <tr>\n",
       "      <th>4103</th>\n",
       "      <td>7369</td>\n",
       "      <td>2018.25</td>\n",
       "      <td>0.0</td>\n",
       "      <td>0.0</td>\n",
       "      <td>0.0</td>\n",
       "      <td>0.0</td>\n",
       "      <td>0.0</td>\n",
       "      <td>0.0</td>\n",
       "      <td>0.0</td>\n",
       "      <td>0.0</td>\n",
       "      <td>...</td>\n",
       "      <td>0.0</td>\n",
       "      <td>0.0</td>\n",
       "      <td>0.0</td>\n",
       "      <td>0.0</td>\n",
       "      <td>0.0</td>\n",
       "      <td>0.0</td>\n",
       "      <td>0.0</td>\n",
       "      <td>0.0</td>\n",
       "      <td>2018-06-01</td>\n",
       "      <td>2018-06-29</td>\n",
       "    </tr>\n",
       "    <tr>\n",
       "      <th>4104</th>\n",
       "      <td>7369</td>\n",
       "      <td>2018.50</td>\n",
       "      <td>0.0</td>\n",
       "      <td>0.0</td>\n",
       "      <td>0.0</td>\n",
       "      <td>0.0</td>\n",
       "      <td>0.0</td>\n",
       "      <td>0.0</td>\n",
       "      <td>0.0</td>\n",
       "      <td>0.0</td>\n",
       "      <td>...</td>\n",
       "      <td>0.0</td>\n",
       "      <td>0.0</td>\n",
       "      <td>0.0</td>\n",
       "      <td>0.0</td>\n",
       "      <td>0.0</td>\n",
       "      <td>0.0</td>\n",
       "      <td>0.0</td>\n",
       "      <td>0.0</td>\n",
       "      <td>2018-09-01</td>\n",
       "      <td>2018-09-28</td>\n",
       "    </tr>\n",
       "    <tr>\n",
       "      <th>4105</th>\n",
       "      <td>7369</td>\n",
       "      <td>2018.75</td>\n",
       "      <td>0.0</td>\n",
       "      <td>-3.0</td>\n",
       "      <td>0.0</td>\n",
       "      <td>0.0</td>\n",
       "      <td>0.0</td>\n",
       "      <td>0.0</td>\n",
       "      <td>0.0</td>\n",
       "      <td>0.0</td>\n",
       "      <td>...</td>\n",
       "      <td>0.0</td>\n",
       "      <td>0.0</td>\n",
       "      <td>0.0</td>\n",
       "      <td>0.0</td>\n",
       "      <td>0.0</td>\n",
       "      <td>0.0</td>\n",
       "      <td>0.0</td>\n",
       "      <td>0.0</td>\n",
       "      <td>2018-12-01</td>\n",
       "      <td>2018-12-31</td>\n",
       "    </tr>\n",
       "    <tr>\n",
       "      <th>106332</th>\n",
       "      <td>7369</td>\n",
       "      <td>2019.00</td>\n",
       "      <td>0.0</td>\n",
       "      <td>-3050.0</td>\n",
       "      <td>0.0</td>\n",
       "      <td>0.0</td>\n",
       "      <td>0.0</td>\n",
       "      <td>0.0</td>\n",
       "      <td>0.0</td>\n",
       "      <td>NaN</td>\n",
       "      <td>...</td>\n",
       "      <td>0.0</td>\n",
       "      <td>0.0</td>\n",
       "      <td>0.0</td>\n",
       "      <td>0.0</td>\n",
       "      <td>0.0</td>\n",
       "      <td>0.0</td>\n",
       "      <td>0.0</td>\n",
       "      <td>0.0</td>\n",
       "      <td>2019-03-01</td>\n",
       "      <td>2019-03-29</td>\n",
       "    </tr>\n",
       "  </tbody>\n",
       "</table>\n",
       "<p>17 rows × 41 columns</p>\n",
       "</div>"
      ],
      "text/plain": [
       "         CIR  RUN_Date  sum.amt_Bank Draft_N  sum.amt_Bank Fee_N  \\\n",
       "4090    7369   2015.00                   0.0                 0.0   \n",
       "4091    7369   2015.25                   0.0               -80.0   \n",
       "4092    7369   2015.50                   0.0                 0.0   \n",
       "4093    7369   2015.75                   0.0               -70.0   \n",
       "4094    7369   2016.00                   0.0                 0.0   \n",
       "4095    7369   2016.25                   0.0                -1.0   \n",
       "4096    7369   2016.50                   0.0                 0.0   \n",
       "4097    7369   2016.75                   0.0                 0.0   \n",
       "4098    7369   2017.00                   0.0                 0.0   \n",
       "4099    7369   2017.25                   0.0                 0.0   \n",
       "4100    7369   2017.50                   0.0                -1.0   \n",
       "4101    7369   2017.75                   0.0                -3.0   \n",
       "4102    7369   2018.00                   0.0                -2.0   \n",
       "4103    7369   2018.25                   0.0                 0.0   \n",
       "4104    7369   2018.50                   0.0                 0.0   \n",
       "4105    7369   2018.75                   0.0                -3.0   \n",
       "106332  7369   2019.00                   0.0             -3050.0   \n",
       "\n",
       "        sum.amt_Bundle Fee_N  sum.amt_Cash Depo_N  sum.amt_Cash Out_N  \\\n",
       "4090                     0.0                  0.0            -20500.0   \n",
       "4091                     0.0                  0.0            -82000.0   \n",
       "4092                     0.0                  0.0           -160500.0   \n",
       "4093                     0.0                  0.0           -105500.0   \n",
       "4094                     0.0                  0.0            -20500.0   \n",
       "4095                     0.0                  0.0                 0.0   \n",
       "4096                     0.0                  0.0                 0.0   \n",
       "4097                     0.0                  0.0             -9000.0   \n",
       "4098                     0.0                  0.0                 0.0   \n",
       "4099                     0.0                  0.0                 0.0   \n",
       "4100                     0.0                  0.0                 0.0   \n",
       "4101                     0.0                  0.0            -19000.0   \n",
       "4102                     0.0                  0.0                 0.0   \n",
       "4103                     0.0                  0.0                 0.0   \n",
       "4104                     0.0                  0.0                 0.0   \n",
       "4105                     0.0                  0.0                 0.0   \n",
       "106332                   0.0                  0.0                 0.0   \n",
       "\n",
       "        sum.amt_Cheque_N  sum.amt_Contra Entry_N  sum.amt_Cr Intr_N  ...  \\\n",
       "4090                 0.0                     0.0                0.0  ...   \n",
       "4091                 0.0                     0.0                0.0  ...   \n",
       "4092                 0.0                     0.0                0.0  ...   \n",
       "4093                 0.0                     0.0                0.0  ...   \n",
       "4094                 0.0                     0.0                0.0  ...   \n",
       "4095                 0.0                     0.0                0.0  ...   \n",
       "4096                 0.0                     0.0                0.0  ...   \n",
       "4097                 0.0                     0.0                0.0  ...   \n",
       "4098                 0.0                     0.0                0.0  ...   \n",
       "4099                 0.0                     0.0                0.0  ...   \n",
       "4100                 0.0                     0.0                0.0  ...   \n",
       "4101                 0.0                     0.0                0.0  ...   \n",
       "4102                 0.0                     0.0                0.0  ...   \n",
       "4103                 0.0                     0.0                0.0  ...   \n",
       "4104                 0.0                     0.0                0.0  ...   \n",
       "4105                 0.0                     0.0                0.0  ...   \n",
       "106332               0.0                     0.0                NaN  ...   \n",
       "\n",
       "        sum.amt_Securities_N  sum.amt_Securities Purchase_N  \\\n",
       "4090                     0.0                            0.0   \n",
       "4091                     0.0                            0.0   \n",
       "4092                     0.0                            0.0   \n",
       "4093                     0.0                            0.0   \n",
       "4094                     0.0                            0.0   \n",
       "4095                     0.0                            0.0   \n",
       "4096                     0.0                            0.0   \n",
       "4097                     0.0                            0.0   \n",
       "4098                     0.0                            0.0   \n",
       "4099                     0.0                            0.0   \n",
       "4100                     0.0                            0.0   \n",
       "4101                     0.0                            0.0   \n",
       "4102                     0.0                            0.0   \n",
       "4103                     0.0                            0.0   \n",
       "4104                     0.0                            0.0   \n",
       "4105                     0.0                            0.0   \n",
       "106332                   0.0                            0.0   \n",
       "\n",
       "        sum.amt_Securities Sale_N  sum.amt_Stdin Order_N  sum.amt_Trnf_N  \\\n",
       "4090                          0.0                    0.0             0.0   \n",
       "4091                          0.0                    0.0             0.0   \n",
       "4092                          0.0                    0.0             0.0   \n",
       "4093                          0.0                    0.0             0.0   \n",
       "4094                          0.0                    0.0             0.0   \n",
       "4095                          0.0                    0.0             0.0   \n",
       "4096                          0.0                    0.0             0.0   \n",
       "4097                          0.0                    0.0             0.0   \n",
       "4098                          0.0                    0.0             0.0   \n",
       "4099                          0.0                    0.0             0.0   \n",
       "4100                          0.0                    0.0             0.0   \n",
       "4101                          0.0                    0.0             0.0   \n",
       "4102                          0.0                    0.0             0.0   \n",
       "4103                          0.0                    0.0             0.0   \n",
       "4104                          0.0                    0.0             0.0   \n",
       "4105                          0.0                    0.0             0.0   \n",
       "106332                        0.0                    0.0             0.0   \n",
       "\n",
       "        sum.amt_Unpaid Fee_N  sum.amt_NA_N  sum.amt_NA_P  RUN_DATE_   RUN_DATE  \n",
       "4090                     0.0           0.0           0.0 2015-03-01 2015-03-31  \n",
       "4091                     0.0           0.0           0.0 2015-06-01 2015-06-30  \n",
       "4092                     0.0           0.0           0.0 2015-09-01 2015-09-30  \n",
       "4093                     0.0           0.0           0.0 2015-12-01 2015-12-31  \n",
       "4094                     0.0           0.0           0.0 2016-03-01 2016-03-31  \n",
       "4095                     0.0           0.0           0.0 2016-06-01 2016-06-30  \n",
       "4096                     0.0           0.0           0.0 2016-09-01 2016-09-30  \n",
       "4097                     0.0           0.0           0.0 2016-12-01 2016-12-30  \n",
       "4098                     0.0           0.0           0.0 2017-03-01 2017-03-31  \n",
       "4099                     0.0           0.0           0.0 2017-06-01 2017-06-30  \n",
       "4100                     0.0           0.0           0.0 2017-09-01 2017-09-29  \n",
       "4101                     0.0           0.0           0.0 2017-12-01 2017-12-29  \n",
       "4102                -16335.0           0.0           0.0 2018-03-01 2018-03-30  \n",
       "4103                     0.0           0.0           0.0 2018-06-01 2018-06-29  \n",
       "4104                     0.0           0.0           0.0 2018-09-01 2018-09-28  \n",
       "4105                     0.0           0.0           0.0 2018-12-01 2018-12-31  \n",
       "106332                   0.0           0.0           0.0 2019-03-01 2019-03-29  \n",
       "\n",
       "[17 rows x 41 columns]"
      ]
     },
     "execution_count": 93,
     "metadata": {},
     "output_type": "execute_result"
    }
   ],
   "source": [
    "transaction_df[transaction_df.CIR==CIR]"
   ]
  },
  {
   "cell_type": "code",
   "execution_count": 89,
   "metadata": {},
   "outputs": [
    {
     "data": {
      "text/html": [
       "<div>\n",
       "<style scoped>\n",
       "    .dataframe tbody tr th:only-of-type {\n",
       "        vertical-align: middle;\n",
       "    }\n",
       "\n",
       "    .dataframe tbody tr th {\n",
       "        vertical-align: top;\n",
       "    }\n",
       "\n",
       "    .dataframe thead th {\n",
       "        text-align: right;\n",
       "    }\n",
       "</style>\n",
       "<table border=\"1\" class=\"dataframe\">\n",
       "  <thead>\n",
       "    <tr style=\"text-align: right;\">\n",
       "      <th></th>\n",
       "      <th>sum.amt_Loan Repay_N</th>\n",
       "      <th>sum.amt_Cr Intr_N</th>\n",
       "      <th>sum.amt_Db Intr_N</th>\n",
       "      <th>sum.amt_Direct Db_N</th>\n",
       "      <th>RUN_DATE</th>\n",
       "    </tr>\n",
       "  </thead>\n",
       "  <tbody>\n",
       "    <tr>\n",
       "      <th>68605</th>\n",
       "      <td>-196589.61</td>\n",
       "      <td>0.0</td>\n",
       "      <td>-10035.91</td>\n",
       "      <td>-7686.0</td>\n",
       "      <td>2015-03-31</td>\n",
       "    </tr>\n",
       "    <tr>\n",
       "      <th>68606</th>\n",
       "      <td>-144173.06</td>\n",
       "      <td>0.0</td>\n",
       "      <td>-3159.13</td>\n",
       "      <td>-6000.0</td>\n",
       "      <td>2015-06-30</td>\n",
       "    </tr>\n",
       "    <tr>\n",
       "      <th>68607</th>\n",
       "      <td>-107847.54</td>\n",
       "      <td>0.0</td>\n",
       "      <td>-1732.92</td>\n",
       "      <td>-4500.0</td>\n",
       "      <td>2015-09-30</td>\n",
       "    </tr>\n",
       "    <tr>\n",
       "      <th>68608</th>\n",
       "      <td>-106092.60</td>\n",
       "      <td>0.0</td>\n",
       "      <td>-1495.49</td>\n",
       "      <td>-4500.0</td>\n",
       "      <td>2015-12-31</td>\n",
       "    </tr>\n",
       "    <tr>\n",
       "      <th>68609</th>\n",
       "      <td>-105215.13</td>\n",
       "      <td>0.0</td>\n",
       "      <td>-0.31</td>\n",
       "      <td>-4500.0</td>\n",
       "      <td>2016-03-31</td>\n",
       "    </tr>\n",
       "    <tr>\n",
       "      <th>68610</th>\n",
       "      <td>-105215.13</td>\n",
       "      <td>0.0</td>\n",
       "      <td>0.00</td>\n",
       "      <td>-3000.0</td>\n",
       "      <td>2016-06-30</td>\n",
       "    </tr>\n",
       "    <tr>\n",
       "      <th>68611</th>\n",
       "      <td>-102440.69</td>\n",
       "      <td>0.0</td>\n",
       "      <td>-494.04</td>\n",
       "      <td>-6000.0</td>\n",
       "      <td>2016-09-30</td>\n",
       "    </tr>\n",
       "    <tr>\n",
       "      <th>68612</th>\n",
       "      <td>-101053.47</td>\n",
       "      <td>0.0</td>\n",
       "      <td>-298.71</td>\n",
       "      <td>-4500.0</td>\n",
       "      <td>2016-12-30</td>\n",
       "    </tr>\n",
       "    <tr>\n",
       "      <th>68613</th>\n",
       "      <td>-101053.47</td>\n",
       "      <td>0.0</td>\n",
       "      <td>-30.41</td>\n",
       "      <td>-4500.0</td>\n",
       "      <td>2017-03-31</td>\n",
       "    </tr>\n",
       "    <tr>\n",
       "      <th>68614</th>\n",
       "      <td>-101053.47</td>\n",
       "      <td>0.0</td>\n",
       "      <td>0.00</td>\n",
       "      <td>-4500.0</td>\n",
       "      <td>2017-06-30</td>\n",
       "    </tr>\n",
       "    <tr>\n",
       "      <th>68615</th>\n",
       "      <td>-99384.00</td>\n",
       "      <td>0.0</td>\n",
       "      <td>-1853.06</td>\n",
       "      <td>-4500.0</td>\n",
       "      <td>2017-09-29</td>\n",
       "    </tr>\n",
       "    <tr>\n",
       "      <th>68616</th>\n",
       "      <td>-96045.06</td>\n",
       "      <td>0.0</td>\n",
       "      <td>-2721.05</td>\n",
       "      <td>-4500.0</td>\n",
       "      <td>2017-12-29</td>\n",
       "    </tr>\n",
       "    <tr>\n",
       "      <th>68617</th>\n",
       "      <td>-96045.06</td>\n",
       "      <td>0.0</td>\n",
       "      <td>-0.47</td>\n",
       "      <td>-4500.0</td>\n",
       "      <td>2018-03-30</td>\n",
       "    </tr>\n",
       "    <tr>\n",
       "      <th>68618</th>\n",
       "      <td>-96045.06</td>\n",
       "      <td>0.0</td>\n",
       "      <td>-378.66</td>\n",
       "      <td>-4500.0</td>\n",
       "      <td>2018-06-29</td>\n",
       "    </tr>\n",
       "    <tr>\n",
       "      <th>68619</th>\n",
       "      <td>-96045.06</td>\n",
       "      <td>0.0</td>\n",
       "      <td>-0.01</td>\n",
       "      <td>-4500.0</td>\n",
       "      <td>2018-09-28</td>\n",
       "    </tr>\n",
       "    <tr>\n",
       "      <th>68620</th>\n",
       "      <td>-96045.06</td>\n",
       "      <td>0.0</td>\n",
       "      <td>0.00</td>\n",
       "      <td>-4500.0</td>\n",
       "      <td>2018-12-31</td>\n",
       "    </tr>\n",
       "    <tr>\n",
       "      <th>110186</th>\n",
       "      <td>-5218647.33</td>\n",
       "      <td>NaN</td>\n",
       "      <td>0.00</td>\n",
       "      <td>-4700.0</td>\n",
       "      <td>2019-03-29</td>\n",
       "    </tr>\n",
       "  </tbody>\n",
       "</table>\n",
       "</div>"
      ],
      "text/plain": [
       "        sum.amt_Loan Repay_N  sum.amt_Cr Intr_N  sum.amt_Db Intr_N  \\\n",
       "68605             -196589.61                0.0          -10035.91   \n",
       "68606             -144173.06                0.0           -3159.13   \n",
       "68607             -107847.54                0.0           -1732.92   \n",
       "68608             -106092.60                0.0           -1495.49   \n",
       "68609             -105215.13                0.0              -0.31   \n",
       "68610             -105215.13                0.0               0.00   \n",
       "68611             -102440.69                0.0            -494.04   \n",
       "68612             -101053.47                0.0            -298.71   \n",
       "68613             -101053.47                0.0             -30.41   \n",
       "68614             -101053.47                0.0               0.00   \n",
       "68615              -99384.00                0.0           -1853.06   \n",
       "68616              -96045.06                0.0           -2721.05   \n",
       "68617              -96045.06                0.0              -0.47   \n",
       "68618              -96045.06                0.0            -378.66   \n",
       "68619              -96045.06                0.0              -0.01   \n",
       "68620              -96045.06                0.0               0.00   \n",
       "110186           -5218647.33                NaN               0.00   \n",
       "\n",
       "        sum.amt_Direct Db_N   RUN_DATE  \n",
       "68605               -7686.0 2015-03-31  \n",
       "68606               -6000.0 2015-06-30  \n",
       "68607               -4500.0 2015-09-30  \n",
       "68608               -4500.0 2015-12-31  \n",
       "68609               -4500.0 2016-03-31  \n",
       "68610               -3000.0 2016-06-30  \n",
       "68611               -6000.0 2016-09-30  \n",
       "68612               -4500.0 2016-12-30  \n",
       "68613               -4500.0 2017-03-31  \n",
       "68614               -4500.0 2017-06-30  \n",
       "68615               -4500.0 2017-09-29  \n",
       "68616               -4500.0 2017-12-29  \n",
       "68617               -4500.0 2018-03-30  \n",
       "68618               -4500.0 2018-06-29  \n",
       "68619               -4500.0 2018-09-28  \n",
       "68620               -4500.0 2018-12-31  \n",
       "110186              -4700.0 2019-03-29  "
      ]
     },
     "execution_count": 89,
     "metadata": {},
     "output_type": "execute_result"
    }
   ],
   "source": [
    "transaction_df[transaction_df.CIR==245][['sum.amt_Loan Repay_N', 'sum.amt_Cr Intr_N',\n",
    " 'sum.amt_Db Intr_N', 'sum.amt_Direct Db_N','RUN_DATE']]"
   ]
  },
  {
   "cell_type": "code",
   "execution_count": null,
   "metadata": {},
   "outputs": [],
   "source": []
  }
 ],
 "metadata": {
  "kernelspec": {
   "display_name": "Python 3",
   "language": "python",
   "name": "python3"
  },
  "language_info": {
   "codemirror_mode": {
    "name": "ipython",
    "version": 3
   },
   "file_extension": ".py",
   "mimetype": "text/x-python",
   "name": "python",
   "nbconvert_exporter": "python",
   "pygments_lexer": "ipython3",
   "version": "3.7.5"
  }
 },
 "nbformat": 4,
 "nbformat_minor": 2
}
